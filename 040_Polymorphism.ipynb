{
 "cells": [
  {
   "cell_type": "code",
   "execution_count": 5,
   "id": "75d43a49",
   "metadata": {},
   "outputs": [
    {
     "name": "stdout",
     "output_type": "stream",
     "text": [
      "Delhi\n",
      "Kathmandu\n",
      "Jayavardhanpura\n"
     ]
    }
   ],
   "source": [
    "# Polymorphism\n",
    "\n",
    "class India :\n",
    "    def capital(self):\n",
    "        print('Delhi')\n",
    "        \n",
    "class Nepal:\n",
    "    def capital(self):\n",
    "        print('Kathmandu')\n",
    "        \n",
    "class Srilanka:\n",
    "    def capital(self):\n",
    "        print('Jayavardhanpura')\n",
    "        \n",
    "ind = India()\n",
    "np = Nepal()\n",
    "sl = Srilanka()\n",
    "\n",
    "ind.capital()\n",
    "np.capital()\n",
    "sl.capital()\n",
    "        \n",
    "        "
   ]
  },
  {
   "cell_type": "code",
   "execution_count": 14,
   "id": "e0f2ebdb",
   "metadata": {},
   "outputs": [
    {
     "name": "stdout",
     "output_type": "stream",
     "text": [
      "Account number is: 1 and Balance is :0\n",
      "Account number is: 2 and Balance is :0\n",
      "Account number is: 1 and Balance is :12000\n",
      "Account number is: 2 and Balance is :400\n",
      "360.0\n",
      "0\n"
     ]
    }
   ],
   "source": [
    "# THIS IS SYMBOLIC IN NATURE\n",
    "# SA INterest = 3%\n",
    "# CA interes = 0%\n",
    "\n",
    "\n",
    "class Account :\n",
    "    counter = 0\n",
    "    def __init__(self,opening_balance=0):\n",
    "        Account.counter = Account.counter + 1\n",
    "        self.id = Account.counter\n",
    "        self.__balance = opening_balance\n",
    "        self.num_tx = 0\n",
    "        self.max_tx = 5\n",
    "        \n",
    "    def __str__(self):\n",
    "        return f\"Account number is: {self.id} and Balance is :{self.__balance}\"\n",
    "    \n",
    "    \n",
    "    def deposite(self,amount):\n",
    "        if amount > 0 and self.num_tx < self.max_tx :\n",
    "            self.__balance = self.__balance + amount\n",
    "            self.num_tx  = self.num_tx + 1\n",
    "        \n",
    "    def withdrawl(self,amount):\n",
    "        if amount > 0 and self.__balance >= amount and self.num_tx < self.max_tx:\n",
    "            self.__balance = self.__balance - amount\n",
    "            self.num_tx = self.num_tx + 1\n",
    "            \n",
    "        \n",
    "        \n",
    "\n",
    "class SavingAccount(Account):\n",
    "    def __init__(self):\n",
    "        super().__init__()\n",
    "        \n",
    "    def get_interest(self):\n",
    "        return self._Account__balance * 0.03  # calling the valua after name mangling\n",
    "\n",
    "class CurrentAccount(Account):\n",
    "    def __init__(self):\n",
    "        super().__init__()\n",
    "        self.max_tx = 100  \n",
    "    \n",
    "    def get_interest(self):\n",
    "        return self._Account__balance *0 \n",
    "        \n",
    "sa1 = SavingAccount()\n",
    "ca1 = CurrentAccount()\n",
    "\n",
    "print(sa1)\n",
    "print(ca1)\n",
    "\n",
    "sa1.deposite(12000)\n",
    "ca1.deposite(400)\n",
    "print(sa1)\n",
    "print(ca1)\n",
    "\n",
    "print(sa1.get_interest())\n",
    "print(ca1.get_interest())\n"
   ]
  },
  {
   "cell_type": "code",
   "execution_count": 15,
   "id": "b25b79f4",
   "metadata": {},
   "outputs": [
    {
     "name": "stdout",
     "output_type": "stream",
     "text": [
      "Account number is: 1 and Balance is :0\n",
      "Account number is: 2 and Balance is :0\n",
      "Account number is: 1 and Balance is :12000\n",
      "Account number is: 2 and Balance is :400\n",
      "360.0\n",
      "0\n"
     ]
    }
   ],
   "source": [
    "# THIS IS SYMBOLIC IN NATURE\n",
    "# SA INterest = 3%\n",
    "# CA interes = 0%\n",
    "\n",
    "\n",
    "class Account :\n",
    "    counter = 0\n",
    "    def __init__(self,opening_balance=0):\n",
    "        Account.counter = Account.counter + 1\n",
    "        self.id = Account.counter\n",
    "        self.__balance = opening_balance\n",
    "        self.num_tx = 0\n",
    "        self.max_tx = 5\n",
    "        \n",
    "    def __str__(self):\n",
    "        return f\"Account number is: {self.id} and Balance is :{self.__balance}\"\n",
    "    \n",
    "    \n",
    "    def deposite(self,amount):\n",
    "        if amount > 0 and self.num_tx < self.max_tx :\n",
    "            self.__balance = self.__balance + amount\n",
    "            self.num_tx  = self.num_tx + 1\n",
    "        \n",
    "    def withdrawl(self,amount):\n",
    "        if amount > 0 and self.__balance >= amount and self.num_tx < self.max_tx:\n",
    "            self.__balance = self.__balance - amount\n",
    "            self.num_tx = self.num_tx + 1\n",
    "            \n",
    "        \n",
    "        \n",
    "\n",
    "class SavingAccount(Account):\n",
    "    def __init__(self):\n",
    "        super().__init__()\n",
    "        \n",
    "    def get_sa_interest(self):\n",
    "        return self._Account__balance * 0.03  # calling the valua after name mangling\n",
    "\n",
    "class CurrentAccount(Account):\n",
    "    def __init__(self):\n",
    "        super().__init__()\n",
    "        self.max_tx = 100  \n",
    "    \n",
    "    def get_ca_interest(self):\n",
    "        return self._Account__balance *0 \n",
    "        \n",
    "sa1 = SavingAccount()\n",
    "ca1 = CurrentAccount()\n",
    "\n",
    "print(sa1)\n",
    "print(ca1)\n",
    "\n",
    "sa1.deposite(12000)\n",
    "ca1.deposite(400)\n",
    "print(sa1)\n",
    "print(ca1)\n",
    "\n",
    "# this is not polymorphism\n",
    "\n",
    "print(sa1.get_sa_interest())\n",
    "print(ca1.get_ca_interest())\n"
   ]
  },
  {
   "cell_type": "code",
   "execution_count": 18,
   "id": "4605f9fd",
   "metadata": {},
   "outputs": [
    {
     "name": "stdout",
     "output_type": "stream",
     "text": [
      "Animals speak in their own way\n",
      "Dogs bark\n",
      "Cats meow\n"
     ]
    }
   ],
   "source": [
    "class Animal:\n",
    "    def speak(self):\n",
    "        print(\"Animals speak in their own way\")\n",
    "\n",
    "class Dog:\n",
    "    def speak(self):\n",
    "        print(\"Dogs bark\")\n",
    "\n",
    "class Cat:\n",
    "    def speak(self):\n",
    "        print(\"Cats meow\")\n",
    "\n",
    "animal = Animal()\n",
    "dog = Dog()\n",
    "cat = Cat()\n",
    "\n",
    "animal.speak()\n",
    "dog.speak()\n",
    "cat.speak()\n",
    "\n"
   ]
  },
  {
   "cell_type": "code",
   "execution_count": 19,
   "id": "0c70e388",
   "metadata": {},
   "outputs": [
    {
     "name": "stdout",
     "output_type": "stream",
     "text": [
      "Dog says: Woof!\n",
      "Cat says: Meow!\n",
      "Cow says: Moo!\n"
     ]
    }
   ],
   "source": [
    "class Animal:\n",
    "    def speak(self):\n",
    "        pass\n",
    "\n",
    "class Dog(Animal):\n",
    "    def speak(self):\n",
    "        return \"Woof!\"\n",
    "\n",
    "class Cat(Animal):\n",
    "    def speak(self):\n",
    "        return \"Meow!\"\n",
    "\n",
    "class Cow(Animal):\n",
    "    def speak(self):\n",
    "        return \"Moo!\"\n",
    "\n",
    "def animal_sound(animal):\n",
    "    return animal.speak()\n",
    "\n",
    "# Creating instances of different classes\n",
    "dog = Dog()\n",
    "cat = Cat()\n",
    "cow = Cow()\n",
    "\n",
    "# Calling the function with different instances\n",
    "print(\"Dog says:\", animal_sound(dog))\n",
    "print(\"Cat says:\", animal_sound(cat))\n",
    "print(\"Cow says:\", animal_sound(cow))\n"
   ]
  },
  {
   "cell_type": "code",
   "execution_count": null,
   "id": "7cdf4cb4",
   "metadata": {},
   "outputs": [],
   "source": []
  }
 ],
 "metadata": {
  "kernelspec": {
   "display_name": "Python 3 (ipykernel)",
   "language": "python",
   "name": "python3"
  },
  "language_info": {
   "codemirror_mode": {
    "name": "ipython",
    "version": 3
   },
   "file_extension": ".py",
   "mimetype": "text/x-python",
   "name": "python",
   "nbconvert_exporter": "python",
   "pygments_lexer": "ipython3",
   "version": "3.11.3"
  }
 },
 "nbformat": 4,
 "nbformat_minor": 5
}
