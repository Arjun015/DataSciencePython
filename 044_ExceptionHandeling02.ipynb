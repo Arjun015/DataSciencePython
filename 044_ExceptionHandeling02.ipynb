{
 "cells": [
  {
   "cell_type": "code",
   "execution_count": 5,
   "id": "0e258d8e",
   "metadata": {},
   "outputs": [
    {
     "name": "stdout",
     "output_type": "stream",
     "text": [
      "Enter the number other than zero:8\n",
      "12.5\n",
      "S\n"
     ]
    }
   ],
   "source": [
    "# revision\n",
    "\n",
    "\n",
    "# using try...except block to cathc the exception\n",
    "\n",
    "a = 100\n",
    "name = 'Supriya'\n",
    "\n",
    "try:\n",
    "    b = int(input('Enter the number other than zero:')) #there is a possibility that user might enter the valuse as '0'\n",
    "    c = a/b\n",
    "    print(c)\n",
    "    print(name[0])\n",
    "    \n",
    "except: \n",
    "    print('Some error occured')#Printing the some generic info only\n",
    "    \n",
    "    \n"
   ]
  },
  {
   "cell_type": "code",
   "execution_count": 7,
   "id": "bb7c5883",
   "metadata": {},
   "outputs": [
    {
     "name": "stdout",
     "output_type": "stream",
     "text": [
      "Enter the number other than zero:0\n",
      "division by zero\n"
     ]
    }
   ],
   "source": [
    "# prnting specific exception using the Built in exception \n",
    "a = 100\n",
    "name = 'Supriya'\n",
    "\n",
    "try:\n",
    "    b = int(input('Enter the number other than zero:')) #there is a possibility that user might enter the valuse as '0'\n",
    "    c = a/b\n",
    "    print(c)\n",
    "    print(name[0])\n",
    "    \n",
    "except Exception as e: \n",
    "    print(e)# prnting specific exception using the Built in exception\n",
    "   "
   ]
  },
  {
   "cell_type": "code",
   "execution_count": 12,
   "id": "088b9bba",
   "metadata": {},
   "outputs": [
    {
     "name": "stdout",
     "output_type": "stream",
     "text": [
      "Enter the number other than zero:3\n",
      "33.333333333333336\n",
      "S\n",
      "Enter the index position to be called:6\n",
      "a\n"
     ]
    }
   ],
   "source": [
    "a = 100\n",
    "name = 'Supriya'\n",
    "\n",
    "try:\n",
    "    b = int(input('Enter the number other than zero:')) #there is a possibility that user might enter the valuse as '0'\n",
    "    c = a/b\n",
    "    print(c)\n",
    "    print(name[0])\n",
    "    \n",
    "    p = int(input('Enter the index position to be called:'))#there is a possibility that user might enter the valuse beyond the index\n",
    "    print(name[p])\n",
    "except Exception as e: \n",
    "    print(e)# prnting specific exception using the Built in exception"
   ]
  },
  {
   "cell_type": "code",
   "execution_count": 13,
   "id": "457177db",
   "metadata": {},
   "outputs": [
    {
     "name": "stdout",
     "output_type": "stream",
     "text": [
      "Enter the number other than zero:8\n",
      "12.5\n",
      "S\n",
      "Enter the index position to be called:9\n",
      "string index out of range\n"
     ]
    }
   ],
   "source": [
    "a = 100\n",
    "name = 'Supriya'\n",
    "\n",
    "try:\n",
    "    b = int(input('Enter the number other than zero:')) #there is a possibility that user might enter the valuse as '0'\n",
    "    c = a/b\n",
    "    print(c)\n",
    "    print(name[0])\n",
    "    \n",
    "    p = int(input('Enter the index position to be called:'))#there is a possibility that user might enter the valuse beyond the index\n",
    "    print(name[p])\n",
    "except Exception as e: \n",
    "    print(e)# prnting specific exception using the Built in exception"
   ]
  },
  {
   "cell_type": "code",
   "execution_count": 14,
   "id": "1122e439",
   "metadata": {},
   "outputs": [
    {
     "name": "stdout",
     "output_type": "stream",
     "text": [
      "Enter the number other than zero:0\n",
      "division by zero\n"
     ]
    }
   ],
   "source": [
    "a = 100\n",
    "name = 'Supriya'\n",
    "\n",
    "try:\n",
    "    b = int(input('Enter the number other than zero:')) #there is a possibility that user might enter the valuse as '0'\n",
    "    c = a/b\n",
    "    print(c)\n",
    "    print(name[0])\n",
    "    \n",
    "    p = int(input('Enter the index position to be called:'))#there is a possibility that user might enter the valuse beyond the index\n",
    "    print(name[p])\n",
    "except Exception as e: \n",
    "    print(e)# prnting specific exception using the Built in exception"
   ]
  },
  {
   "cell_type": "code",
   "execution_count": 15,
   "id": "08cd97d6",
   "metadata": {},
   "outputs": [
    {
     "name": "stdout",
     "output_type": "stream",
     "text": [
      "Enter the number other than zero:0\n",
      "division by zero\n"
     ]
    }
   ],
   "source": [
    "a = 100\n",
    "name = 'Supriya'\n",
    "\n",
    "try:\n",
    "    b = int(input('Enter the number other than zero:')) #there is a possibility that user might enter the valuse as '0'\n",
    "    c = a/b\n",
    "    print(c)\n",
    "    print(name[0])\n",
    "    \n",
    "    p = int(input('Enter the index position to be called:'))#there is a possibility that user might enter the valuse beyond the index\n",
    "    print(name[p])\n",
    "except Exception as e: \n",
    "    print(e)# prnting specific exception using the Built in exception"
   ]
  },
  {
   "cell_type": "code",
   "execution_count": 17,
   "id": "e6ca6350",
   "metadata": {},
   "outputs": [
    {
     "name": "stdout",
     "output_type": "stream",
     "text": [
      "Enter the number other than zero:8\n",
      "12.5\n",
      "S\n",
      "Enter the index position to be called:4\n",
      "i\n",
      "All code executed successfully\n"
     ]
    }
   ],
   "source": [
    "# if the code executed without any excepitions we can inform the same using 'else' block\n",
    "\n",
    "# else block will be executed only if none of the Exception blocks are called\n",
    "\n",
    "\n",
    "a = 100\n",
    "name = 'Supriya'\n",
    "\n",
    "try:\n",
    "    b = int(input('Enter the number other than zero:')) #there is a possibility that user might enter the valuse as '0'\n",
    "    c = a/b\n",
    "    print(c)\n",
    "    print(name[0])\n",
    "    \n",
    "    p = int(input('Enter the index position to be called:'))#there is a possibility that user might enter the valuse beyond the index\n",
    "    print(name[p])\n",
    "except ZeroDivisionError as e: \n",
    "    print(e)# prnting specific exception using the Built in exception\n",
    "    \n",
    "except IndexError as f:\n",
    "    print(f)\n",
    "else: #this will get executed only if the code was without any excception\n",
    "    print('All code executed successfully')"
   ]
  },
  {
   "cell_type": "code",
   "execution_count": 18,
   "id": "db026c84",
   "metadata": {},
   "outputs": [
    {
     "name": "stdout",
     "output_type": "stream",
     "text": [
      "Enter the number other than zero:4\n",
      "25.0\n",
      "S\n",
      "Enter the index position to be called:9\n",
      "string index out of range\n"
     ]
    }
   ],
   "source": [
    "a = 100\n",
    "name = 'Supriya'\n",
    "\n",
    "try:\n",
    "    b = int(input('Enter the number other than zero:')) #there is a possibility that user might enter the valuse as '0'\n",
    "    c = a/b\n",
    "    print(c)\n",
    "    print(name[0])\n",
    "    \n",
    "    p = int(input('Enter the index position to be called:'))#there is a possibility that user might enter the valuse beyond the index\n",
    "    print(name[p])\n",
    "except ZeroDivisionError as e: \n",
    "    print(e)# prnting specific exception using the Built in exception\n",
    "    \n",
    "except IndexError as f:\n",
    "    print(f)\n",
    "else: #this will get executed only if the code was without any excception\n",
    "    print('All code executed successfully')"
   ]
  },
  {
   "cell_type": "code",
   "execution_count": 19,
   "id": "e2c373ed",
   "metadata": {},
   "outputs": [
    {
     "name": "stdout",
     "output_type": "stream",
     "text": [
      "Enter the number other than zero:0\n",
      "division by zero\n"
     ]
    }
   ],
   "source": [
    "a = 100\n",
    "name = 'Supriya'\n",
    "\n",
    "try:\n",
    "    b = int(input('Enter the number other than zero:')) #there is a possibility that user might enter the valuse as '0'\n",
    "    c = a/b\n",
    "    print(c)\n",
    "    print(name[0])\n",
    "    \n",
    "    p = int(input('Enter the index position to be called:'))#there is a possibility that user might enter the valuse beyond the index\n",
    "    print(name[p])\n",
    "except ZeroDivisionError as e: \n",
    "    print(e)# prnting specific exception using the Built in exception\n",
    "    \n",
    "except IndexError as f:\n",
    "    print(f)\n",
    "else: #this will get executed only if the code was without any excception\n",
    "    print('All code executed successfully')"
   ]
  },
  {
   "cell_type": "code",
   "execution_count": 22,
   "id": "580b1345",
   "metadata": {},
   "outputs": [
    {
     "name": "stdout",
     "output_type": "stream",
     "text": [
      "Enter the number other than zero:9\n",
      "11.11111111111111\n",
      "S\n",
      "Enter the index position to be called:2\n",
      "p\n",
      "All code executed successfully\n",
      "This will always be executed, irrespective of code status\n"
     ]
    }
   ],
   "source": [
    "# irrespective of the code execution status 'finally' block will be executed\n",
    "\n",
    "a = 100\n",
    "name = 'Supriya'\n",
    "\n",
    "try:\n",
    "    b = int(input('Enter the number other than zero:')) #there is a possibility that user might enter the valuse as '0'\n",
    "    c = a/b\n",
    "    print(c)\n",
    "    print(name[0])\n",
    "    \n",
    "    p = int(input('Enter the index position to be called:'))#there is a possibility that user might enter the valuse beyond the index\n",
    "    print(name[p])\n",
    "except ZeroDivisionError as e: \n",
    "    print(e)# prnting specific exception using the Built in exception\n",
    "    \n",
    "except IndexError as f:\n",
    "    print(f)\n",
    "else: #this will get executed only if the code was without any excception\n",
    "    print('All code executed successfully')\n",
    "    \n",
    "finally:\n",
    "    print('This will always be executed, irrespective of code status')"
   ]
  },
  {
   "cell_type": "code",
   "execution_count": 26,
   "id": "7e99676b",
   "metadata": {},
   "outputs": [
    {
     "name": "stdout",
     "output_type": "stream",
     "text": [
      "Enter the even number:7\n"
     ]
    },
    {
     "ename": "Exception",
     "evalue": "Enter the even number only",
     "output_type": "error",
     "traceback": [
      "\u001b[1;31m---------------------------------------------------------------------------\u001b[0m",
      "\u001b[1;31mException\u001b[0m                                 Traceback (most recent call last)",
      "Cell \u001b[1;32mIn[26], line 6\u001b[0m\n\u001b[0;32m      4\u001b[0m aa \u001b[38;5;241m=\u001b[39m \u001b[38;5;28mint\u001b[39m(\u001b[38;5;28minput\u001b[39m(\u001b[38;5;124m'\u001b[39m\u001b[38;5;124mEnter the even number:\u001b[39m\u001b[38;5;124m'\u001b[39m))\n\u001b[0;32m      5\u001b[0m \u001b[38;5;28;01mif\u001b[39;00m aa\u001b[38;5;241m%\u001b[39m\u001b[38;5;241m2\u001b[39m\u001b[38;5;241m!=\u001b[39m\u001b[38;5;241m0\u001b[39m:\n\u001b[1;32m----> 6\u001b[0m     \u001b[38;5;28;01mraise\u001b[39;00m \u001b[38;5;167;01mException\u001b[39;00m(\u001b[38;5;124m'\u001b[39m\u001b[38;5;124mEnter the even number only\u001b[39m\u001b[38;5;124m'\u001b[39m)\n\u001b[0;32m      7\u001b[0m \u001b[38;5;28;01melse\u001b[39;00m:\n\u001b[0;32m      8\u001b[0m     \u001b[38;5;28mprint\u001b[39m(\u001b[38;5;124m'\u001b[39m\u001b[38;5;124mEnter the number is even\u001b[39m\u001b[38;5;124m'\u001b[39m)\n",
      "\u001b[1;31mException\u001b[0m: Enter the even number only"
     ]
    }
   ],
   "source": [
    "# User defined Exception\n",
    "\n",
    "\n",
    "aa = int(input('Enter the even number:'))\n",
    "if aa%2!=0:\n",
    "    raise Exception('Enter the even number only')\n",
    "else:\n",
    "    print('Enter the number is even')\n"
   ]
  },
  {
   "cell_type": "code",
   "execution_count": 2,
   "id": "c8a5e6a1",
   "metadata": {},
   "outputs": [
    {
     "name": "stdout",
     "output_type": "stream",
     "text": [
      "Invalid year of birth, enter proper year\n",
      "This is important\n"
     ]
    }
   ],
   "source": [
    "# raising the user defined exception\n",
    "# handeling the exception\n",
    "\n",
    "def Calculate_Age(born_yr):\n",
    "    currentYear = 2023\n",
    "    \n",
    "    if born_yr > currentYear :\n",
    "        raise Exception('Invalid Year of birth')\n",
    "    else:\n",
    "        age = currentYear - born_yr\n",
    "        print(age)\n",
    "        \n",
    "try:\n",
    "    Calculate_Age(2034)\n",
    "except:\n",
    "    print(\"Invalid year of birth, enter proper year\")\n",
    "    \n",
    "finally:\n",
    "    print('This is important')"
   ]
  },
  {
   "cell_type": "code",
   "execution_count": 6,
   "id": "1e15a9a4",
   "metadata": {},
   "outputs": [
    {
     "name": "stdout",
     "output_type": "stream",
     "text": [
      "Invalid year of birth, enter proper year\n",
      "This is important\n"
     ]
    }
   ],
   "source": [
    "def Calculate_Age(born_yr):\n",
    "    currentYear = 2023\n",
    "    \n",
    "    if born_yr > currentYear :\n",
    "        raise Exception('Invalid Year of birth')\n",
    "    else:\n",
    "        age = currentYear - born_yr\n",
    "        print(age)\n",
    "        \n",
    "try:\n",
    "    Calculate_Age(18244)\n",
    "except:\n",
    "    print(\"Invalid year of birth, enter proper year\")\n",
    "    \n",
    "finally:\n",
    "    print('This is important')"
   ]
  },
  {
   "cell_type": "code",
   "execution_count": null,
   "id": "7b933cf1",
   "metadata": {},
   "outputs": [],
   "source": []
  }
 ],
 "metadata": {
  "kernelspec": {
   "display_name": "Python 3 (ipykernel)",
   "language": "python",
   "name": "python3"
  },
  "language_info": {
   "codemirror_mode": {
    "name": "ipython",
    "version": 3
   },
   "file_extension": ".py",
   "mimetype": "text/x-python",
   "name": "python",
   "nbconvert_exporter": "python",
   "pygments_lexer": "ipython3",
   "version": "3.11.3"
  }
 },
 "nbformat": 4,
 "nbformat_minor": 5
}
