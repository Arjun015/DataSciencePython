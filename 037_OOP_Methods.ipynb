{
 "cells": [
  {
   "cell_type": "code",
   "execution_count": 1,
   "id": "998166c7",
   "metadata": {},
   "outputs": [],
   "source": [
    "# creat a class Account\n",
    "# acc id and balance\n",
    "# acc 1 , id =1 , bal =100\n",
    "# acc 2 ; id =2 , bal = 0"
   ]
  },
  {
   "cell_type": "code",
   "execution_count": 5,
   "id": "15615735",
   "metadata": {},
   "outputs": [
    {
     "name": "stdout",
     "output_type": "stream",
     "text": [
      "Account number is:1 and Balance is:100\n",
      "Account number is:2 and Balance is:0\n"
     ]
    }
   ],
   "source": [
    "class Account:\n",
    "    counter = 0  #class attribute\n",
    "    def __init__(self ,opening_balance=0):\n",
    "        Account.counter = Account.counter + 1 \n",
    "        self.id = Account.counter\n",
    "        self.balance = opening_balance\n",
    "        \n",
    "    def __str__(self):\n",
    "        return f\"Account number is:{self.id} and Balance is:{self.balance}\"\n",
    "    \n",
    "a1 = Account(100)\n",
    "print(a1)\n",
    "\n",
    "a2 = Account()\n",
    "print(a2)"
   ]
  },
  {
   "cell_type": "code",
   "execution_count": 12,
   "id": "0a2e348a",
   "metadata": {},
   "outputs": [
    {
     "name": "stdout",
     "output_type": "stream",
     "text": [
      "Account number is: 1 and Balance is :300\n",
      "Account number is: 2 and Balance is :0\n",
      "Account number is: 1 and Balance is :400\n",
      "Account number is: 1 and Balance is :1400\n",
      "Account number is: 2 and Balance is :200\n"
     ]
    }
   ],
   "source": [
    "# More functionality added to the Account\n",
    "# deposite\n",
    "\n",
    "class Account :\n",
    "    counter = 0\n",
    "    def __init__(self,opening_balance=0):\n",
    "        Account.counter = Account.counter + 1\n",
    "        self.id = Account.counter\n",
    "        self.balance = opening_balance\n",
    "        \n",
    "    def __str__(self):\n",
    "        return f\"Account number is: {self.id} and Balance is :{self.balance}\"\n",
    "    \n",
    "    \n",
    "    def deposite(self,amount):\n",
    "        self.balance = self.balance + amount\n",
    "        \n",
    "        \n",
    "a1 = Account(300)\n",
    "print(a1)\n",
    "\n",
    "a2 = Account()\n",
    "print(a2)\n",
    "        \n",
    "    \n",
    "a1.deposite(100) \n",
    "print(a1)\n",
    "\n",
    "a1.deposite(1000)\n",
    "print(a1)\n",
    "\n",
    "a2.deposite(200)\n",
    "print(a2)"
   ]
  },
  {
   "cell_type": "code",
   "execution_count": 14,
   "id": "1944e2aa",
   "metadata": {},
   "outputs": [
    {
     "name": "stdout",
     "output_type": "stream",
     "text": [
      "Account number is: 1 and Balance is :300\n",
      "Account number is: 2 and Balance is :0\n",
      "Account number is: 1 and Balance is :250\n",
      "Account number is: 1 and Balance is :-250\n"
     ]
    }
   ],
   "source": [
    "# withdrawl\n",
    "\n",
    "class Account :\n",
    "    counter = 0\n",
    "    def __init__(self,opening_balance=0):\n",
    "        Account.counter = Account.counter + 1\n",
    "        self.id = Account.counter\n",
    "        self.balance = opening_balance\n",
    "        \n",
    "    def __str__(self):\n",
    "        return f\"Account number is: {self.id} and Balance is :{self.balance}\"\n",
    "    \n",
    "    \n",
    "    def deposite(self,amount):\n",
    "        self.balance = self.balance + amount\n",
    "        \n",
    "    def withdrawl(self,amount):\n",
    "        self.balance = self.balance - amount\n",
    "        \n",
    "        \n",
    "a1 = Account(300)\n",
    "print(a1)\n",
    "\n",
    "a2 = Account()\n",
    "print(a2)\n",
    "        \n",
    "    \n",
    "a1.withdrawl(50)\n",
    "print(a1)\n",
    "\n",
    "a1.withdrawl(500)\n",
    "print(a1)"
   ]
  },
  {
   "cell_type": "code",
   "execution_count": 24,
   "id": "27ebc7df",
   "metadata": {},
   "outputs": [
    {
     "name": "stdout",
     "output_type": "stream",
     "text": [
      "Account number is: 1 and Balance is :300\n",
      "Account number is: 1 and Balance is :300\n",
      "Account number is: 2 and Balance is :0\n",
      "Account number is: 1 and Balance is :250\n",
      "Account number is: 1 and Balance is :250\n",
      "Account number is: 1 and Balance is :250\n"
     ]
    }
   ],
   "source": [
    "# adding more functionalities to the acc\n",
    "# withdrawal\n",
    "#  addding checks on the function\n",
    "\n",
    "class Account :\n",
    "    counter = 0\n",
    "    def __init__(self,opening_balance=0):\n",
    "        Account.counter = Account.counter + 1\n",
    "        self.id = Account.counter\n",
    "        self.balance = opening_balance\n",
    "        \n",
    "    def __str__(self):\n",
    "        return f\"Account number is: {self.id} and Balance is :{self.balance}\"\n",
    "    \n",
    "    \n",
    "    def deposite(self,amount):\n",
    "        if amount > 0 :\n",
    "            self.balance = self.balance + amount\n",
    "        \n",
    "    def withdrawl(self,amount):\n",
    "        if amount > 0 and self.balance >= amount:\n",
    "            self.balance = self.balance - amount\n",
    "            #print('Insufficient balance')\n",
    "        \n",
    "        \n",
    "a1 = Account(300)\n",
    "print(a1)\n",
    "\n",
    "a1.withdrawl(500)\n",
    "print(a1)\n",
    "\n",
    "a2 = Account()\n",
    "print(a2)\n",
    "        \n",
    "    \n",
    "a1.withdrawl(50)\n",
    "print(a1)\n",
    "\n",
    "a1.withdrawl(500)\n",
    "print(a1)\n",
    "\n",
    "a1.withdrawl(-800) #no neg amount can be deposited\n",
    "print(a1)"
   ]
  },
  {
   "cell_type": "code",
   "execution_count": null,
   "id": "3e5f9003",
   "metadata": {},
   "outputs": [],
   "source": []
  }
 ],
 "metadata": {
  "kernelspec": {
   "display_name": "Python 3 (ipykernel)",
   "language": "python",
   "name": "python3"
  },
  "language_info": {
   "codemirror_mode": {
    "name": "ipython",
    "version": 3
   },
   "file_extension": ".py",
   "mimetype": "text/x-python",
   "name": "python",
   "nbconvert_exporter": "python",
   "pygments_lexer": "ipython3",
   "version": "3.11.3"
  }
 },
 "nbformat": 4,
 "nbformat_minor": 5
}
