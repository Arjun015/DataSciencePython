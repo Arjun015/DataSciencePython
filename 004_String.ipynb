{
 "cells": [
  {
   "cell_type": "code",
   "execution_count": null,
   "id": "a45cc2a2",
   "metadata": {},
   "outputs": [],
   "source": [
    "#################################################\n",
    "#  TOPICS TO BE COVERED \n",
    "# 👉 Strings in Python\n",
    "#################################################"
   ]
  },
  {
   "cell_type": "code",
   "execution_count": 5,
   "id": "b0c60442",
   "metadata": {},
   "outputs": [
    {
     "name": "stdout",
     "output_type": "stream",
     "text": [
      "<class 'str'>\n"
     ]
    },
    {
     "data": {
      "text/plain": [
       "'Arjun JAdhav'"
      ]
     },
     "execution_count": 5,
     "metadata": {},
     "output_type": "execute_result"
    }
   ],
   "source": [
    "name = 'Arjun JAdhav'\n",
    "print(type(name))\n",
    "name"
   ]
  },
  {
   "cell_type": "code",
   "execution_count": 3,
   "id": "54db2907",
   "metadata": {},
   "outputs": [
    {
     "name": "stdout",
     "output_type": "stream",
     "text": [
      "<class 'str'>\n"
     ]
    }
   ],
   "source": [
    "name1 = \"India is my country\"\n",
    "print(type(name1))"
   ]
  },
  {
   "cell_type": "code",
   "execution_count": 6,
   "id": "0b429c4e",
   "metadata": {},
   "outputs": [
    {
     "data": {
      "text/plain": [
       "'Nashik'"
      ]
     },
     "execution_count": 6,
     "metadata": {},
     "output_type": "execute_result"
    }
   ],
   "source": [
    "place = \"Nashik\"\n",
    "place"
   ]
  },
  {
   "cell_type": "code",
   "execution_count": 7,
   "id": "7f328dec",
   "metadata": {},
   "outputs": [
    {
     "name": "stdout",
     "output_type": "stream",
     "text": [
      "Arjun JAdhav India is my country Nashik\n"
     ]
    }
   ],
   "source": [
    "print(name,name1,place)"
   ]
  },
  {
   "cell_type": "code",
   "execution_count": 8,
   "id": "47a5c31c",
   "metadata": {},
   "outputs": [
    {
     "name": "stdout",
     "output_type": "stream",
     "text": [
      "India is my country  from  Nashik loves Arjun JAdhav\n"
     ]
    }
   ],
   "source": [
    "print(name1 ,\" from \", place, \"loves\", name)"
   ]
  },
  {
   "cell_type": "code",
   "execution_count": null,
   "id": "c2c8b270",
   "metadata": {},
   "outputs": [],
   "source": [
    "# string formatting\n",
    "# f-string"
   ]
  }
 ],
 "metadata": {
  "kernelspec": {
   "display_name": "Python 3 (ipykernel)",
   "language": "python",
   "name": "python3"
  },
  "language_info": {
   "codemirror_mode": {
    "name": "ipython",
    "version": 3
   },
   "file_extension": ".py",
   "mimetype": "text/x-python",
   "name": "python",
   "nbconvert_exporter": "python",
   "pygments_lexer": "ipython3",
   "version": "3.11.3"
  }
 },
 "nbformat": 4,
 "nbformat_minor": 5
}
