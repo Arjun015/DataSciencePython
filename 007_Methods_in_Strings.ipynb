{
 "cells": [
  {
   "cell_type": "code",
   "execution_count": 1,
   "id": "490c0df5",
   "metadata": {},
   "outputs": [
    {
     "data": {
      "text/plain": [
       "'\\n8.endswith():Returns true if the string ends with the specified value\\n9.isalnum(): Returns True if all characters in the string are alphanumeric\\n10.isalpha(): Returns True if all characters in the string are in the alphabet\\n11.isdigit(): Returns True if the string consists only of digits, False otherwise.\\n12.islower(): Returns True if the string is all lowercase, False otherwise.\\n13.isupper(): Returns True if the string is all uppercase, False otherwise.\\n14.isspace(): Returns True if the string consists only of whitespace characters, False otherwise.\\n15.istitle(): Returns True if the string is titlecased, False otherwise.\\n'"
      ]
     },
     "execution_count": 1,
     "metadata": {},
     "output_type": "execute_result"
    }
   ],
   "source": [
    "# Boolean Methods\n",
    "# True and false\n",
    "'''\n",
    "8.endswith():Returns true if the string ends with the specified value\n",
    "9.isalnum(): Returns True if all characters in the string are alphanumeric\n",
    "10.isalpha(): Returns True if all characters in the string are in the alphabet\n",
    "11.isdigit(): Returns True if the string consists only of digits, False otherwise.\n",
    "12.islower(): Returns True if the string is all lowercase, False otherwise.\n",
    "13.isupper(): Returns True if the string is all uppercase, False otherwise.\n",
    "14.isspace(): Returns True if the string consists only of whitespace characters, False otherwise.\n",
    "15.istitle(): Returns True if the string is titlecased, False otherwise.\n",
    "16.startswith(): Returns True if the string starts with the specified prefix, False otherwise.\n",
    "'''"
   ]
  },
  {
   "cell_type": "code",
   "execution_count": 8,
   "id": "d6820e8f",
   "metadata": {},
   "outputs": [
    {
     "name": "stdout",
     "output_type": "stream",
     "text": [
      "True\n",
      "False\n",
      "True\n",
      "False\n",
      "False\n",
      "False\n"
     ]
    }
   ],
   "source": [
    "# 8.endswith():  Returns true if the string ends with the specified value\n",
    "\n",
    "as1 = \"Hello Arjun!Good Morning\"\n",
    "print(as1.endswith('Morning')) #True\n",
    "\n",
    "print(as1.endswith('morning')) #False\n",
    "print(as1.endswith('g')) #True\n",
    "print(as1.endswith('G'))# False , letter is capital.\n",
    "print(as1.endswith('n')) #False\n",
    "print(as1.endswith('Good')) #False\n"
   ]
  },
  {
   "cell_type": "code",
   "execution_count": 11,
   "id": "4ad5f0a4",
   "metadata": {},
   "outputs": [
    {
     "name": "stdout",
     "output_type": "stream",
     "text": [
      "False\n",
      "False\n",
      "True\n",
      "True\n"
     ]
    }
   ],
   "source": [
    "#9.startswith(): Returns True if the string starts with the specified prefix, False otherwise.\n",
    "\n",
    "bs1 = \"Sundhara!Manamadhe Basali\"\n",
    "print(bs1.startswith('s')) #False,letter is small.\n",
    "print(bs1.startswith('u')) #False\n",
    "print(bs1.startswith('S')) # True\n",
    "print(bs1.startswith('Sundhara')) #True"
   ]
  },
  {
   "cell_type": "code",
   "execution_count": 23,
   "id": "809d31f6",
   "metadata": {},
   "outputs": [
    {
     "name": "stdout",
     "output_type": "stream",
     "text": [
      "True\n",
      "True\n",
      "False\n",
      "True\n"
     ]
    }
   ],
   "source": [
    "#10.isalnum(): Returns True if all characters in the string are alphanumeric\n",
    "#              Both number and character are allowed\n",
    "#              But Symbol is not allowed ,return false\n",
    "\n",
    "numA = \"A12bdkabdkabk34567A890\"\n",
    "print(numA.isalnum()) #True\n",
    "print(numA.isalnum()) #True\n",
    "\n",
    "numB = \"ajn!\"\n",
    "print(numB.isalnum()) # symbol is not allowed\n",
    "\n",
    "numC = \"11u2jsdkjs\"\n",
    "print(numC.isalnum()) # True\n"
   ]
  },
  {
   "cell_type": "code",
   "execution_count": 26,
   "id": "1edb90be",
   "metadata": {},
   "outputs": [
    {
     "name": "stdout",
     "output_type": "stream",
     "text": [
      "True\n",
      "False\n",
      "False\n"
     ]
    }
   ],
   "source": [
    "# 11. isalpha():  Returns True if all characters in the string are in the alphabet\n",
    "\n",
    "\n",
    "'''\n",
    "If condition is ,\n",
    "True: All character is alphabets\n",
    "False:not allowed symbol and number\n",
    "\n",
    "'''\n",
    "\n",
    "\n",
    "\n",
    "alpha = \"abcdefgh\"\n",
    "print(alpha.isalpha()) # True\n",
    "\n",
    "alpha1 = \"abcdg123\"\n",
    "print(alpha1.isalpha()) # False\n",
    "\n",
    "alpha2 = \"abcdg@#$\"\n",
    "print(alpha2.isalpha())# False"
   ]
  },
  {
   "cell_type": "code",
   "execution_count": 30,
   "id": "3222ca7e",
   "metadata": {},
   "outputs": [
    {
     "name": "stdout",
     "output_type": "stream",
     "text": [
      "True\n",
      "False\n",
      "False\n"
     ]
    }
   ],
   "source": [
    "#12.isdigit(): Returns True if the string consists only of digits, False otherwise.\n",
    "#             Only allowed number\n",
    "\n",
    "dig1 = \"123344\"\n",
    "print(dig1.isdigit()) # True\n",
    "\n",
    "dig2 = \"absdc12345\"\n",
    "print(dig2.isdigit()) #False\n",
    "\n",
    "dig3 = \"1233@3$\"\n",
    "print(dig3.isdigit())# False"
   ]
  },
  {
   "cell_type": "code",
   "execution_count": 34,
   "id": "9e489662",
   "metadata": {},
   "outputs": [
    {
     "name": "stdout",
     "output_type": "stream",
     "text": [
      "False\n",
      "True\n",
      "False\n",
      "True\n"
     ]
    }
   ],
   "source": [
    "# 13.islower() : Returns True if the string is all lowercase, False otherwise.\n",
    "\n",
    "fruit = \"Mango\"\n",
    "print(fruit.islower()) # False\n",
    "\n",
    "\n",
    "fruit1 = \"mango\"\n",
    "print(fruit1.islower()) # True\n",
    "\n",
    "fruit2 = \"Cashunet\"\n",
    "print(fruit2.islower()) # False\n",
    "\n",
    "fruit3 = \"cashu\"\n",
    "print(fruit3.islower()) #True\n"
   ]
  },
  {
   "cell_type": "code",
   "execution_count": 35,
   "id": "2d8eac18",
   "metadata": {},
   "outputs": [
    {
     "name": "stdout",
     "output_type": "stream",
     "text": [
      "False\n",
      "True\n",
      "False\n",
      "True\n"
     ]
    }
   ],
   "source": [
    "# 14. isupper() :Returns True if the string is all Uppercase, False otherwise.\n",
    "\n",
    "\n",
    "fruit = \"Mango\"\n",
    "print(fruit.isupper()) # False\n",
    "\n",
    "\n",
    "fruit1 = \"MANGO\"\n",
    "print(fruit1.isupper()) # True\n",
    "\n",
    "fruit2 = \"Cashunet\"\n",
    "print(fruit2.isupper()) # False\n",
    "\n",
    "fruit3 = \"CASHU\"\n",
    "print(fruit3.isupper()) #True\n",
    "\n"
   ]
  },
  {
   "cell_type": "code",
   "execution_count": 46,
   "id": "642e9d1e",
   "metadata": {},
   "outputs": [
    {
     "name": "stdout",
     "output_type": "stream",
     "text": [
      "True\n",
      "False\n",
      "False\n",
      "False\n",
      "True\n",
      "True\n",
      "True\n"
     ]
    }
   ],
   "source": [
    "#15.isspace(): Returns True if the string consists only of whitespace characters, False otherwise.\n",
    "\n",
    "#whitespace characters.\n",
    "'''\n",
    "#whiteSpace characters\n",
    "1.Space: ' '\n",
    "2.Horizontal tab: '\\t'\n",
    "3.Newline: '\\n'\n",
    "4.Vertical tab: '\\v'\n",
    "5.Formfeed: '\\f'\n",
    "6.Carriage return: '\\r'\n",
    "'''\n",
    "\n",
    "ass = \" \"\n",
    "print(ass.isspace()) #True\n",
    "\n",
    "ass1 = \"Arjun\"\n",
    "print(ass1.isspace()) # False\n",
    "\n",
    "ass2 = \" Supreme \"\n",
    "print(ass2.isspace()) # False\n",
    "\n",
    "ass3 = \"B A P P A\"\n",
    "print(ass3.isspace()) # False\n",
    "\n",
    "ass4 = \"\\t\"\n",
    "print(ass4.isspace()) # True\n",
    "\n",
    "ass5 = \"\\n\"\n",
    "print(ass5.isspace()) # True\n",
    "\n",
    "ass6 = \"\\f\"\n",
    "print(ass6.isspace()) # True"
   ]
  },
  {
   "cell_type": "code",
   "execution_count": 52,
   "id": "d384e1b1",
   "metadata": {},
   "outputs": [
    {
     "name": "stdout",
     "output_type": "stream",
     "text": [
      "True\n",
      "False\n"
     ]
    }
   ],
   "source": [
    "# 16.istitle(): Returns True if the string is titlecased, False otherwise.\n",
    "\n",
    "title = \"The Veer King\"\n",
    "print(title.istitle()) # True\n",
    "\n",
    "title2 = \"the veer king\"\n",
    "print(title2.istitle()) # False\n",
    "\n",
    "\n",
    "\n",
    "\n",
    "\n",
    "# print(----------------End Boolean Methods -------------------------)"
   ]
  },
  {
   "cell_type": "code",
   "execution_count": 57,
   "id": "7c9d58ec",
   "metadata": {},
   "outputs": [
    {
     "name": "stdout",
     "output_type": "stream",
     "text": [
      "24\n",
      "-1\n",
      "13\n",
      "58\n",
      "46\n"
     ]
    }
   ],
   "source": [
    "# 17. find():Searches the string for a specified value and returns the position of where it was found,otherwise return -1.\n",
    "\n",
    "text = \"OpenAI is an artificial intelligence research organization.\"\n",
    "print(text.find('intelligence')) #24\n",
    "\n",
    "\n",
    "print(text.find('openai')) #-1\n",
    "print(text.find('artificial')) #13\n",
    "\n",
    "print(text.find('.')) #58\n",
    "print(text.find('organization')) #46\n",
    "\n"
   ]
  },
  {
   "cell_type": "code",
   "execution_count": 61,
   "id": "634a2841",
   "metadata": {},
   "outputs": [
    {
     "name": "stdout",
     "output_type": "stream",
     "text": [
      "13\n",
      "31\n",
      "26\n"
     ]
    }
   ],
   "source": [
    "#18.# index():Searches the string for a specified value and returns the position of where it was found,otherwise \n",
    "#                                                                                                            gives value error.\n",
    "\n",
    "varry = \"Intelligence Power is the Best Powerr\"\n",
    "print(varry.index('Power'))#13\n",
    "#print(varry.index('IS')) #value error\n",
    "print(varry.index('Powerr'))#31\n",
    "print(varry.index('Best')) # 26\n"
   ]
  },
  {
   "cell_type": "code",
   "execution_count": 64,
   "id": "894db8f3",
   "metadata": {},
   "outputs": [
    {
     "name": "stdout",
     "output_type": "stream",
     "text": [
      "Today is weekday\n",
      "Today is Holiday\n",
      "Today is weekend\n"
     ]
    }
   ],
   "source": [
    "# 19.replace():Returns a string where a specified value is replaced with a specified value\n",
    "\n",
    "s1 = \"Today is weekend\"\n",
    "print(s1.replace(\"weekend\",\"weekday\"))\n",
    "print(s1.replace('weekend','Holiday'))\n",
    "print(s1)"
   ]
  },
  {
   "cell_type": "code",
   "execution_count": 70,
   "id": "4bd00d28",
   "metadata": {},
   "outputs": [
    {
     "name": "stdout",
     "output_type": "stream",
     "text": [
      "['Today', 'is', '@Janmastami']\n",
      "['Today is ', 'Janmastami']\n",
      "['admin@123gmail', 'com']\n",
      "['admin@123gmail.com']\n"
     ]
    }
   ],
   "source": [
    "# split():Splits the string at the specified separator, and returns a list.\n",
    "\n",
    "ss1 = \"Today is @Janmastami\"\n",
    "print(ss1.split(\" \"))\n",
    "print(ss1.split('@'))\n",
    "\n",
    "email = \"admin@123gmail.com\"\n",
    "print(email.split('.')) # list\n",
    "print(email.split(','))"
   ]
  },
  {
   "cell_type": "code",
   "execution_count": null,
   "id": "77832897",
   "metadata": {},
   "outputs": [],
   "source": []
  }
 ],
 "metadata": {
  "kernelspec": {
   "display_name": "Python 3 (ipykernel)",
   "language": "python",
   "name": "python3"
  },
  "language_info": {
   "codemirror_mode": {
    "name": "ipython",
    "version": 3
   },
   "file_extension": ".py",
   "mimetype": "text/x-python",
   "name": "python",
   "nbconvert_exporter": "python",
   "pygments_lexer": "ipython3",
   "version": "3.11.3"
  }
 },
 "nbformat": 4,
 "nbformat_minor": 5
}
