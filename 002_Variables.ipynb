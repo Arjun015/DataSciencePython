{
 "cells": [
  {
   "cell_type": "code",
   "execution_count": 1,
   "id": "50177a45",
   "metadata": {},
   "outputs": [],
   "source": [
    "#  TOPICS TO BE COVERED \n",
    "#  👉 Intro to  Python\n",
    "#  👉 Variables in Python\n",
    "#################################################\n",
    "\n",
    "\n",
    "# variables in Python\n"
   ]
  },
  {
   "cell_type": "code",
   "execution_count": 2,
   "id": "3946cb95",
   "metadata": {},
   "outputs": [
    {
     "name": "stdout",
     "output_type": "stream",
     "text": [
      "200\n"
     ]
    }
   ],
   "source": [
    "x = 200\n",
    "print(x)"
   ]
  },
  {
   "cell_type": "code",
   "execution_count": 4,
   "id": "5b5e79bb",
   "metadata": {},
   "outputs": [
    {
     "name": "stdout",
     "output_type": "stream",
     "text": [
      "Ganesh ji\n"
     ]
    }
   ],
   "source": [
    "name = \"Ganesh ji\"\n",
    "print(name)"
   ]
  },
  {
   "cell_type": "code",
   "execution_count": 5,
   "id": "12d1a6ea",
   "metadata": {},
   "outputs": [
    {
     "name": "stdout",
     "output_type": "stream",
     "text": [
      "34448933232\n"
     ]
    }
   ],
   "source": [
    "ss = 34448933232\n",
    "print(ss)"
   ]
  },
  {
   "cell_type": "code",
   "execution_count": 6,
   "id": "da30d3a5",
   "metadata": {},
   "outputs": [
    {
     "ename": "TypeError",
     "evalue": "unsupported operand type(s) for @: 'int' and 'int'",
     "output_type": "error",
     "traceback": [
      "\u001b[1;31m---------------------------------------------------------------------------\u001b[0m",
      "\u001b[1;31mTypeError\u001b[0m                                 Traceback (most recent call last)",
      "Cell \u001b[1;32mIn[6], line 1\u001b[0m\n\u001b[1;32m----> 1\u001b[0m rr \u001b[38;5;241m=\u001b[39m \u001b[38;5;241m53\u001b[39m\u001b[38;5;241m@\u001b[39m\u001b[38;5;241m32\u001b[39m\n\u001b[0;32m      2\u001b[0m \u001b[38;5;28mprint\u001b[39m(rr)\n",
      "\u001b[1;31mTypeError\u001b[0m: unsupported operand type(s) for @: 'int' and 'int'"
     ]
    }
   ],
   "source": [
    "rr = 53@32\n",
    "print(rr)"
   ]
  },
  {
   "cell_type": "code",
   "execution_count": 7,
   "id": "e5fc6678",
   "metadata": {},
   "outputs": [
    {
     "name": "stdout",
     "output_type": "stream",
     "text": [
      "53@32\n"
     ]
    }
   ],
   "source": [
    "rr = \"53@32\"\n",
    "print(rr)"
   ]
  },
  {
   "cell_type": "code",
   "execution_count": 8,
   "id": "eb2d30f1",
   "metadata": {},
   "outputs": [
    {
     "name": "stdout",
     "output_type": "stream",
     "text": [
      "Arjun is very Intelligence Man\n"
     ]
    }
   ],
   "source": [
    "Name_1 = \"Arjun is very Intelligence Man\"\n",
    "print(Name_1)"
   ]
  },
  {
   "cell_type": "code",
   "execution_count": 9,
   "id": "5522204b",
   "metadata": {},
   "outputs": [],
   "source": [
    "# Allowed "
   ]
  },
  {
   "cell_type": "code",
   "execution_count": 10,
   "id": "61f5bdb9",
   "metadata": {},
   "outputs": [
    {
     "name": "stdout",
     "output_type": "stream",
     "text": [
      "Arjun Sanjana Data Analyst\n"
     ]
    }
   ],
   "source": [
    "Name = \"Arjun\"\n",
    "nAam = \"Sanjana\"\n",
    "namE1 = \"Data Analyst\"\n",
    "print(Name,nAam,namE1)"
   ]
  },
  {
   "cell_type": "code",
   "execution_count": 11,
   "id": "92ef92e2",
   "metadata": {},
   "outputs": [],
   "source": [
    "# Not Allowed "
   ]
  },
  {
   "cell_type": "code",
   "execution_count": 12,
   "id": "36d9d62b",
   "metadata": {},
   "outputs": [
    {
     "ename": "SyntaxError",
     "evalue": "invalid syntax (740434020.py, line 2)",
     "output_type": "error",
     "traceback": [
      "\u001b[1;36m  Cell \u001b[1;32mIn[12], line 2\u001b[1;36m\u001b[0m\n\u001b[1;33m    print(!123)\u001b[0m\n\u001b[1;37m          ^\u001b[0m\n\u001b[1;31mSyntaxError\u001b[0m\u001b[1;31m:\u001b[0m invalid syntax\n"
     ]
    }
   ],
   "source": [
    "!123 = 123\n",
    "print(!123)"
   ]
  },
  {
   "cell_type": "code",
   "execution_count": 13,
   "id": "45d8fa58",
   "metadata": {},
   "outputs": [
    {
     "ename": "SyntaxError",
     "evalue": "invalid syntax (1987528085.py, line 1)",
     "output_type": "error",
     "traceback": [
      "\u001b[1;36m  Cell \u001b[1;32mIn[13], line 1\u001b[1;36m\u001b[0m\n\u001b[1;33m    $123 = 123\u001b[0m\n\u001b[1;37m    ^\u001b[0m\n\u001b[1;31mSyntaxError\u001b[0m\u001b[1;31m:\u001b[0m invalid syntax\n"
     ]
    }
   ],
   "source": [
    "$123 = 123\n",
    "%123 = 123"
   ]
  },
  {
   "cell_type": "code",
   "execution_count": 14,
   "id": "c29f7ee9",
   "metadata": {},
   "outputs": [
    {
     "ename": "SyntaxError",
     "evalue": "invalid syntax. Maybe you meant '==' or ':=' instead of '='? (3399173619.py, line 1)",
     "output_type": "error",
     "traceback": [
      "\u001b[1;36m  Cell \u001b[1;32mIn[14], line 1\u001b[1;36m\u001b[0m\n\u001b[1;33m    @week = \"Sunday\"\u001b[0m\n\u001b[1;37m     ^\u001b[0m\n\u001b[1;31mSyntaxError\u001b[0m\u001b[1;31m:\u001b[0m invalid syntax. Maybe you meant '==' or ':=' instead of '='?\n"
     ]
    }
   ],
   "source": [
    "@week = \"Sunday\""
   ]
  },
  {
   "cell_type": "code",
   "execution_count": 16,
   "id": "b6feb82b",
   "metadata": {},
   "outputs": [],
   "source": [
    "# allowed but not recommended\n",
    "# double uderscore dunder variables \n",
    "\n",
    "__num__ = 500\n",
    "__dict__ = \"total count\"\n",
    "__len__ = 5000\n",
    "__class__ = \"First\"\n",
    "__Shubhangi__= \"Name\"\n"
   ]
  },
  {
   "cell_type": "code",
   "execution_count": 18,
   "id": "a66df5f7",
   "metadata": {},
   "outputs": [
    {
     "name": "stdout",
     "output_type": "stream",
     "text": [
      "Name\n"
     ]
    }
   ],
   "source": [
    "print(__Shubhangi__)"
   ]
  },
  {
   "cell_type": "code",
   "execution_count": 19,
   "id": "a247c8ab",
   "metadata": {},
   "outputs": [
    {
     "name": "stdout",
     "output_type": "stream",
     "text": [
      "fifth\n"
     ]
    }
   ],
   "source": [
    "__class__ = \"fifth\"\n",
    "print(__class__)"
   ]
  },
  {
   "cell_type": "code",
   "execution_count": null,
   "id": "9e18945a",
   "metadata": {},
   "outputs": [],
   "source": []
  }
 ],
 "metadata": {
  "kernelspec": {
   "display_name": "Python 3 (ipykernel)",
   "language": "python",
   "name": "python3"
  },
  "language_info": {
   "codemirror_mode": {
    "name": "ipython",
    "version": 3
   },
   "file_extension": ".py",
   "mimetype": "text/x-python",
   "name": "python",
   "nbconvert_exporter": "python",
   "pygments_lexer": "ipython3",
   "version": "3.11.3"
  }
 },
 "nbformat": 4,
 "nbformat_minor": 5
}
