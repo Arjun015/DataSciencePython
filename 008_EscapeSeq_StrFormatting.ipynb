{
 "cells": [
  {
   "cell_type": "code",
   "execution_count": 1,
   "id": "e08a4fef",
   "metadata": {},
   "outputs": [],
   "source": [
    "# 👉 Strings in Python\n",
    "# 👉 String Formatting\n",
    "# 👉 Escape sequence\n",
    "#################################################"
   ]
  },
  {
   "cell_type": "code",
   "execution_count": 2,
   "id": "51688673",
   "metadata": {},
   "outputs": [
    {
     "name": "stdout",
     "output_type": "stream",
     "text": [
      "Hello world\n"
     ]
    }
   ],
   "source": [
    "print('Hello world')"
   ]
  },
  {
   "cell_type": "code",
   "execution_count": 3,
   "id": "cb230bfb",
   "metadata": {},
   "outputs": [
    {
     "name": "stdout",
     "output_type": "stream",
     "text": [
      "C:\\logs\n"
     ]
    }
   ],
   "source": [
    "print(\"C:\\logs\")"
   ]
  },
  {
   "cell_type": "code",
   "execution_count": 6,
   "id": "bfc82b5e",
   "metadata": {},
   "outputs": [
    {
     "ename": "SyntaxError",
     "evalue": "(unicode error) 'unicodeescape' codec can't decode bytes in position 2-3: truncated \\UXXXXXXXX escape (3481437949.py, line 1)",
     "output_type": "error",
     "traceback": [
      "\u001b[1;36m  Cell \u001b[1;32mIn[6], line 1\u001b[1;36m\u001b[0m\n\u001b[1;33m    print(\"C:\\Users\\Public\\Libraries\") #unicode error\u001b[0m\n\u001b[1;37m                                     ^\u001b[0m\n\u001b[1;31mSyntaxError\u001b[0m\u001b[1;31m:\u001b[0m (unicode error) 'unicodeescape' codec can't decode bytes in position 2-3: truncated \\UXXXXXXXX escape\n"
     ]
    }
   ],
   "source": [
    "#  print(\"C:\\Users\\Public\\Libraries\") #unicode error"
   ]
  },
  {
   "cell_type": "code",
   "execution_count": 7,
   "id": "df63aa17",
   "metadata": {},
   "outputs": [
    {
     "name": "stdout",
     "output_type": "stream",
     "text": [
      "C:\\Users\\Public\\Libraries\n",
      "C:\\Users\\Public\\Libraries\\tanmay\n"
     ]
    }
   ],
   "source": [
    "# ESCAPE SEQUENCE\n",
    "\n",
    "\n",
    "# Escape Character Meaning\n",
    "# \\”                Double quote\n",
    "# \\’                Single quote\n",
    "# \\\\                backslash\n",
    "# \\n                New line\n",
    "# \\r                Carriage Return\n",
    "# \\t                Horizontal tab\n",
    "# \\b                Backspace\n",
    "# \\f                form feed\n",
    "# \\v                vertical tab\n",
    "# \\0                Null character\n",
    "# \\N{name}          Unicode Character Database named Lookup\n",
    "# \\uxxxxxxxx        Unicode Character with 16-bit hex value XXXX\n",
    "# \\Uxxxxxxxx        Unicode Character with 32-bit hex value XXXXXXXX\n",
    "# \\ooo              Character with octal value OOO\n",
    "# \\xhh              Character with hex value HH\n",
    "\n",
    "\n",
    "print(\"C:\\\\Users\\Public\\Libraries\")\n",
    "print(\"C:\\\\Users\\Public\\Libraries\\\\tanmay\")"
   ]
  },
  {
   "cell_type": "code",
   "execution_count": 9,
   "id": "7684c751",
   "metadata": {},
   "outputs": [
    {
     "name": "stdout",
     "output_type": "stream",
     "text": [
      "C:\\Users\\Public\\Libraries\n",
      "C:\\Users\\Public\\Libraries\\tanmay\n",
      "C:\\fruit\\category\\Manglina\n"
     ]
    }
   ],
   "source": [
    "# using escape Character \\\n",
    "\n",
    "print(\"C:\\\\Users\\Public\\Libraries\")\n",
    "print(\"C:\\\\Users\\Public\\Libraries\\\\tanmay\")\n",
    "print(\"C:\\\\fruit\\category\\Manglina\")"
   ]
  },
  {
   "cell_type": "code",
   "execution_count": 11,
   "id": "19ef32c2",
   "metadata": {},
   "outputs": [
    {
     "name": "stdout",
     "output_type": "stream",
     "text": [
      "C:\\\\Users\\Public\\Libraries\n",
      "C:\\\\Users\\Public\\Libraries\\\\tanmay\n",
      "C:\\\\fruit\\category\\\\Manglina\n"
     ]
    }
   ],
   "source": [
    "# using r-string i.e raw string\n",
    "\n",
    "print(r\"C:\\\\Users\\Public\\Libraries\")\n",
    "print(r\"C:\\\\Users\\Public\\Libraries\\\\tanmay\")\n",
    "print(R\"C:\\\\fruit\\category\\\\Manglina\")"
   ]
  },
  {
   "cell_type": "code",
   "execution_count": 15,
   "id": "8c901151",
   "metadata": {},
   "outputs": [
    {
     "name": "stdout",
     "output_type": "stream",
     "text": [
      "\"Hello! I'm Arjun from India\"\n"
     ]
    }
   ],
   "source": [
    "# use of escape SEQUENCE\n",
    "\n",
    "# 1.\\\n",
    "\n",
    "str1 = '\"Hello! I\\'m Arjun from India\"'\n",
    "print(str1)"
   ]
  },
  {
   "cell_type": "code",
   "execution_count": 18,
   "id": "bdf3d726",
   "metadata": {},
   "outputs": [
    {
     "name": "stdout",
     "output_type": "stream",
     "text": [
      "Hello! I'm Arjun \n",
      "from India\n",
      "Arjun,\n",
      "Komal , \n",
      "Ravina,\n",
      "Sonal\n"
     ]
    }
   ],
   "source": [
    "# 2.\\n : new line\n",
    "\n",
    "str2 = \"Hello! I'm Arjun \\nfrom India\"\n",
    "print(str2)\n",
    "\n",
    "str3 = \"Arjun,\\nKomal , \\nRavina,\\nSonal\"\n",
    "print(str3)"
   ]
  },
  {
   "cell_type": "code",
   "execution_count": 19,
   "id": "3e8c35cd",
   "metadata": {},
   "outputs": [
    {
     "name": "stdout",
     "output_type": "stream",
     "text": [
      "Success \tis the \tcollection of Number of \thardworks\n"
     ]
    }
   ],
   "source": [
    "# 3.\\t : for space\n",
    "\n",
    "Quote = \"Success \\tis the \\tcollection of Number of \\thardworks\"\n",
    "print(Quote)\n",
    "    "
   ]
  },
  {
   "cell_type": "code",
   "execution_count": 24,
   "id": "21e21909",
   "metadata": {},
   "outputs": [
    {
     "name": "stdout",
     "output_type": "stream",
     "text": [
      "Success is the collection of Number of hardwor\bks\n",
      "Monalik\bsa\n"
     ]
    }
   ],
   "source": [
    "# 4.\\b : BackSpace: last chaacter of sentence is replace new character.\n",
    "\n",
    "Quote1 = \"Success is the collection of Number of hardwor\\bks\"\n",
    "print(Quote1)\n",
    "\n",
    "name = \"Monalik\\bsa\"\n",
    "print(name)"
   ]
  },
  {
   "cell_type": "code",
   "execution_count": 39,
   "id": "8824214f",
   "metadata": {},
   "outputs": [
    {
     "name": "stdout",
     "output_type": "stream",
     "text": [
      "I am Arjun from Nagpur with python skills.\n",
      "I am name from place with python skills\n",
      "I am Arjun from Nagpur with Python skills\n",
      "I am Arjun from Nagpur with Python skills\n",
      "I am Arjun from Nagpur with Python skills\n",
      "I am Python skills from Arjun with Nagpur\n",
      "I am Nagpur from Python skills with Arjun\n"
     ]
    }
   ],
   "source": [
    "#string formatting\n",
    "\n",
    "name = \"Arjun\"\n",
    "place = \"Nagpur\"\n",
    "skill =  \"Python skills\"\n",
    "\n",
    "print(\"I am Arjun from Nagpur with python skills.\")\n",
    "print(\"I am name from place with python skills\")\n",
    "print(\"I am\",name,\"from\",place,\"with\", skill)\n",
    "\n",
    "\n",
    "\n",
    "\n",
    "\n",
    "print('I am {} from {} with {}'.format(name,place,skill))\n",
    "print('I am {0} from {1} with {2}'.format(name,place,skill))\n",
    "print('I am {2} from {0} with {1}'.format(name,place,skill))\n",
    "print('I am {1} from {2} with {0}'.format(name,place,skill))"
   ]
  },
  {
   "cell_type": "code",
   "execution_count": 42,
   "id": "61e771eb",
   "metadata": {},
   "outputs": [
    {
     "name": "stdout",
     "output_type": "stream",
     "text": [
      "I am Arjun from Nagpur with Python skills skill\n",
      "I am Dipika from Nashik with JavaScript Developer\n",
      "I am JavaScript Developer from Dipika with Nashik\n"
     ]
    }
   ],
   "source": [
    "#  f string\n",
    "\n",
    "# using f-string\n",
    "\n",
    "# print(\"I am {name} from {place} with {skill} skill\")\n",
    "print(f\"I am {name} from {place} with {skill} skill\")\n",
    "\n",
    "name1 = \"Dipika\"\n",
    "place1 = \"Nashik\"\n",
    "skill1 =  \"JavaScript Developer\"\n",
    "\n",
    "print(f\"I am {name1} from {place1} with {skill1}\")\n",
    "\n",
    "print(f\"I am {skill1} from {name1} with {place1}\")\n"
   ]
  },
  {
   "cell_type": "code",
   "execution_count": 47,
   "id": "f14cf2f1",
   "metadata": {},
   "outputs": [
    {
     "name": "stdout",
     "output_type": "stream",
     "text": [
      "The price of coke is 300 , spice is 100 and vcr is 200\n",
      "Shyam has scored 300 in science , 200 in Physics and 300 in Maths\n",
      "The price of coke is 300 , spice is 200 and vcr is 200\n",
      "Shyam has scored 300 in science , 200 in Physics and 100 in Maths\n"
     ]
    }
   ],
   "source": [
    "# HomeWork\n",
    "\n",
    "'''\n",
    "A. use .format() to print below statement using the numerical values stored in variables\n",
    "\n",
    "a = 100\n",
    "b = 200\n",
    "c = 300\n",
    "\n",
    "The price of coke is 300 , spice is 100 and vcr is 200\n",
    "\n",
    "Shyam has scored 300 in science , 200 in Physics and 300 in Maths\n",
    "\n",
    "\n",
    "B. use f-string to print  below statement using the numerical values stored in above variables\n",
    "\n",
    "The price of coke is 300 , spice is 100 and vcr is 200\n",
    "\n",
    "Sameer has scored 300 in science , 200 in Physics and 300 in Maths\n",
    "\n",
    "'''\n",
    "\n",
    "# Program 1\n",
    "CokePrice = 300\n",
    "spicePrice = 100\n",
    "vcrPrice = 200\n",
    "\n",
    "print(\"The price of coke is {} , spice is {} and vcr is {}\".format(CokePrice,spicePrice,vcrPrice))\n",
    "\n",
    "# program2\n",
    "SciScore = 300\n",
    "phyScore = 200\n",
    "mathScore = 300\n",
    "\n",
    "print(\"Shyam has scored {} in science , {} in Physics and {} in Maths\".format(SciScore,phyScore,mathScore))\n",
    "\n",
    "\n",
    "# Using f string\n",
    "\n",
    "\n",
    "# Program 3\n",
    "CokePrice1 = 300\n",
    "spicePrice1 = 200\n",
    "vcrPrice1 = 200\n",
    "\n",
    "print(f\"The price of coke is {CokePrice1} , spice is {spicePrice1} and vcr is {vcrPrice1}\")\n",
    "\n",
    "# program4\n",
    "SciScore1 = 300\n",
    "phyScore1 = 200\n",
    "mathScore1 = 100\n",
    "\n",
    "print(f\"Shyam has scored {SciScore1} in science , {phyScore1 } in Physics and {mathScore1 } in Maths\")"
   ]
  },
  {
   "cell_type": "code",
   "execution_count": null,
   "id": "5a444ef5",
   "metadata": {},
   "outputs": [],
   "source": []
  }
 ],
 "metadata": {
  "kernelspec": {
   "display_name": "Python 3 (ipykernel)",
   "language": "python",
   "name": "python3"
  },
  "language_info": {
   "codemirror_mode": {
    "name": "ipython",
    "version": 3
   },
   "file_extension": ".py",
   "mimetype": "text/x-python",
   "name": "python",
   "nbconvert_exporter": "python",
   "pygments_lexer": "ipython3",
   "version": "3.11.3"
  }
 },
 "nbformat": 4,
 "nbformat_minor": 5
}
