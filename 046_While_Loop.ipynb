{
 "cells": [
  {
   "cell_type": "code",
   "execution_count": 1,
   "id": "d1b6dcb1",
   "metadata": {},
   "outputs": [],
   "source": [
    "#WHILE loop\n",
    "\n",
    "# syntax\n",
    "# while expression/condition:\n",
    "#     code"
   ]
  },
  {
   "cell_type": "code",
   "execution_count": 2,
   "id": "83c46af3",
   "metadata": {},
   "outputs": [],
   "source": [
    "# for loop : Number of iteration is known.\n",
    "\n",
    "for i in range(10):\n",
    "    print('I am DataScientist')\n",
    "    "
   ]
  },
  {
   "cell_type": "code",
   "execution_count": 3,
   "id": "9ba2e9eb",
   "metadata": {},
   "outputs": [
    {
     "name": "stdout",
     "output_type": "stream",
     "text": [
      "Enter The Number:3\n"
     ]
    }
   ],
   "source": [
    "# Taking input from user\n",
    "\n",
    "for i in range(int(input('Enter The Number:'))):\n",
    "    print('I am Gretest in the World')"
   ]
  },
  {
   "cell_type": "code",
   "execution_count": 4,
   "id": "83ebfc0b",
   "metadata": {},
   "outputs": [],
   "source": [
    "# below colde will lead to infinite no of executions , infinite loop\n",
    "\n",
    "# while 1 <5:\n",
    "#     print(\"I will attend the class daily\")"
   ]
  },
  {
   "cell_type": "code",
   "execution_count": 5,
   "id": "6ebc556f",
   "metadata": {},
   "outputs": [],
   "source": [
    "# Example 1\n",
    "\n",
    "i = 0 #variable initialization\n",
    "while i < 5:  #loop will be exited when the value of i becomes 5\n",
    "    print('I am attend the class daily for dataScience',i)\n",
    "    i = i + 1#expression which will make the while statment out of loop\n",
    "    \n",
    "    \n",
    "i = 0 \n",
    "while i < 5:\n",
    "    \n",
    "    i = i + 1\n",
    "    print('I am attend the class for dataScience')    "
   ]
  },
  {
   "cell_type": "code",
   "execution_count": 6,
   "id": "2c8e201d",
   "metadata": {},
   "outputs": [],
   "source": [
    "# Example 2\n",
    "\n",
    "i = 0 \n",
    "while i < 5:\n",
    "    \n",
    "    i = i + 1\n",
    "    print('I am attend the class for Automation Testing',i)   "
   ]
  },
  {
   "cell_type": "code",
   "execution_count": 7,
   "id": "5c3aae4d",
   "metadata": {},
   "outputs": [
    {
     "name": "stdout",
     "output_type": "stream",
     "text": [
      "Enter the number:4\n",
      "Enter the number:5\n"
     ]
    }
   ],
   "source": [
    "# Example 3\n",
    "i =  int(input('Enter the number:'))\n",
    "while  int(input('Enter the number:'),i) < 5:\n",
    "    \n",
    "    i = i + 1\n",
    "    print('I am attend the class for Automation Testing',i)   "
   ]
  },
  {
   "cell_type": "code",
   "execution_count": null,
   "id": "fc262fc2",
   "metadata": {},
   "outputs": [],
   "source": [
    "# use of while loop !!!\n",
    "# > the number of repetations is unknkown"
   ]
  },
  {
   "cell_type": "code",
   "execution_count": 8,
   "id": "2e26a1db",
   "metadata": {},
   "outputs": [
    {
     "name": "stdout",
     "output_type": "stream",
     "text": [
      "Press 'q' to quit the gamee\n",
      "Press 'q' to quit the gamed\n",
      "Press 'q' to quit the gamea\n",
      "Press 'q' to quit the gamef\n",
      "Press 'q' to quit the gameg\n",
      "Press 'q' to quit the gameh\n",
      "Press 'q' to quit the gameq\n"
     ]
    }
   ],
   "source": [
    "while True:\n",
    "    user_input =  input(\"Press 'q' to quit the game\")\n",
    "    if user_input == 'q':\n",
    "        break"
   ]
  },
  {
   "cell_type": "code",
   "execution_count": 9,
   "id": "23344e94",
   "metadata": {},
   "outputs": [
    {
     "name": "stdout",
     "output_type": "stream",
     "text": [
      "Press 'q' to quit the game: 1\n",
      "Press 'q' to quit the game: 2\n",
      "Press 'q' to quit the game: 3\n",
      "Press 'q' to quit the game: 4\n",
      "Press 'q' to quit the game: 6\n",
      "Press 'q' to quit the game: 7\n",
      "Press 'q' to quit the game: 89\n",
      "Press 'q' to quit the game: a\n",
      "Press 'q' to quit the game: s\n",
      "Press 'q' to quit the game: d\n",
      "Press 'q' to quit the game: d\n",
      "Press 'q' to quit the game: f\n",
      "Press 'q' to quit the game: f\n",
      "Press 'q' to quit the game: q\n"
     ]
    }
   ],
   "source": [
    "# number of iteration is unknown\n",
    "while True:\n",
    "    user_input =  input(\"Press 'q' to quit the game: \")\n",
    "    if user_input == 'q':\n",
    "        break"
   ]
  },
  {
   "cell_type": "code",
   "execution_count": null,
   "id": "423b32e1",
   "metadata": {},
   "outputs": [
    {
     "name": "stdout",
     "output_type": "stream",
     "text": [
      "Enter the digit!!!1\n",
      "value entered is a digit\n"
     ]
    }
   ],
   "source": [
    "# eg.\n",
    "\n",
    "validInput = False\n",
    "while not validInput:\n",
    "    value = input('Enter the digit!!!')\n",
    "    if value.isdigit():\n",
    "        print(\"value entered is a digit\")\n",
    "        valid_input = True\n",
    "    else:\n",
    "        print('Invalid Value enter')"
   ]
  },
  {
   "cell_type": "code",
   "execution_count": 1,
   "id": "19e1e239",
   "metadata": {},
   "outputs": [
    {
     "ename": "ModuleNotFoundError",
     "evalue": "No module named 'phonenumbers'",
     "output_type": "error",
     "traceback": [
      "\u001b[1;31m---------------------------------------------------------------------------\u001b[0m",
      "\u001b[1;31mModuleNotFoundError\u001b[0m                       Traceback (most recent call last)",
      "Cell \u001b[1;32mIn[1], line 1\u001b[0m\n\u001b[1;32m----> 1\u001b[0m \u001b[38;5;28;01mimport\u001b[39;00m \u001b[38;5;21;01mphonenumbers\u001b[39;00m\n\u001b[0;32m      2\u001b[0m \u001b[38;5;28;01mfrom\u001b[39;00m \u001b[38;5;21;01mphonenumbers\u001b[39;00m \u001b[38;5;28;01mimport\u001b[39;00m geocoder\n\u001b[0;32m      4\u001b[0m phone_number1 \u001b[38;5;241m=\u001b[39m phonenumbers\u001b[38;5;241m.\u001b[39mparse(\u001b[38;5;124m'\u001b[39m\u001b[38;5;124m+919359008088\u001b[39m\u001b[38;5;124m'\u001b[39m)\n",
      "\u001b[1;31mModuleNotFoundError\u001b[0m: No module named 'phonenumbers'"
     ]
    }
   ],
   "source": [
    "import phonenumbers\n",
    "from phonenumbers import geocoder\n",
    "\n",
    "phone_number1 = phonenumbers.parse('+919359008088')\n",
    "phone_number2 = phonenumbers.parse('+919545116493')\n",
    "phone_number3 = phonenumbers.parse('+919765316478')\n",
    "phone_number4 = phonenumbers.parse('+919022735850')\n",
    "phone_number5 = phonenumbers.parse('+919823543313')\n",
    "\n",
    "print(\"\\nPhone Numbers Location\\n\")\n",
    "\n",
    "print(geocoder.description_for_numbers(phone_number1,\"en\"))\n",
    "print(geocoder.description_for_numbers(phone_number2,\"en\"))\n",
    "print(geocoder.description_for_numbers(phone_number3,\"en\"))\n",
    "print(geocoder.description_for_numbers(phone_number4,\"en\"))\n",
    "print(geocoder.description_for_numbers(phone_number5,\"en\"))"
   ]
  },
  {
   "cell_type": "code",
   "execution_count": null,
   "id": "8f4de80d",
   "metadata": {},
   "outputs": [],
   "source": []
  }
 ],
 "metadata": {
  "kernelspec": {
   "display_name": "Python 3 (ipykernel)",
   "language": "python",
   "name": "python3"
  },
  "language_info": {
   "codemirror_mode": {
    "name": "ipython",
    "version": 3
   },
   "file_extension": ".py",
   "mimetype": "text/x-python",
   "name": "python",
   "nbconvert_exporter": "python",
   "pygments_lexer": "ipython3",
   "version": "3.11.3"
  }
 },
 "nbformat": 4,
 "nbformat_minor": 5
}
