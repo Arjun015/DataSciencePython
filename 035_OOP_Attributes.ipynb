{
 "cells": [
  {
   "cell_type": "code",
   "execution_count": 1,
   "id": "3ed2ff3a",
   "metadata": {},
   "outputs": [],
   "source": [
    "# program 1\n",
    "x = 20 "
   ]
  },
  {
   "cell_type": "code",
   "execution_count": 2,
   "id": "2d5aa4b8",
   "metadata": {},
   "outputs": [
    {
     "name": "stdout",
     "output_type": "stream",
     "text": [
      "20\n"
     ]
    }
   ],
   "source": [
    "print(x)"
   ]
  },
  {
   "cell_type": "code",
   "execution_count": 3,
   "id": "4234720a",
   "metadata": {},
   "outputs": [
    {
     "name": "stdout",
     "output_type": "stream",
     "text": [
      "<class 'int'>\n"
     ]
    }
   ],
   "source": [
    "print(type(x))"
   ]
  },
  {
   "cell_type": "code",
   "execution_count": 5,
   "id": "d4ba1ae7",
   "metadata": {},
   "outputs": [
    {
     "name": "stdout",
     "output_type": "stream",
     "text": [
      "<__main__.Student object at 0x000002641C6FDDD0>\n",
      "Arjun\n",
      "24\n",
      "Nashik\n"
     ]
    }
   ],
   "source": [
    "# Program 2\n",
    "\n",
    "class Student:\n",
    "    def __init__(self , name ,age ,area):\n",
    "        self.name = name\n",
    "        self.age = age\n",
    "        self.area = area\n",
    "s2 = Student('Arjun',24,'Nashik')        \n",
    "print(s2)\n",
    "print(s2.name)\n",
    "print(s2.age)\n",
    "print(s2.area)\n",
    "        "
   ]
  },
  {
   "cell_type": "code",
   "execution_count": 9,
   "id": "563ce55a",
   "metadata": {},
   "outputs": [
    {
     "name": "stdout",
     "output_type": "stream",
     "text": [
      "Ganapati Bappa\n",
      "Morya\n",
      "<__main__.Student object at 0x000002641C706950>\n"
     ]
    }
   ],
   "source": [
    "# Program 3\n",
    "\n",
    "class Student : \n",
    "    def __init__(self):\n",
    "        print('Ganapati Bappa')\n",
    "        print('Morya')\n",
    "        \n",
    "s3 = Student()        \n",
    "print(s3)"
   ]
  },
  {
   "cell_type": "code",
   "execution_count": 11,
   "id": "1133d2bf",
   "metadata": {},
   "outputs": [
    {
     "ename": "TypeError",
     "evalue": "Student.__init__() takes 0 positional arguments but 1 was given",
     "output_type": "error",
     "traceback": [
      "\u001b[1;31m---------------------------------------------------------------------------\u001b[0m",
      "\u001b[1;31mTypeError\u001b[0m                                 Traceback (most recent call last)",
      "Cell \u001b[1;32mIn[11], line 8\u001b[0m\n\u001b[0;32m      5\u001b[0m         \u001b[38;5;28mprint\u001b[39m(\u001b[38;5;124m'\u001b[39m\u001b[38;5;124mGanapati Bappa\u001b[39m\u001b[38;5;124m'\u001b[39m)\n\u001b[0;32m      6\u001b[0m         \u001b[38;5;28mprint\u001b[39m(\u001b[38;5;124m'\u001b[39m\u001b[38;5;124mMorya\u001b[39m\u001b[38;5;124m'\u001b[39m)\n\u001b[1;32m----> 8\u001b[0m s3 \u001b[38;5;241m=\u001b[39m Student()        \n\u001b[0;32m      9\u001b[0m \u001b[38;5;28mprint\u001b[39m(s3\u001b[38;5;241m.\u001b[39mgreet())\n",
      "\u001b[1;31mTypeError\u001b[0m: Student.__init__() takes 0 positional arguments but 1 was given"
     ]
    }
   ],
   "source": [
    "# Program 4\n",
    "\n",
    "class Student : \n",
    "    def __init__():\n",
    "        print('Ganapati Bappa')\n",
    "        print('Morya')\n",
    "        \n",
    "s3 = Student()        \n",
    "print(s3.greet())"
   ]
  },
  {
   "cell_type": "code",
   "execution_count": 17,
   "id": "722dd725",
   "metadata": {},
   "outputs": [
    {
     "ename": "TypeError",
     "evalue": "Student.__init__() takes 2 positional arguments but 3 were given",
     "output_type": "error",
     "traceback": [
      "\u001b[1;31m---------------------------------------------------------------------------\u001b[0m",
      "\u001b[1;31mTypeError\u001b[0m                                 Traceback (most recent call last)",
      "Cell \u001b[1;32mIn[17], line 11\u001b[0m\n\u001b[0;32m      7\u001b[0m     \u001b[38;5;28;01mdef\u001b[39;00m \u001b[38;5;21m__init__\u001b[39m(\u001b[38;5;28mself\u001b[39m,age):\n\u001b[0;32m      8\u001b[0m         \u001b[38;5;28mself\u001b[39m\u001b[38;5;241m.\u001b[39mage \u001b[38;5;241m=\u001b[39m age\n\u001b[1;32m---> 11\u001b[0m s3 \u001b[38;5;241m=\u001b[39m Student(\u001b[38;5;124m'\u001b[39m\u001b[38;5;124mRavina\u001b[39m\u001b[38;5;124m'\u001b[39m,\u001b[38;5;241m26\u001b[39m)        \n\u001b[0;32m     12\u001b[0m \u001b[38;5;66;03m# print(s3.name)\u001b[39;00m\n\u001b[0;32m     13\u001b[0m \u001b[38;5;28mprint\u001b[39m(s3\u001b[38;5;241m.\u001b[39mage)\n",
      "\u001b[1;31mTypeError\u001b[0m: Student.__init__() takes 2 positional arguments but 3 were given"
     ]
    }
   ],
   "source": [
    "# Program 5\n",
    "\n",
    "class Student():\n",
    "#     def __init__(self,name):\n",
    "#         self.name = name\n",
    "        \n",
    "    def __init__(self,age):\n",
    "        self.age = age\n",
    "\n",
    "        \n",
    "s3 = Student('Ravina',26)        \n",
    "# print(s3.name)\n",
    "print(s3.age)"
   ]
  },
  {
   "cell_type": "code",
   "execution_count": null,
   "id": "f28337cc",
   "metadata": {},
   "outputs": [],
   "source": []
  }
 ],
 "metadata": {
  "kernelspec": {
   "display_name": "Python 3 (ipykernel)",
   "language": "python",
   "name": "python3"
  },
  "language_info": {
   "codemirror_mode": {
    "name": "ipython",
    "version": 3
   },
   "file_extension": ".py",
   "mimetype": "text/x-python",
   "name": "python",
   "nbconvert_exporter": "python",
   "pygments_lexer": "ipython3",
   "version": "3.11.3"
  }
 },
 "nbformat": 4,
 "nbformat_minor": 5
}
