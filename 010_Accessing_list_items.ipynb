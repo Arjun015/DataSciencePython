{
 "cells": [
  {
   "cell_type": "code",
   "execution_count": null,
   "id": "d9caf47c",
   "metadata": {},
   "outputs": [],
   "source": [
    "#  TOPICS TO BE COVERED \n",
    "# 👉 Lists in Python\n",
    "#################################################"
   ]
  },
  {
   "cell_type": "code",
   "execution_count": 4,
   "id": "3a80bc0b",
   "metadata": {},
   "outputs": [
    {
     "name": "stdout",
     "output_type": "stream",
     "text": [
      "['M', 'I', 'N', 'S', 'K', 'O', 'L', 'E']\n",
      "['M', 'I', 'N', 'S', 'K', 'O', 'L', 'E']\n",
      "<class 'list'>\n"
     ]
    }
   ],
   "source": [
    "# revision\n",
    "\n",
    "#  using []\n",
    "num_even = [2,4,6,8,10]\n",
    "\n",
    "# using constructor | fancy name for  a function\n",
    "\n",
    "\n",
    "name  =  \"MINSKOLE\"\n",
    "print(list(name))\n",
    "print(list(\"MINSKOLE\"))\n",
    "\n",
    "print(type(num_even))"
   ]
  },
  {
   "cell_type": "code",
   "execution_count": 25,
   "id": "424e5609",
   "metadata": {},
   "outputs": [
    {
     "name": "stdout",
     "output_type": "stream",
     "text": [
      "Akash\n",
      "Anuj\n",
      "Amar\n",
      "Amit\n",
      "['Amar', 'Akash', 'Anuj']\n",
      "['Akash', 'Anuj', 'Amit']\n",
      "['Amar', 'Akash', 'Anuj', 'Amit']\n",
      "['Amar', 'Akash', 'Anuj']\n",
      "['Anuj', 'Amit', 'Anik']\n",
      "['Anuj', 'Amit', 'Anik']\n",
      "['Amar', 'Akash', 'Anuj', 'Amit', 'Anik']\n",
      "['Amar', 'Anuj', 'Anik']\n",
      "['Akash', 'Anik']\n",
      "['Amar', 'Anuj', 'Anik']\n"
     ]
    }
   ],
   "source": [
    "# accessing elements/objetc/items inside a list\n",
    "\n",
    "\n",
    "# Accessing a list\n",
    "#                   0       1       2      3        4\n",
    "#                  -5       -4      -3     -2      -1\n",
    "studentsName = ['Amar','Akash','Anuj','Amit','Anik']\n",
    "print(studentsName[1])\n",
    "print(studentsName[-3])\n",
    "print(studentsName[0])\n",
    "print(studentsName[3])\n",
    "\n",
    "\n",
    "# Slicing a list\n",
    "print(studentsName[0:3])#['Amar', 'Akash', 'Anuj']\n",
    "print(studentsName[1:4]) #'Akash', 'Anuj', 'Amit']\n",
    "print(studentsName[0:4])#['Amar', 'Akash', 'Anuj', 'Amit']\n",
    "print(studentsName[:3])#['Amar', 'Akash', 'Anuj']\n",
    "print(studentsName[2:5])#['Anuj', 'Amit', 'Anik']\n",
    "print(studentsName[2:])#['Anuj', 'Amit', 'Anik']\n",
    "\n",
    "\n",
    "\n",
    "# with step value\n",
    "# print(students_name[strt:stop:step])\n",
    "\n",
    "print(studentsName[0:5:1])#['Amar', 'Akash', 'Anuj', 'Amit', 'Anik']\n",
    "print(studentsName[0:5:2])#['Amar', 'Anuj', 'Anik']\n",
    "print(studentsName[1:5:3])#['Akash', 'Anik']\n",
    "print(studentsName[::2])#['Amar', 'Anuj', 'Anik']\n",
    "\n"
   ]
  },
  {
   "cell_type": "code",
   "execution_count": null,
   "id": "c4b1af93",
   "metadata": {},
   "outputs": [],
   "source": []
  }
 ],
 "metadata": {
  "kernelspec": {
   "display_name": "Python 3 (ipykernel)",
   "language": "python",
   "name": "python3"
  },
  "language_info": {
   "codemirror_mode": {
    "name": "ipython",
    "version": 3
   },
   "file_extension": ".py",
   "mimetype": "text/x-python",
   "name": "python",
   "nbconvert_exporter": "python",
   "pygments_lexer": "ipython3",
   "version": "3.11.3"
  }
 },
 "nbformat": 4,
 "nbformat_minor": 5
}
