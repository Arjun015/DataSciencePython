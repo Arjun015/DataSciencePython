{
 "cells": [
  {
   "cell_type": "code",
   "execution_count": 1,
   "id": "e7dadad3",
   "metadata": {},
   "outputs": [
    {
     "name": "stdout",
     "output_type": "stream",
     "text": [
      "9\n"
     ]
    }
   ],
   "source": [
    "def sum1(a,b,c):\n",
    "    print(a+b+c)\n",
    "sum1(2,3,4)    "
   ]
  },
  {
   "cell_type": "code",
   "execution_count": 2,
   "id": "ccf00170",
   "metadata": {},
   "outputs": [
    {
     "name": "stdout",
     "output_type": "stream",
     "text": [
      "116.82000000000001\n"
     ]
    }
   ],
   "source": [
    "def sum2(a,b,c):\n",
    "    print(a+b+c)\n",
    "sum1(2.45,69.67,44.70)   "
   ]
  },
  {
   "cell_type": "code",
   "execution_count": 4,
   "id": "5af7eeec",
   "metadata": {},
   "outputs": [
    {
     "name": "stdout",
     "output_type": "stream",
     "text": [
      "<__main__.Employee object at 0x000001FA1D76AD90>\n",
      "Ravina\n",
      "102\n"
     ]
    }
   ],
   "source": [
    "class Employee:\n",
    "    def __init__(self,name,E_id):\n",
    "        self.name = name\n",
    "        self.E_id = E_id\n",
    "        \n",
    "b1 =Employee('Ravina',102)\n",
    "print(b1)\n",
    "print(b1.name)\n",
    "print(b1.E_id)\n",
    "        "
   ]
  },
  {
   "cell_type": "code",
   "execution_count": 5,
   "id": "a9a00d91",
   "metadata": {},
   "outputs": [
    {
     "name": "stdout",
     "output_type": "stream",
     "text": [
      "The Name of student is Arjun and roll no is 105\n"
     ]
    }
   ],
   "source": [
    "class Employee:\n",
    "    def __init__(self,name,E_id):\n",
    "        self.name = name\n",
    "        self.E_id = E_id\n",
    "        \n",
    "    def __str__(self):\n",
    "        return f\"The Name of student is {self.name} and roll no is {self.E_id}\"\n",
    "        \n",
    "b2 =Employee('Arjun',105)\n",
    "print(b2)\n"
   ]
  },
  {
   "cell_type": "code",
   "execution_count": 6,
   "id": "be54e7c4",
   "metadata": {},
   "outputs": [
    {
     "name": "stdout",
     "output_type": "stream",
     "text": [
      "The Name of student is Mahesh and roll no is 106\n"
     ]
    }
   ],
   "source": [
    "b3 =Employee('Mahesh',106)\n",
    "print(b3)\n"
   ]
  },
  {
   "cell_type": "code",
   "execution_count": 7,
   "id": "0140feb1",
   "metadata": {},
   "outputs": [
    {
     "name": "stdout",
     "output_type": "stream",
     "text": [
      "The Name of student is Jayashree and roll no is 107\n"
     ]
    }
   ],
   "source": [
    "b4 =Employee('Jayashree',107)\n",
    "print(b4)\n"
   ]
  },
  {
   "cell_type": "code",
   "execution_count": 14,
   "id": "28062bc0",
   "metadata": {},
   "outputs": [
    {
     "name": "stdout",
     "output_type": "stream",
     "text": [
      "The Name of student is Bhagyashree and roll no is 1\n"
     ]
    }
   ],
   "source": [
    "class Employee:\n",
    "    counter = 0 \n",
    "    def __init__(self,name):\n",
    "        self.name = name\n",
    "        Employee.counter = Employee.counter+1\n",
    "        self.E_id = Employee.counter\n",
    "        \n",
    "    def __str__(self):\n",
    "        return f\"The Name of student is {self.name} and roll no is {self.E_id}\"\n",
    "        \n",
    "b7 =Employee('Bhagyashree')\n",
    "print(b7)\n"
   ]
  },
  {
   "cell_type": "code",
   "execution_count": 15,
   "id": "39156399",
   "metadata": {},
   "outputs": [
    {
     "name": "stdout",
     "output_type": "stream",
     "text": [
      "The Name of student is Bhagyashree jire and roll no is 2\n"
     ]
    }
   ],
   "source": [
    "b8 =Employee('Bhagyashree jire')\n",
    "print(b8)"
   ]
  },
  {
   "cell_type": "code",
   "execution_count": 17,
   "id": "62a73a6d",
   "metadata": {},
   "outputs": [
    {
     "name": "stdout",
     "output_type": "stream",
     "text": [
      "The Name of student is Sunanda and roll no is 4\n",
      "4\n"
     ]
    }
   ],
   "source": [
    "b7 =Employee('Sunanda')\n",
    "print(b7)\n",
    "print(b7.counter)"
   ]
  },
  {
   "cell_type": "code",
   "execution_count": 19,
   "id": "ea4e966c",
   "metadata": {},
   "outputs": [],
   "source": [
    "b7.counter = 500"
   ]
  },
  {
   "cell_type": "code",
   "execution_count": 20,
   "id": "dc683940",
   "metadata": {},
   "outputs": [
    {
     "name": "stdout",
     "output_type": "stream",
     "text": [
      "500\n"
     ]
    }
   ],
   "source": [
    "print(b7.counter)"
   ]
  },
  {
   "cell_type": "code",
   "execution_count": 21,
   "id": "60ceb3c8",
   "metadata": {},
   "outputs": [
    {
     "name": "stdout",
     "output_type": "stream",
     "text": [
      "The Name of student is Sunanda and roll no is 5\n",
      "5\n"
     ]
    }
   ],
   "source": [
    "b7 =Employee('Sunanda')\n",
    "print(b7)\n",
    "print(b7.counter)"
   ]
  },
  {
   "cell_type": "code",
   "execution_count": 22,
   "id": "0bba7a0b",
   "metadata": {},
   "outputs": [
    {
     "name": "stdout",
     "output_type": "stream",
     "text": [
      "The Name of student is Bhagyashree and roll no is 1\n",
      "500\n"
     ]
    }
   ],
   "source": [
    "class Employee:\n",
    "    counter = 0 \n",
    "    def __init__(self,name):\n",
    "        self.name = name\n",
    "         Employee.counter = Employee.counter+1\n",
    "        self.E_id = Employee.counter\n",
    "        \n",
    "    def __str__(self):\n",
    "        return f\"The Name of student is {self.name} and roll no is {self.E_id}\"\n",
    "        \n",
    "b7 =Employee('Bhagyashree')\n",
    "print(b7)\n",
    "\n",
    "Employee.counter = 500\n",
    "print(Employee.counter)         \n"
   ]
  },
  {
   "cell_type": "code",
   "execution_count": 26,
   "id": "3bdde540",
   "metadata": {},
   "outputs": [
    {
     "name": "stdout",
     "output_type": "stream",
     "text": [
      "The Name of student is Bhakti and roll no is 1\n",
      "500\n"
     ]
    }
   ],
   "source": [
    "class Employee:\n",
    "    counter = 0 \n",
    "    def __init__(self,name):\n",
    "        self.name = name\n",
    "        Employee.counter = Employee.counter+1\n",
    "        self.E_id = Employee.counter\n",
    "        \n",
    "    def __str__(self):\n",
    "        return f\"The Name of student is {self.name} and roll no is {self.E_id}\"\n",
    "        \n",
    "b7 =Employee('Bhakti')\n",
    "print(b7)\n",
    "\n",
    "Employee.counter = 500\n",
    "print(Employee.counter)         \n"
   ]
  },
  {
   "cell_type": "code",
   "execution_count": 27,
   "id": "0860281b",
   "metadata": {},
   "outputs": [
    {
     "name": "stdout",
     "output_type": "stream",
     "text": [
      "The Name of student is Bhagyashree and roll no is 1\n",
      "50\n"
     ]
    }
   ],
   "source": [
    "class Employee:\n",
    "    counter = 0 \n",
    "    def __init__(self,name):\n",
    "        self.name = name\n",
    "        Employee.counter = Employee.counter+1\n",
    "        self.E_id = Employee.counter\n",
    "        \n",
    "    def __str__(self):\n",
    "        return f\"The Name of student is {self.name} and roll no is {self.E_id}\"\n",
    "        \n",
    "b11 =Employee('Bhagyashree')\n",
    "print(b11)\n",
    "\n",
    "Employee.counter = 50\n",
    "print(Employee.counter)         \n"
   ]
  },
  {
   "cell_type": "code",
   "execution_count": null,
   "id": "4fe6b0be",
   "metadata": {},
   "outputs": [],
   "source": []
  }
 ],
 "metadata": {
  "kernelspec": {
   "display_name": "Python 3 (ipykernel)",
   "language": "python",
   "name": "python3"
  },
  "language_info": {
   "codemirror_mode": {
    "name": "ipython",
    "version": 3
   },
   "file_extension": ".py",
   "mimetype": "text/x-python",
   "name": "python",
   "nbconvert_exporter": "python",
   "pygments_lexer": "ipython3",
   "version": "3.11.3"
  }
 },
 "nbformat": 4,
 "nbformat_minor": 5
}
