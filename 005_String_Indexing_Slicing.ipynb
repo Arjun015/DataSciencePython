{
 "cells": [
  {
   "cell_type": "code",
   "execution_count": 1,
   "id": "42519434",
   "metadata": {},
   "outputs": [],
   "source": [
    "#  TOPICS TO BE COVERED \n",
    "# 👉 Strings in Python\n",
    "# 👉 Indexing\n",
    "# 👉 Slicing"
   ]
  },
  {
   "cell_type": "code",
   "execution_count": 2,
   "id": "3d05524e",
   "metadata": {},
   "outputs": [],
   "source": [
    "#  Indexing : starts from 0 to n-1."
   ]
  },
  {
   "cell_type": "code",
   "execution_count": 3,
   "id": "1e8e3d1c",
   "metadata": {},
   "outputs": [
    {
     "name": "stdout",
     "output_type": "stream",
     "text": [
      "congratulatios Arjun! You selected on DataScientist post\n"
     ]
    }
   ],
   "source": [
    "greet = \"congratulatios Arjun! You selected on DataScientist post\"\n",
    "print(greet)"
   ]
  },
  {
   "cell_type": "code",
   "execution_count": 4,
   "id": "af0ede40",
   "metadata": {},
   "outputs": [
    {
     "data": {
      "text/plain": [
       "str"
      ]
     },
     "execution_count": 4,
     "metadata": {},
     "output_type": "execute_result"
    }
   ],
   "source": [
    "type(greet)"
   ]
  },
  {
   "cell_type": "code",
   "execution_count": 5,
   "id": "5cd4cfaf",
   "metadata": {},
   "outputs": [
    {
     "name": "stdout",
     "output_type": "stream",
     "text": [
      "Mango\n"
     ]
    }
   ],
   "source": [
    "#         01234\n",
    "fruits = \"Mango\"\n",
    "print(fruits)"
   ]
  },
  {
   "cell_type": "code",
   "execution_count": 6,
   "id": "54e0c37e",
   "metadata": {},
   "outputs": [
    {
     "name": "stdout",
     "output_type": "stream",
     "text": [
      "M\n"
     ]
    }
   ],
   "source": [
    "print(fruits[0])"
   ]
  },
  {
   "cell_type": "code",
   "execution_count": 7,
   "id": "750c89d8",
   "metadata": {},
   "outputs": [
    {
     "name": "stdout",
     "output_type": "stream",
     "text": [
      "a\n",
      "n\n",
      "g\n",
      "o\n"
     ]
    }
   ],
   "source": [
    "print(fruits[1])\n",
    "print(fruits[2])\n",
    "print(fruits[3])\n",
    "print(fruits[4])"
   ]
  },
  {
   "cell_type": "code",
   "execution_count": 8,
   "id": "db71d760",
   "metadata": {},
   "outputs": [],
   "source": [
    "#  slicing in string.\n",
    "\n",
    "# variable_name[start:end] will go for n-1."
   ]
  },
  {
   "cell_type": "code",
   "execution_count": 9,
   "id": "57f4393c",
   "metadata": {},
   "outputs": [
    {
     "name": "stdout",
     "output_type": "stream",
     "text": [
      "Ba\n",
      "Bana\n"
     ]
    }
   ],
   "source": [
    "Tree = \"Banana\"\n",
    "print(Tree[0:2]) # Ba\n",
    "print(Tree[0:4])#Bana"
   ]
  },
  {
   "cell_type": "code",
   "execution_count": 12,
   "id": "7875fa19",
   "metadata": {},
   "outputs": [
    {
     "name": "stdout",
     "output_type": "stream",
     "text": [
      "Ban\n",
      "Banana\n",
      "Banan\n",
      "n\n"
     ]
    }
   ],
   "source": [
    "print(Tree[0:3]) #Ban\n",
    "\n",
    "print(Tree[0:]) # Banana # In this case will consider defalut end value.\n",
    "\n",
    "print(Tree[:5]) # Banan  # In this case will consider default start value.\n",
    "\n",
    "print(Tree[4:5]) # n"
   ]
  },
  {
   "cell_type": "code",
   "execution_count": 15,
   "id": "4f8a1a42",
   "metadata": {},
   "outputs": [
    {
     "name": "stdout",
     "output_type": "stream",
     "text": [
      "Go\n",
      "Gol\n"
     ]
    }
   ],
   "source": [
    "# Slicing with Jump values.\n",
    "\n",
    "# [start:end:step]\n",
    "\n",
    "# variable_name[start:end] will go for n-1.\n",
    "\n",
    "\n",
    "company = \"Google\"\n",
    "\n",
    "print(company[0:2:1]) #Go # Zer0 skipped \n",
    "\n",
    "print(company[0:5:2]) # Gol\n"
   ]
  },
  {
   "cell_type": "code",
   "execution_count": 18,
   "id": "49637ce8",
   "metadata": {},
   "outputs": [
    {
     "name": "stdout",
     "output_type": "stream",
     "text": [
      "w\n"
     ]
    }
   ],
   "source": [
    "#         0123456\n",
    "greet1 = \"welcome\"\n",
    "print(greet1[0:3:3]) # w"
   ]
  },
  {
   "cell_type": "code",
   "execution_count": 19,
   "id": "50345d21",
   "metadata": {},
   "outputs": [
    {
     "name": "stdout",
     "output_type": "stream",
     "text": [
      "o\n"
     ]
    }
   ],
   "source": [
    "print(greet[1:4:3]) # o"
   ]
  },
  {
   "cell_type": "code",
   "execution_count": 21,
   "id": "de648fd7",
   "metadata": {},
   "outputs": [
    {
     "name": "stdout",
     "output_type": "stream",
     "text": [
      "welcome\n",
      "wloe\n",
      "wloe\n",
      "wce\n"
     ]
    }
   ],
   "source": [
    "print(greet1[0:7:1]) # zero skipped\n",
    "print(greet1[0:7:2]) #one skipped WLOE\n",
    "\n",
    "print(greet1[::2]) #one skipped WLOE\n",
    "print(greet1[::3]) #one skipped WCE\n",
    "\n"
   ]
  },
  {
   "cell_type": "code",
   "execution_count": 32,
   "id": "2d58da24",
   "metadata": {},
   "outputs": [
    {
     "name": "stdout",
     "output_type": "stream",
     "text": [
      "+91\n",
      "89\n",
      "27\n",
      "v3.8\n",
      "Python \n",
      "12345\n",
      "1 4\n"
     ]
    }
   ],
   "source": [
    "# HW\n",
    "\n",
    "'''\n",
    "1. w = \"+911234567890\"\n",
    "> use slicing to get below O/P\n",
    "+91\n",
    "89\n",
    "+\n",
    "\n",
    "2. r = \"We are learning Python v3.8\"\n",
    "v3.8\n",
    "\n",
    "Python\n",
    "\n",
    "3. d = \"1 2 3 4 5\"\n",
    "print with skip/jump value 2\n",
    "\n",
    "'''\n",
    "\n",
    "w = \"+911234567890\"\n",
    "print(w[0:3]) #+91\n",
    "print(w[10:12]) #89\n",
    "\n",
    "\n",
    "r = \"We are learning Python v3.8\"\n",
    "print(len(r))    \n",
    "\n",
    "print(r[23:27]) # v3.8\n",
    "print(r[16:23]) # Python\n",
    "\n",
    "\n",
    "d = \"1 2 3 4 5\"\n",
    "print(d[::2]) #12345\n",
    "print(d[0::3])"
   ]
  },
  {
   "cell_type": "code",
   "execution_count": 46,
   "id": "d3f236c4",
   "metadata": {},
   "outputs": [
    {
     "name": "stdout",
     "output_type": "stream",
     "text": [
      "phan\n",
      "an\n",
      "eph\n",
      "ehn\n",
      "tnahpelE\n"
     ]
    }
   ],
   "source": [
    "#  Negative Indexing \n",
    "\n",
    "animal = \"Elephant\"\n",
    "#             -2-1\n",
    "print(animal[-5:-1]) # phan\n",
    "\n",
    "print(animal[-3:-1]) #an\n",
    "\n",
    "print(animal[-6:-3]) #eph\n",
    "\n",
    "print(animal[-6:-1:2]) #ehn\n",
    "\n",
    "# Reverse string.\n",
    "\n",
    "print(animal[::-1]) #deafult start and end values"
   ]
  },
  {
   "cell_type": "code",
   "execution_count": 39,
   "id": "4ea3ced1",
   "metadata": {},
   "outputs": [
    {
     "name": "stdout",
     "output_type": "stream",
     "text": [
      "t\n"
     ]
    }
   ],
   "source": [
    "print(animal[-1]) # t"
   ]
  },
  {
   "cell_type": "code",
   "execution_count": 41,
   "id": "21c62005",
   "metadata": {},
   "outputs": [
    {
     "name": "stdout",
     "output_type": "stream",
     "text": [
      "n\n",
      "a\n"
     ]
    }
   ],
   "source": [
    "print(animal[-2]) # n\n",
    "print(animal[-3]) # a"
   ]
  },
  {
   "cell_type": "code",
   "execution_count": 45,
   "id": "857f62c6",
   "metadata": {},
   "outputs": [
    {
     "name": "stdout",
     "output_type": "stream",
     "text": [
      "Eehn\n",
      "Elephan\n",
      "Elephant\n"
     ]
    }
   ],
   "source": [
    "print(animal[0:7:2]) # Eehn\n",
    "print(animal[0:7:1]) #Elephan\n",
    "print(animal[::1])#Elephant  #deafult start and end values\n"
   ]
  },
  {
   "cell_type": "code",
   "execution_count": null,
   "id": "dcd0c473",
   "metadata": {},
   "outputs": [],
   "source": []
  }
 ],
 "metadata": {
  "kernelspec": {
   "display_name": "Python 3 (ipykernel)",
   "language": "python",
   "name": "python3"
  },
  "language_info": {
   "codemirror_mode": {
    "name": "ipython",
    "version": 3
   },
   "file_extension": ".py",
   "mimetype": "text/x-python",
   "name": "python",
   "nbconvert_exporter": "python",
   "pygments_lexer": "ipython3",
   "version": "3.11.3"
  }
 },
 "nbformat": 4,
 "nbformat_minor": 5
}
