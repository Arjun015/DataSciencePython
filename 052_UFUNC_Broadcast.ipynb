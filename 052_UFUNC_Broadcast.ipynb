{
 "cells": [
  {
   "cell_type": "code",
   "execution_count": 2,
   "id": "ae516f65",
   "metadata": {},
   "outputs": [],
   "source": [
    "# Slicing the 2-D array.\n",
    "\n",
    "import numpy as np"
   ]
  },
  {
   "cell_type": "code",
   "execution_count": 3,
   "id": "2b6d9a20",
   "metadata": {},
   "outputs": [
    {
     "data": {
      "text/plain": [
       "array([ 0,  1,  2,  3,  4,  5,  6,  7,  8,  9, 10, 11, 12, 13, 14, 15, 16,\n",
       "       17, 18, 19, 20, 21, 22, 23, 24])"
      ]
     },
     "execution_count": 3,
     "metadata": {},
     "output_type": "execute_result"
    }
   ],
   "source": [
    "arr1 = np.arange(25)\n",
    "arr1"
   ]
  },
  {
   "cell_type": "code",
   "execution_count": 5,
   "id": "bfacb751",
   "metadata": {},
   "outputs": [],
   "source": [
    "arr2 = np.arange(25).reshape(5,5)"
   ]
  },
  {
   "cell_type": "code",
   "execution_count": 6,
   "id": "a21d7acb",
   "metadata": {},
   "outputs": [
    {
     "data": {
      "text/plain": [
       "array([[ 0,  1,  2,  3,  4],\n",
       "       [ 5,  6,  7,  8,  9],\n",
       "       [10, 11, 12, 13, 14],\n",
       "       [15, 16, 17, 18, 19],\n",
       "       [20, 21, 22, 23, 24]])"
      ]
     },
     "execution_count": 6,
     "metadata": {},
     "output_type": "execute_result"
    }
   ],
   "source": [
    "arr2"
   ]
  },
  {
   "cell_type": "code",
   "execution_count": 7,
   "id": "1f3c15ea",
   "metadata": {},
   "outputs": [
    {
     "data": {
      "text/plain": [
       "0"
      ]
     },
     "execution_count": 7,
     "metadata": {},
     "output_type": "execute_result"
    }
   ],
   "source": [
    "arr2[0,0]"
   ]
  },
  {
   "cell_type": "code",
   "execution_count": 8,
   "id": "a58b1f70",
   "metadata": {},
   "outputs": [
    {
     "data": {
      "text/plain": [
       "array([[ 0,  1,  2,  3],\n",
       "       [ 5,  6,  7,  8],\n",
       "       [10, 11, 12, 13],\n",
       "       [15, 16, 17, 18]])"
      ]
     },
     "execution_count": 8,
     "metadata": {},
     "output_type": "execute_result"
    }
   ],
   "source": [
    "arr2[0:4,0:4] # last element is not consider."
   ]
  },
  {
   "cell_type": "code",
   "execution_count": 9,
   "id": "92d68ff0",
   "metadata": {},
   "outputs": [
    {
     "data": {
      "text/plain": [
       "array([20, 21, 22, 23, 24])"
      ]
     },
     "execution_count": 9,
     "metadata": {},
     "output_type": "execute_result"
    }
   ],
   "source": [
    "arr2[-1] # getting row"
   ]
  },
  {
   "cell_type": "code",
   "execution_count": 10,
   "id": "7dccfd7e",
   "metadata": {},
   "outputs": [
    {
     "data": {
      "text/plain": [
       "24"
      ]
     },
     "execution_count": 10,
     "metadata": {},
     "output_type": "execute_result"
    }
   ],
   "source": [
    "arr2[-1,-1]"
   ]
  },
  {
   "cell_type": "code",
   "execution_count": 11,
   "id": "8f307a91",
   "metadata": {},
   "outputs": [
    {
     "data": {
      "text/plain": [
       "array([[ 0,  1,  2,  3,  4],\n",
       "       [ 5,  6,  7,  8,  9],\n",
       "       [10, 11, 12, 13, 14],\n",
       "       [15, 16, 17, 18, 19],\n",
       "       [20, 21, 22, 23, 24]])"
      ]
     },
     "execution_count": 11,
     "metadata": {},
     "output_type": "execute_result"
    }
   ],
   "source": [
    "arr2"
   ]
  },
  {
   "cell_type": "code",
   "execution_count": 12,
   "id": "bea8baec",
   "metadata": {},
   "outputs": [
    {
     "data": {
      "text/plain": [
       "18"
      ]
     },
     "execution_count": 12,
     "metadata": {},
     "output_type": "execute_result"
    }
   ],
   "source": [
    "arr2[-2,-2]"
   ]
  },
  {
   "cell_type": "code",
   "execution_count": 13,
   "id": "8374350d",
   "metadata": {},
   "outputs": [
    {
     "data": {
      "text/plain": [
       "array([[ 0,  1,  2,  3,  4],\n",
       "       [ 5,  6,  7,  8,  9],\n",
       "       [10, 11, 12, 13, 14],\n",
       "       [15, 16, 17, 18, 19],\n",
       "       [20, 21, 22, 23, 24]])"
      ]
     },
     "execution_count": 13,
     "metadata": {},
     "output_type": "execute_result"
    }
   ],
   "source": [
    "arr2"
   ]
  },
  {
   "cell_type": "code",
   "execution_count": 15,
   "id": "69d2c22f",
   "metadata": {},
   "outputs": [
    {
     "data": {
      "text/plain": [
       "array([ 0,  5, 10, 15, 20])"
      ]
     },
     "execution_count": 15,
     "metadata": {},
     "output_type": "execute_result"
    }
   ],
   "source": [
    "arr2[0:5,0]"
   ]
  },
  {
   "cell_type": "code",
   "execution_count": 16,
   "id": "4f839027",
   "metadata": {},
   "outputs": [
    {
     "data": {
      "text/plain": [
       "array([20, 21, 22, 23, 24])"
      ]
     },
     "execution_count": 16,
     "metadata": {},
     "output_type": "execute_result"
    }
   ],
   "source": [
    "# Negative Indexing\n",
    "\n",
    "arr2[-1]"
   ]
  },
  {
   "cell_type": "code",
   "execution_count": 17,
   "id": "19940305",
   "metadata": {},
   "outputs": [
    {
     "data": {
      "text/plain": [
       "array([15, 16, 17, 18, 19])"
      ]
     },
     "execution_count": 17,
     "metadata": {},
     "output_type": "execute_result"
    }
   ],
   "source": [
    "arr2[-2]"
   ]
  },
  {
   "cell_type": "code",
   "execution_count": 18,
   "id": "b50b0810",
   "metadata": {},
   "outputs": [
    {
     "data": {
      "text/plain": [
       "array([0, 1, 2, 3, 4])"
      ]
     },
     "execution_count": 18,
     "metadata": {},
     "output_type": "execute_result"
    }
   ],
   "source": [
    "arr2[-5]"
   ]
  },
  {
   "cell_type": "code",
   "execution_count": 19,
   "id": "3e7fa645",
   "metadata": {},
   "outputs": [
    {
     "data": {
      "text/plain": [
       "4"
      ]
     },
     "execution_count": 19,
     "metadata": {},
     "output_type": "execute_result"
    }
   ],
   "source": [
    "arr2[0,-1]"
   ]
  },
  {
   "cell_type": "code",
   "execution_count": 20,
   "id": "d665b25d",
   "metadata": {},
   "outputs": [
    {
     "data": {
      "text/plain": [
       "array([[ 0,  1,  2,  3,  4],\n",
       "       [ 5,  6,  7,  8,  9],\n",
       "       [10, 11, 12, 13, 14],\n",
       "       [15, 16, 17, 18, 19],\n",
       "       [20, 21, 22, 23, 24]])"
      ]
     },
     "execution_count": 20,
     "metadata": {},
     "output_type": "execute_result"
    }
   ],
   "source": [
    "\n",
    "\n",
    "arr2"
   ]
  },
  {
   "cell_type": "code",
   "execution_count": 21,
   "id": "b2150674",
   "metadata": {},
   "outputs": [
    {
     "data": {
      "text/plain": [
       "24"
      ]
     },
     "execution_count": 21,
     "metadata": {},
     "output_type": "execute_result"
    }
   ],
   "source": [
    "arr2[4,4]"
   ]
  },
  {
   "cell_type": "code",
   "execution_count": 22,
   "id": "462fdeed",
   "metadata": {},
   "outputs": [
    {
     "data": {
      "text/plain": [
       "24"
      ]
     },
     "execution_count": 22,
     "metadata": {},
     "output_type": "execute_result"
    }
   ],
   "source": [
    "arr2[-1,-1]"
   ]
  },
  {
   "cell_type": "code",
   "execution_count": 23,
   "id": "496ff913",
   "metadata": {},
   "outputs": [
    {
     "data": {
      "text/plain": [
       "array([[ 0,  2,  4],\n",
       "       [10, 12, 14],\n",
       "       [20, 22, 24]])"
      ]
     },
     "execution_count": 23,
     "metadata": {},
     "output_type": "execute_result"
    }
   ],
   "source": [
    "# Jump Value\n",
    "\n",
    "arr2[0:5:2,0:5:2] #last one is not included."
   ]
  },
  {
   "cell_type": "code",
   "execution_count": 24,
   "id": "0d1550b3",
   "metadata": {},
   "outputs": [
    {
     "data": {
      "text/plain": [
       "array([[ 7,  8],\n",
       "       [12, 13],\n",
       "       [17, 18]])"
      ]
     },
     "execution_count": 24,
     "metadata": {},
     "output_type": "execute_result"
    }
   ],
   "source": [
    "arr2[1:4,2:4]"
   ]
  },
  {
   "cell_type": "code",
   "execution_count": 25,
   "id": "4c44f610",
   "metadata": {},
   "outputs": [
    {
     "data": {
      "text/plain": [
       "array([], shape=(0, 0), dtype=int32)"
      ]
     },
     "execution_count": 25,
     "metadata": {},
     "output_type": "execute_result"
    }
   ],
   "source": [
    "arr2[0:5:-1,0:5:-1]"
   ]
  },
  {
   "cell_type": "code",
   "execution_count": null,
   "id": "4e096769",
   "metadata": {},
   "outputs": [],
   "source": []
  },
  {
   "cell_type": "code",
   "execution_count": 26,
   "id": "3e8fd065",
   "metadata": {},
   "outputs": [],
   "source": [
    "#Indexing with Boolean arrays"
   ]
  },
  {
   "cell_type": "code",
   "execution_count": 27,
   "id": "589932ac",
   "metadata": {},
   "outputs": [],
   "source": [
    "arr3 = np.arange(5,25)"
   ]
  },
  {
   "cell_type": "code",
   "execution_count": 28,
   "id": "ef794c20",
   "metadata": {},
   "outputs": [
    {
     "data": {
      "text/plain": [
       "array([ 5,  6,  7,  8,  9, 10, 11, 12, 13, 14, 15, 16, 17, 18, 19, 20, 21,\n",
       "       22, 23, 24])"
      ]
     },
     "execution_count": 28,
     "metadata": {},
     "output_type": "execute_result"
    }
   ],
   "source": [
    "arr3"
   ]
  },
  {
   "cell_type": "code",
   "execution_count": 31,
   "id": "49effbe3",
   "metadata": {},
   "outputs": [
    {
     "data": {
      "text/plain": [
       "20"
      ]
     },
     "execution_count": 31,
     "metadata": {},
     "output_type": "execute_result"
    }
   ],
   "source": [
    "np.size(arr3) # Standerd Formate for the write."
   ]
  },
  {
   "cell_type": "code",
   "execution_count": 32,
   "id": "b2133ce7",
   "metadata": {},
   "outputs": [
    {
     "data": {
      "text/plain": [
       "20"
      ]
     },
     "execution_count": 32,
     "metadata": {},
     "output_type": "execute_result"
    }
   ],
   "source": [
    "arr3.size"
   ]
  },
  {
   "cell_type": "code",
   "execution_count": 33,
   "id": "5e969e2c",
   "metadata": {},
   "outputs": [],
   "source": [
    "arr4 = np.arange(5,25).reshape(5,4)"
   ]
  },
  {
   "cell_type": "code",
   "execution_count": 34,
   "id": "39462e32",
   "metadata": {},
   "outputs": [
    {
     "data": {
      "text/plain": [
       "array([[ 5,  6,  7,  8],\n",
       "       [ 9, 10, 11, 12],\n",
       "       [13, 14, 15, 16],\n",
       "       [17, 18, 19, 20],\n",
       "       [21, 22, 23, 24]])"
      ]
     },
     "execution_count": 34,
     "metadata": {},
     "output_type": "execute_result"
    }
   ],
   "source": [
    "arr4"
   ]
  },
  {
   "cell_type": "code",
   "execution_count": 35,
   "id": "d80cf820",
   "metadata": {},
   "outputs": [],
   "source": [
    "Mask1 = arr4 % 2 == 0 "
   ]
  },
  {
   "cell_type": "code",
   "execution_count": 36,
   "id": "b6b4c4cd",
   "metadata": {},
   "outputs": [],
   "source": [
    "Mask2 = arr4 % 5 == 0"
   ]
  },
  {
   "cell_type": "code",
   "execution_count": 37,
   "id": "d5d869d1",
   "metadata": {},
   "outputs": [
    {
     "data": {
      "text/plain": [
       "array([ 5,  6,  8, 10, 12, 14, 15, 16, 18, 20, 22, 24])"
      ]
     },
     "execution_count": 37,
     "metadata": {},
     "output_type": "execute_result"
    }
   ],
   "source": [
    "arr4[Mask1 | Mask2] # outPut will be 1-D Array."
   ]
  },
  {
   "cell_type": "code",
   "execution_count": null,
   "id": "735e8c82",
   "metadata": {},
   "outputs": [],
   "source": [
    "# /HW\n",
    "1. # slice the array to get below name\n",
    "s = np.array([['Priya', 'Rohit', 'Aryan'],\n",
    "       ['Neha', 'Avni', 'Akash'],\n",
    "       ['Arjun', 'Riya', 'Devanshi']])\n",
    "\n",
    "\n",
    "1. 'Priya', 'Rohit', 'Aryan'\n",
    "2. 'Riya','Devanshi'\n",
    "3. 'Neha', 'Avni', 'Akash' 'Arjun', 'Riya', 'Devanshi'\n",
    "4. 'Avni'\n",
    "5. 'Neha'\n",
    "\n",
    "2. Use masking to get the values\n",
    "score = np.random.randint(10,100,15).reshape(5,3)\n",
    "1. find all scores > 50\n",
    "2. find all scores <35"
   ]
  },
  {
   "cell_type": "code",
   "execution_count": 39,
   "id": "9a045bad",
   "metadata": {},
   "outputs": [],
   "source": [
    "# 1.Q> slice the array to get below name.\n",
    "s = np.array([['Priya', 'Rohit', 'Aryan'],\n",
    "       ['Neha', 'Avni', 'Akash'],\n",
    "       ['Arjun', 'Riya', 'Devanshi']])\n"
   ]
  },
  {
   "cell_type": "code",
   "execution_count": 40,
   "id": "ed7eb832",
   "metadata": {},
   "outputs": [
    {
     "data": {
      "text/plain": [
       "array(['Priya', 'Rohit', 'Aryan'], dtype='<U8')"
      ]
     },
     "execution_count": 40,
     "metadata": {},
     "output_type": "execute_result"
    }
   ],
   "source": [
    "# OutPuts:-\n",
    "# 1. 'Priya', 'Rohit', 'Aryan'\n",
    "s[0]"
   ]
  },
  {
   "cell_type": "code",
   "execution_count": 41,
   "id": "38dab982",
   "metadata": {},
   "outputs": [
    {
     "data": {
      "text/plain": [
       "array(['Riya', 'Devanshi'], dtype='<U8')"
      ]
     },
     "execution_count": 41,
     "metadata": {},
     "output_type": "execute_result"
    }
   ],
   "source": [
    "# 2.\n",
    "s[2,1:3]"
   ]
  },
  {
   "cell_type": "code",
   "execution_count": 42,
   "id": "04492c85",
   "metadata": {},
   "outputs": [
    {
     "data": {
      "text/plain": [
       "array([['Neha', 'Avni', 'Akash'],\n",
       "       ['Arjun', 'Riya', 'Devanshi']], dtype='<U8')"
      ]
     },
     "execution_count": 42,
     "metadata": {},
     "output_type": "execute_result"
    }
   ],
   "source": [
    "# 3.\n",
    "s[1:3,0:3]"
   ]
  },
  {
   "cell_type": "code",
   "execution_count": 43,
   "id": "f3fb3aa7",
   "metadata": {},
   "outputs": [
    {
     "data": {
      "text/plain": [
       "'Avni'"
      ]
     },
     "execution_count": 43,
     "metadata": {},
     "output_type": "execute_result"
    }
   ],
   "source": [
    "#4.\n",
    "s[1,1]"
   ]
  },
  {
   "cell_type": "code",
   "execution_count": 45,
   "id": "f903653f",
   "metadata": {},
   "outputs": [
    {
     "data": {
      "text/plain": [
       "'Neha'"
      ]
     },
     "execution_count": 45,
     "metadata": {},
     "output_type": "execute_result"
    }
   ],
   "source": [
    "# 5.\n",
    "s[1,0]"
   ]
  },
  {
   "cell_type": "code",
   "execution_count": null,
   "id": "36395d12",
   "metadata": {},
   "outputs": [],
   "source": []
  },
  {
   "cell_type": "code",
   "execution_count": 46,
   "id": "65aa70c4",
   "metadata": {},
   "outputs": [
    {
     "data": {
      "text/plain": [
       "array([[93, 58, 33],\n",
       "       [55, 84, 27],\n",
       "       [93, 15, 10],\n",
       "       [75, 61, 95],\n",
       "       [36, 67, 53]])"
      ]
     },
     "execution_count": 46,
     "metadata": {},
     "output_type": "execute_result"
    }
   ],
   "source": [
    "#####  2. Use masking to get the values\n",
    "score = np.random.randint(10,100,15).reshape(5,3)\n",
    "score\n",
    "# 1. find all scores > 50\n",
    "# 2. find all scores <35"
   ]
  },
  {
   "cell_type": "code",
   "execution_count": 47,
   "id": "37559ebf",
   "metadata": {},
   "outputs": [
    {
     "data": {
      "text/plain": [
       "array([93, 58, 55, 84, 93, 75, 61, 95, 67, 53])"
      ]
     },
     "execution_count": 47,
     "metadata": {},
     "output_type": "execute_result"
    }
   ],
   "source": [
    "# 1. find all scores > 50\n",
    "\n",
    "score[score > 50]"
   ]
  },
  {
   "cell_type": "code",
   "execution_count": 48,
   "id": "a07ba2cb",
   "metadata": {},
   "outputs": [
    {
     "data": {
      "text/plain": [
       "15"
      ]
     },
     "execution_count": 48,
     "metadata": {},
     "output_type": "execute_result"
    }
   ],
   "source": [
    "score.size"
   ]
  },
  {
   "cell_type": "code",
   "execution_count": 49,
   "id": "fe6c2399",
   "metadata": {},
   "outputs": [
    {
     "data": {
      "text/plain": [
       "array([93, 58, 55, 84, 93, 75, 61, 95, 36, 67, 53])"
      ]
     },
     "execution_count": 49,
     "metadata": {},
     "output_type": "execute_result"
    }
   ],
   "source": [
    "# 2. find all scores <35\n",
    "\n",
    "score[score > 35]\n",
    "\n",
    "# HomeWork Complited"
   ]
  },
  {
   "cell_type": "code",
   "execution_count": null,
   "id": "52d8f0ea",
   "metadata": {},
   "outputs": [],
   "source": []
  },
  {
   "cell_type": "code",
   "execution_count": 50,
   "id": "abd598b0",
   "metadata": {},
   "outputs": [],
   "source": [
    "#########  Universal Function #############"
   ]
  },
  {
   "cell_type": "code",
   "execution_count": 52,
   "id": "4dbd8ad3",
   "metadata": {},
   "outputs": [],
   "source": [
    "a = np.array([11,22,33,44,55])\n",
    "b = np.array([1,2,3,4,5])"
   ]
  },
  {
   "cell_type": "code",
   "execution_count": 53,
   "id": "4006b6a6",
   "metadata": {},
   "outputs": [
    {
     "name": "stdout",
     "output_type": "stream",
     "text": [
      "[11 22 33 44 55]\n",
      "[1 2 3 4 5]\n"
     ]
    }
   ],
   "source": [
    "print(a)\n",
    "print(b)"
   ]
  },
  {
   "cell_type": "code",
   "execution_count": 54,
   "id": "7e1cf44b",
   "metadata": {},
   "outputs": [
    {
     "name": "stdout",
     "output_type": "stream",
     "text": [
      "[12 24 36 48 60]\n",
      "[10 20 30 40 50]\n",
      "[ 11  44  99 176 275]\n",
      "[11. 11. 11. 11. 11.]\n"
     ]
    }
   ],
   "source": [
    "# Addition\n",
    "\n",
    "print(a + b)\n",
    "\n",
    "# Sub\n",
    "\n",
    "print(a - b)\n",
    "\n",
    "# Mul\n",
    "\n",
    "print(a * b)\n",
    "\n",
    "# Div\n",
    "\n",
    "print(a/b)"
   ]
  },
  {
   "cell_type": "code",
   "execution_count": 56,
   "id": "dfd468b3",
   "metadata": {},
   "outputs": [
    {
     "name": "stdout",
     "output_type": "stream",
     "text": [
      "Array 1: [1 2 3 4 5]\n",
      "Array 2: [ 6  7  8  9 10]\n",
      "Addition Result: [ 7  9 11 13 15]\n",
      "Subtraction Result: [-5 -5 -5 -5 -5]\n",
      "Multiplication Result: [ 6 14 24 36 50]\n",
      "Division Result: [0.16666667 0.28571429 0.375      0.44444444 0.5       ]\n",
      "Square Root Result: [1.         1.41421356 1.73205081 2.         2.23606798]\n",
      "Exponential Result: [  2.71828183   7.3890561   20.08553692  54.59815003 148.4131591 ]\n",
      "Sine Result: [ 0.84147098  0.90929743  0.14112001 -0.7568025  -0.95892427]\n"
     ]
    }
   ],
   "source": [
    "# Program\n",
    "\n",
    "\n",
    "# Create two NumPy arrays\n",
    "array1 = np.array([1, 2, 3, 4, 5])\n",
    "array2 = np.array([6, 7, 8, 9, 10])\n",
    "\n",
    "# Basic arithmetic operations with ufuncs\n",
    "addition_result = np.add(array1, array2)\n",
    "subtraction_result = np.subtract(array1, array2)\n",
    "multiplication_result = np.multiply(array1, array2)\n",
    "division_result = np.divide(array1, array2)\n",
    "\n",
    "print(\"Array 1:\", array1)\n",
    "print(\"Array 2:\", array2)\n",
    "print(\"Addition Result:\", addition_result)\n",
    "print(\"Subtraction Result:\", subtraction_result)\n",
    "print(\"Multiplication Result:\", multiplication_result)\n",
    "print(\"Division Result:\", division_result)\n",
    "\n",
    "# Other ufuncs\n",
    "square_root_result = np.sqrt(array1)\n",
    "exponential_result = np.exp(array1)\n",
    "sine_result = np.sin(array1)\n",
    "\n",
    "print(\"Square Root Result:\", square_root_result)\n",
    "print(\"Exponential Result:\", exponential_result)\n",
    "print(\"Sine Result:\", sine_result)\n"
   ]
  },
  {
   "cell_type": "code",
   "execution_count": null,
   "id": "3ac3c214",
   "metadata": {},
   "outputs": [],
   "source": []
  }
 ],
 "metadata": {
  "kernelspec": {
   "display_name": "Python 3 (ipykernel)",
   "language": "python",
   "name": "python3"
  },
  "language_info": {
   "codemirror_mode": {
    "name": "ipython",
    "version": 3
   },
   "file_extension": ".py",
   "mimetype": "text/x-python",
   "name": "python",
   "nbconvert_exporter": "python",
   "pygments_lexer": "ipython3",
   "version": "3.11.3"
  }
 },
 "nbformat": 4,
 "nbformat_minor": 5
}
