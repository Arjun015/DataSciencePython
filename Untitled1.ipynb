{
 "cells": [
  {
   "cell_type": "code",
   "execution_count": null,
   "id": "cc4fd765",
   "metadata": {},
   "outputs": [],
   "source": [
    "import time\n",
    "import sys\n",
    "\n",
    "for i in range(1,101):\n",
    "    print(i,end=\"%\")\n",
    "    sys.stdout.flush()\n",
    "    time.sleep(i)\n",
    "    \n",
    "    print(end=\"\\r\")"
   ]
  },
  {
   "cell_type": "code",
   "execution_count": null,
   "id": "109b7b82",
   "metadata": {},
   "outputs": [],
   "source": [
    "import time\n",
    "import sys\n",
    "\n",
    "for i in range(1,101):\n",
    "    print(i,end=\"%\")\n",
    "    sys.stdout.flush()\n",
    "    time.sleep(i)\n",
    "    \n",
    "    print(end=\"\\r\")"
   ]
  },
  {
   "cell_type": "code",
   "execution_count": null,
   "id": "72cea08c",
   "metadata": {},
   "outputs": [],
   "source": []
  }
 ],
 "metadata": {
  "kernelspec": {
   "display_name": "Python 3 (ipykernel)",
   "language": "python",
   "name": "python3"
  },
  "language_info": {
   "codemirror_mode": {
    "name": "ipython",
    "version": 3
   },
   "file_extension": ".py",
   "mimetype": "text/x-python",
   "name": "python",
   "nbconvert_exporter": "python",
   "pygments_lexer": "ipython3",
   "version": "3.11.3"
  }
 },
 "nbformat": 4,
 "nbformat_minor": 5
}
