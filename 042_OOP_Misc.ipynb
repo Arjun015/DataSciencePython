{
 "cells": [
  {
   "cell_type": "code",
   "execution_count": 1,
   "id": "3162139f",
   "metadata": {},
   "outputs": [],
   "source": [
    "# MRO"
   ]
  },
  {
   "cell_type": "code",
   "execution_count": 3,
   "id": "ab18d69e",
   "metadata": {},
   "outputs": [
    {
     "name": "stdout",
     "output_type": "stream",
     "text": [
      "I am working\n",
      "I am working in pune\n",
      "I am working in sambhajiNagar\n"
     ]
    }
   ],
   "source": [
    "# Program 1\n",
    "\n",
    "class Employee:\n",
    "    def show(self):\n",
    "        print('I am working')\n",
    "        \n",
    "class Pune :\n",
    "    def show(self):\n",
    "        print('I am working in pune')\n",
    "        \n",
    "class SambhajiNagar:\n",
    "    def show(self):\n",
    "        print('I am working in sambhajiNagar')\n",
    "        \n",
    "e1 = Employee()\n",
    "e1.show()\n",
    "\n",
    "p1 = Pune()\n",
    "p1.show()\n",
    "\n",
    "s1 = SambhajiNagar ()\n",
    "s1.show()        "
   ]
  },
  {
   "cell_type": "code",
   "execution_count": 6,
   "id": "dcba32f9",
   "metadata": {},
   "outputs": [
    {
     "name": "stdout",
     "output_type": "stream",
     "text": [
      "I am working\n",
      "I am working in Pune\n",
      "I am working in Nagpur\n"
     ]
    }
   ],
   "source": [
    "# Program 2\n",
    "class Employee():\n",
    "    def show(self):\n",
    "        print(\"I am working\")\n",
    "        \n",
    "class Pune(Employee):\n",
    "    def show(self):\n",
    "        print(\"I am working in Pune\")\n",
    "        \n",
    "class Nagpur(Employee):\n",
    "    def show(self):\n",
    "        print(\"I am working in Nagpur\")     \n",
    "        \n",
    "e1 = Employee()\n",
    "e1.show()\n",
    "\n",
    "p1 = Pune()\n",
    "p1.show() #it will over ride the parent method\n",
    "\n",
    "n1 =  Nagpur()\n",
    "n1.show() ##it will over ride the parent method\n",
    "        "
   ]
  },
  {
   "cell_type": "code",
   "execution_count": 7,
   "id": "367cd40a",
   "metadata": {},
   "outputs": [
    {
     "name": "stdout",
     "output_type": "stream",
     "text": [
      "I am working\n",
      "I am working in Pune\n",
      "I am working in Nagpur\n",
      "I am working in Pune\n"
     ]
    }
   ],
   "source": [
    "# Program 3\n",
    "class Employee():\n",
    "    def show(self):\n",
    "        print(\"I am working\")\n",
    "        \n",
    "class Pune(Employee):\n",
    "    def show(self):\n",
    "        print(\"I am working in Pune\")\n",
    "        \n",
    "class Nagpur(Employee):\n",
    "    def show(self):\n",
    "        print(\"I am working in Nagpur\")     \n",
    "        \n",
    "class D(Pune,Nagpur):\n",
    "    pass\n",
    "\n",
    "e1 = Employee()\n",
    "e1.show()\n",
    "\n",
    "p1 = Pune()\n",
    "p1.show() #it will over ride the parent method\n",
    "\n",
    "n1 =  Nagpur()\n",
    "n1.show() ##it will over ride the parent method\n",
    "\n",
    "d1= D()\n",
    "d1.show() #I am working in Pune\n",
    "          # Give the first occurence\n",
    "    \n",
    "    \n",
    "        "
   ]
  },
  {
   "cell_type": "code",
   "execution_count": 8,
   "id": "ea48412f",
   "metadata": {},
   "outputs": [
    {
     "name": "stdout",
     "output_type": "stream",
     "text": [
      "Meow\n",
      "Bark\n"
     ]
    }
   ],
   "source": [
    "# Program 4\n",
    "class Animal():\n",
    "    def make_sound(self):\n",
    "        print(\"Some animal Sound\")\n",
    "class Dog(Animal):\n",
    "    def make_sound(self):\n",
    "        print(\"Bark\")\n",
    "class Cat(Animal):        \n",
    "    def make_sound(self):\n",
    "        print(\"Meow\")\n",
    "    \n",
    "c1 =  Cat()\n",
    "c1.make_sound() #over riding the parent class\n",
    "\n",
    "d1 =  Dog()\n",
    "d1.make_sound() #over riding the parent class"
   ]
  },
  {
   "cell_type": "code",
   "execution_count": 16,
   "id": "ff927d91",
   "metadata": {},
   "outputs": [
    {
     "name": "stdout",
     "output_type": "stream",
     "text": [
      "15\n",
      "49\n",
      "26\n",
      "23\n"
     ]
    }
   ],
   "source": [
    "# Method overloading\n",
    "\n",
    "def Addition(a,b=0,c=0,d=0):\n",
    "    print(a+b+c+d)\n",
    "    \n",
    "Addition(1,3,4,7)\n",
    "Addition(1,3,45)\n",
    "Addition(11,15)\n",
    "Addition(23)"
   ]
  },
  {
   "cell_type": "code",
   "execution_count": 19,
   "id": "49c175d6",
   "metadata": {},
   "outputs": [
    {
     "name": "stdout",
     "output_type": "stream",
     "text": [
      "(1, 2, 3, 4, 45, 43)\n",
      "('a', 'c', 'd', 'e')\n"
     ]
    }
   ],
   "source": [
    "class Printdata :\n",
    "    def show(self,*args):\n",
    "        print(args)\n",
    "        \n",
    "p1 = Printdata()\n",
    "p1.show(1,2,3,4,45,43)\n",
    "p1.show('a','c','d','e')\n",
    "        "
   ]
  },
  {
   "cell_type": "code",
   "execution_count": 20,
   "id": "82ceecfc",
   "metadata": {},
   "outputs": [
    {
     "name": "stdout",
     "output_type": "stream",
     "text": [
      "<__main__.Calc object at 0x000001B42812EC90>\n"
     ]
    }
   ],
   "source": [
    "# Decorators\n",
    "\n",
    "# Decorators are a way to add functionality to functions without modifying the function's source code.\n",
    "# Decorators are commonly used to perform tasks such as logging, timing, and authentication.\n",
    "# Decorators can be used to make code more reusable and maintainable.\n",
    "\n",
    "\n",
    "class Calc : \n",
    "    \n",
    "    def Add(x,y):\n",
    "        print(x+y)\n",
    "        \n",
    "        \n",
    "    def show():\n",
    "        print('I am Great!')\n",
    "        \n",
    "c1 = Calc()\n",
    "print(c1)\n",
    "\n",
    "\n",
    "\n",
    "\n"
   ]
  },
  {
   "cell_type": "code",
   "execution_count": 24,
   "id": "7287de61",
   "metadata": {},
   "outputs": [
    {
     "name": "stdout",
     "output_type": "stream",
     "text": [
      "35\n",
      "I am Great!\n"
     ]
    }
   ],
   "source": [
    "class Calc : \n",
    "    @staticmethod\n",
    "    def Add(x,y):\n",
    "        print(x+y)\n",
    "        \n",
    "    @staticmethod    \n",
    "    def show():\n",
    "        print('I am Great!')\n",
    "        \n",
    "c1 = Calc()\n",
    "c1.Add(12,23)\n",
    "\n",
    "c1.show()"
   ]
  },
  {
   "cell_type": "code",
   "execution_count": null,
   "id": "96f74192",
   "metadata": {},
   "outputs": [],
   "source": []
  }
 ],
 "metadata": {
  "kernelspec": {
   "display_name": "Python 3 (ipykernel)",
   "language": "python",
   "name": "python3"
  },
  "language_info": {
   "codemirror_mode": {
    "name": "ipython",
    "version": 3
   },
   "file_extension": ".py",
   "mimetype": "text/x-python",
   "name": "python",
   "nbconvert_exporter": "python",
   "pygments_lexer": "ipython3",
   "version": "3.11.3"
  }
 },
 "nbformat": 4,
 "nbformat_minor": 5
}
