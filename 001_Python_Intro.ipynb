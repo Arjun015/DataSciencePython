{
 "cells": [
  {
   "cell_type": "code",
   "execution_count": 1,
   "id": "7bca3083",
   "metadata": {},
   "outputs": [],
   "source": [
    "#  TOPICS TO BE COVERED \n",
    "#  👉 Intro to  Python\n",
    "#################################################\n",
    "# print is a function\n",
    "#  inside the () is called the Argument\n",
    "#  we change the Argument to get different o/p\n",
    "\n",
    "#  print is used to print the contents/argument as it is  , if it is inside \n",
    "#  '' or \" \" or ''' '''\n"
   ]
  },
  {
   "cell_type": "code",
   "execution_count": 2,
   "id": "00921ea5",
   "metadata": {},
   "outputs": [
    {
     "name": "stdout",
     "output_type": "stream",
     "text": [
      "Hello word\n"
     ]
    }
   ],
   "source": [
    "print('Hello word')"
   ]
  },
  {
   "cell_type": "code",
   "execution_count": 3,
   "id": "b3ecd34d",
   "metadata": {},
   "outputs": [
    {
     "name": "stdout",
     "output_type": "stream",
     "text": [
      "My Name is Artist Arjun Jadhav\n"
     ]
    }
   ],
   "source": [
    "print('My Name is Artist Arjun Jadhav')"
   ]
  },
  {
   "cell_type": "code",
   "execution_count": 4,
   "id": "4bc07020",
   "metadata": {},
   "outputs": [
    {
     "name": "stdout",
     "output_type": "stream",
     "text": [
      "I am a Data Scientist\n"
     ]
    }
   ],
   "source": [
    "print('I am a Data Scientist')"
   ]
  },
  {
   "cell_type": "code",
   "execution_count": 5,
   "id": "1b37c833",
   "metadata": {},
   "outputs": [
    {
     "name": "stdout",
     "output_type": "stream",
     "text": [
      "i am a Software Engineer\n"
     ]
    }
   ],
   "source": [
    "print('i am a Software Engineer')"
   ]
  },
  {
   "cell_type": "code",
   "execution_count": 6,
   "id": "cdf631bc",
   "metadata": {},
   "outputs": [
    {
     "name": "stdout",
     "output_type": "stream",
     "text": [
      "Arjun Jadhav \n"
     ]
    }
   ],
   "source": [
    "print('Arjun Jadhav ')"
   ]
  },
  {
   "cell_type": "code",
   "execution_count": 7,
   "id": "9e7605ec",
   "metadata": {},
   "outputs": [
    {
     "name": "stdout",
     "output_type": "stream",
     "text": [
      "Arjun Jadhav \n"
     ]
    }
   ],
   "source": [
    "print('Arjun Jadhav ')"
   ]
  },
  {
   "cell_type": "code",
   "execution_count": 9,
   "id": "e079ba0b",
   "metadata": {},
   "outputs": [
    {
     "name": "stdout",
     "output_type": "stream",
     "text": [
      "60\n",
      "225\n"
     ]
    }
   ],
   "source": [
    "print(20*3)\n",
    "print(45*5)"
   ]
  },
  {
   "cell_type": "code",
   "execution_count": 10,
   "id": "62777687",
   "metadata": {},
   "outputs": [
    {
     "name": "stdout",
     "output_type": "stream",
     "text": [
      "1074174925824\n"
     ]
    }
   ],
   "source": [
    "print(3323232*323232)"
   ]
  },
  {
   "cell_type": "code",
   "execution_count": 11,
   "id": "e06d7e2f",
   "metadata": {},
   "outputs": [
    {
     "name": "stdout",
     "output_type": "stream",
     "text": [
      "32\n"
     ]
    }
   ],
   "source": [
    "print(2**5)"
   ]
  },
  {
   "cell_type": "code",
   "execution_count": 12,
   "id": "e330f27e",
   "metadata": {},
   "outputs": [
    {
     "name": "stdout",
     "output_type": "stream",
     "text": [
      "512\n"
     ]
    }
   ],
   "source": [
    "print(8**3)"
   ]
  },
  {
   "cell_type": "code",
   "execution_count": 13,
   "id": "f5835aa7",
   "metadata": {},
   "outputs": [
    {
     "name": "stdout",
     "output_type": "stream",
     "text": [
      "441\n"
     ]
    }
   ],
   "source": [
    "print(21**2)"
   ]
  },
  {
   "cell_type": "code",
   "execution_count": 14,
   "id": "71209d37",
   "metadata": {},
   "outputs": [
    {
     "ename": "SyntaxError",
     "evalue": "invalid syntax (3129434975.py, line 1)",
     "output_type": "error",
     "traceback": [
      "\u001b[1;36m  Cell \u001b[1;32mIn[14], line 1\u001b[1;36m\u001b[0m\n\u001b[1;33m    print(@)\u001b[0m\n\u001b[1;37m          ^\u001b[0m\n\u001b[1;31mSyntaxError\u001b[0m\u001b[1;31m:\u001b[0m invalid syntax\n"
     ]
    }
   ],
   "source": [
    "print(@)"
   ]
  },
  {
   "cell_type": "code",
   "execution_count": 15,
   "id": "cd801cd5",
   "metadata": {},
   "outputs": [
    {
     "name": "stdout",
     "output_type": "stream",
     "text": [
      "@\n"
     ]
    }
   ],
   "source": [
    "print('@')"
   ]
  },
  {
   "cell_type": "code",
   "execution_count": 16,
   "id": "057945a1",
   "metadata": {},
   "outputs": [],
   "source": [
    "tt = \"My name is Arjun\""
   ]
  },
  {
   "cell_type": "code",
   "execution_count": 17,
   "id": "90fa2d40",
   "metadata": {},
   "outputs": [
    {
     "name": "stdout",
     "output_type": "stream",
     "text": [
      "My name is Arjun\n"
     ]
    }
   ],
   "source": [
    "print(tt)"
   ]
  },
  {
   "cell_type": "code",
   "execution_count": 20,
   "id": "44b915ba",
   "metadata": {},
   "outputs": [],
   "source": [
    "ttt = \"Hey world, I am very Intelligent \""
   ]
  },
  {
   "cell_type": "code",
   "execution_count": 21,
   "id": "5b646f86",
   "metadata": {},
   "outputs": [
    {
     "name": "stdout",
     "output_type": "stream",
     "text": [
      "Hey world, I am very Intelligent \n"
     ]
    }
   ],
   "source": [
    "print(ttt)"
   ]
  },
  {
   "cell_type": "code",
   "execution_count": 24,
   "id": "8ad88721",
   "metadata": {},
   "outputs": [
    {
     "name": "stdout",
     "output_type": "stream",
     "text": [
      "This is what we have\n",
      "we will attend the class daily with daily practise\n",
      "50+50\n",
      "100\n",
      "Gandhi ji said,\"you must speak truth\"!\n"
     ]
    }
   ],
   "source": [
    "# HW\n",
    "''' \n",
    "1. This is what we have \n",
    "2. We will attend the class daily\n",
    "3. 50+50 witb quotes\n",
    "4. 50+50 without quotes\n",
    "5. It's a nice day\n",
    "6. Gandhiji said , \"you must speak truth\" !\n",
    "\n",
    "'''\n",
    "\n",
    "# 1\n",
    "print('This is what we have')\n",
    "\n",
    "# 2\n",
    "print('we will attend the class daily with daily practise')\n",
    "\n",
    "# 3\n",
    "print('50+50')\n",
    "\n",
    "# 4 \n",
    "print(50+50)\n",
    "\n",
    "# 5 \n",
    "print('Gandhi ji said,\"you must speak truth\"!')"
   ]
  },
  {
   "cell_type": "code",
   "execution_count": null,
   "id": "83b7cadc",
   "metadata": {},
   "outputs": [],
   "source": []
  }
 ],
 "metadata": {
  "kernelspec": {
   "display_name": "Python 3 (ipykernel)",
   "language": "python",
   "name": "python3"
  },
  "language_info": {
   "codemirror_mode": {
    "name": "ipython",
    "version": 3
   },
   "file_extension": ".py",
   "mimetype": "text/x-python",
   "name": "python",
   "nbconvert_exporter": "python",
   "pygments_lexer": "ipython3",
   "version": "3.11.3"
  }
 },
 "nbformat": 4,
 "nbformat_minor": 5
}
