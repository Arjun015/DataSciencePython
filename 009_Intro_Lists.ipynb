{
 "cells": [
  {
   "cell_type": "code",
   "execution_count": 1,
   "id": "9bf1a330",
   "metadata": {},
   "outputs": [],
   "source": [
    "#  TOPICS TO BE COVERED \n",
    "# 👉 Lists in Python\n",
    "#################################################\n",
    "\n",
    "# Intro to list\n",
    "# list is a collection of objects/items\n",
    "# Derived data type\n",
    "# heterogenous = mixed"
   ]
  },
  {
   "cell_type": "code",
   "execution_count": 6,
   "id": "80230f36",
   "metadata": {},
   "outputs": [
    {
     "name": "stdout",
     "output_type": "stream",
     "text": [
      "Python\n",
      "<class 'str'>\n",
      "['Ajay', 'Nikita', 'Ravina', 'sakshi', 'Poorna']\n",
      "<class 'list'>\n",
      "<class 'list'>\n",
      "5\n",
      "1\n"
     ]
    }
   ],
   "source": [
    "\n",
    "lan = \"Python\"\n",
    "print(lan)\n",
    "print(type(lan))\n",
    "\n",
    "\n",
    "\n",
    "\n",
    "# direct way by writing the items inside a square bracket\n",
    "\n",
    "names = ['Ajay','Nikita','Ravina','sakshi','Poorna']\n",
    "print(names)\n",
    "print(type(names)) # list\n",
    "\n",
    "\n",
    "evenNum = [2,4,6,8,10]\n",
    "print(type(evenNum)) # list\n",
    "print(len(evenNum)) # 5\n",
    "\n",
    "\n",
    "aa = ['']\n",
    "print(len(aa)) #1\n",
    "\n"
   ]
  },
  {
   "cell_type": "code",
   "execution_count": 1,
   "id": "f80db224",
   "metadata": {},
   "outputs": [
    {
     "name": "stdout",
     "output_type": "stream",
     "text": [
      "['Rakesh', 48, 'Sameer', 54, 'Pratik', 55]\n",
      "6\n",
      "['b', 'c', 'd', 'f', ['a', 'e', 'i', 'o', 'u']]\n",
      "<class 'list'>\n",
      "5\n"
     ]
    }
   ],
   "source": [
    "list_students =  [\"Rakesh\" ,48 , \"Sameer\" , 54 , \"Pratik\" ,55]\n",
    "print(list_students)\n",
    "print(len(list_students))\n",
    "\n",
    "list_alpa = ['b','c','d','f',['a','e','i','o','u']]\n",
    "print(list_alpa)\n",
    "print(type(list_alpa)) #list\n",
    "print(len(list_alpa))"
   ]
  },
  {
   "cell_type": "code",
   "execution_count": 2,
   "id": "34bfa74d",
   "metadata": {},
   "outputs": [
    {
     "name": "stdout",
     "output_type": "stream",
     "text": [
      "<class 'list'>\n",
      "0\n",
      "<class 'list'>\n",
      "1\n",
      "<class 'list'>\n",
      "1\n"
     ]
    }
   ],
   "source": [
    "x = []\n",
    "print(type(x)) #list\n",
    "print(len(x))\n",
    "\n",
    "y = [\"\"]\n",
    "print(type(y)) #list\n",
    "print(len(y))\n",
    "\n",
    "z = [\" \"]\n",
    "print(type(z)) #list\n",
    "print(len(z))"
   ]
  },
  {
   "cell_type": "code",
   "execution_count": 6,
   "id": "b64a47dc",
   "metadata": {},
   "outputs": [
    {
     "name": "stdout",
     "output_type": "stream",
     "text": [
      "['M', 'I', 'N', 'S', 'K', 'O', 'L', 'E']\n",
      "['a', 'e', 'i', 'o', 'u']\n",
      "['A', 'r', 'j', 'u', 'n']\n",
      "EveryThing is Possible , Nothing is impossible\n",
      "['E', 'v', 'e', 'r', 'y', 'T', 'h', 'i', 'n', 'g', ' ', 'i', 's', ' ', 'P', 'o', 's', 's', 'i', 'b', 'l', 'e', ' ', ',', ' ', 'N', 'o', 't', 'h', 'i', 'n', 'g', ' ', 'i', 's', ' ', 'i', 'm', 'p', 'o', 's', 's', 'i', 'b', 'l', 'e']\n"
     ]
    }
   ],
   "source": [
    "# creating a list using constructor/type casting\n",
    "\n",
    "\n",
    "s = \"MINSKOLE\"\n",
    "               #['M', 'I', 'N', 'S', 'K', 'O', 'L', 'E']\n",
    "print(list(s))\n",
    "\n",
    "vow = \"aeiou\" #['a', 'e', 'i', 'o', 'u']\n",
    "print(list(vow))\n",
    "\n",
    "suprime = \"Arjun\"\n",
    "print(list(suprime)) #['A', 'r', 'j', 'u', 'n']\n",
    "\n",
    "Quote = \"EveryThing is Possible , Nothing is impossible\"\n",
    "print(Quote)\n",
    "print(list(Quote))"
   ]
  },
  {
   "cell_type": "code",
   "execution_count": 5,
   "id": "63086051",
   "metadata": {},
   "outputs": [
    {
     "ename": "NameError",
     "evalue": "name '__This' is not defined",
     "output_type": "error",
     "traceback": [
      "\u001b[1;31m---------------------------------------------------------------------------\u001b[0m",
      "\u001b[1;31mNameError\u001b[0m                                 Traceback (most recent call last)",
      "Cell \u001b[1;32mIn[5], line 1\u001b[0m\n\u001b[1;32m----> 1\u001b[0m __This \u001b[38;5;129;01mis\u001b[39;00m Python\n",
      "\u001b[1;31mNameError\u001b[0m: name '__This' is not defined"
     ]
    }
   ],
   "source": [
    "__This is Python"
   ]
  },
  {
   "cell_type": "code",
   "execution_count": 7,
   "id": "f7b424da",
   "metadata": {},
   "outputs": [
    {
     "ename": "SyntaxError",
     "evalue": "invalid syntax (1705985523.py, line 1)",
     "output_type": "error",
     "traceback": [
      "\u001b[1;36m  Cell \u001b[1;32mIn[7], line 1\u001b[1;36m\u001b[0m\n\u001b[1;33m    **This is bold text**\u001b[0m\n\u001b[1;37m    ^\u001b[0m\n\u001b[1;31mSyntaxError\u001b[0m\u001b[1;31m:\u001b[0m invalid syntax\n"
     ]
    }
   ],
   "source": [
    "**This is bold text**"
   ]
  },
  {
   "cell_type": "code",
   "execution_count": null,
   "id": "679a52aa",
   "metadata": {},
   "outputs": [],
   "source": []
  }
 ],
 "metadata": {
  "kernelspec": {
   "display_name": "Python 3 (ipykernel)",
   "language": "python",
   "name": "python3"
  },
  "language_info": {
   "codemirror_mode": {
    "name": "ipython",
    "version": 3
   },
   "file_extension": ".py",
   "mimetype": "text/x-python",
   "name": "python",
   "nbconvert_exporter": "python",
   "pygments_lexer": "ipython3",
   "version": "3.11.3"
  }
 },
 "nbformat": 4,
 "nbformat_minor": 5
}
