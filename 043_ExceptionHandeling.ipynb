{
 "cells": [
  {
   "cell_type": "code",
   "execution_count": 1,
   "id": "8f323a75",
   "metadata": {},
   "outputs": [
    {
     "name": "stdout",
     "output_type": "stream",
     "text": [
      "2.0\n"
     ]
    },
    {
     "ename": "ZeroDivisionError",
     "evalue": "division by zero",
     "output_type": "error",
     "traceback": [
      "\u001b[1;31m---------------------------------------------------------------------------\u001b[0m",
      "\u001b[1;31mZeroDivisionError\u001b[0m                         Traceback (most recent call last)",
      "Cell \u001b[1;32mIn[1], line 8\u001b[0m\n\u001b[0;32m      5\u001b[0m c \u001b[38;5;241m=\u001b[39m \u001b[38;5;241m0\u001b[39m\n\u001b[0;32m      7\u001b[0m \u001b[38;5;28mprint\u001b[39m(a\u001b[38;5;241m/\u001b[39mb)\n\u001b[1;32m----> 8\u001b[0m \u001b[38;5;28mprint\u001b[39m(b\u001b[38;5;241m/\u001b[39mc)\n",
      "\u001b[1;31mZeroDivisionError\u001b[0m: division by zero"
     ]
    }
   ],
   "source": [
    "# --------------ExceptionHandeling ------------------------.\n",
    "\n",
    "a = 12\n",
    "b = 6\n",
    "c = 0\n",
    "\n",
    "print(a/b)\n",
    "print(b/c) # ZeroDivisionError  "
   ]
  },
  {
   "cell_type": "code",
   "execution_count": 2,
   "id": "d0e9bed4",
   "metadata": {},
   "outputs": [
    {
     "name": "stdout",
     "output_type": "stream",
     "text": [
      "0.5\n"
     ]
    },
    {
     "ename": "ZeroDivisionError",
     "evalue": "division by zero",
     "output_type": "error",
     "traceback": [
      "\u001b[1;31m---------------------------------------------------------------------------\u001b[0m",
      "\u001b[1;31mZeroDivisionError\u001b[0m                         Traceback (most recent call last)",
      "Cell \u001b[1;32mIn[2], line 6\u001b[0m\n\u001b[0;32m      3\u001b[0m c \u001b[38;5;241m=\u001b[39m \u001b[38;5;241m0\u001b[39m\n\u001b[0;32m      5\u001b[0m \u001b[38;5;28mprint\u001b[39m(a\u001b[38;5;241m/\u001b[39mb)\n\u001b[1;32m----> 6\u001b[0m \u001b[38;5;28mprint\u001b[39m(a\u001b[38;5;241m/\u001b[39mc)\n\u001b[0;32m      7\u001b[0m \u001b[38;5;28mprint\u001b[39m(\u001b[38;5;124m\"\u001b[39m\u001b[38;5;124mthis line is very imp, should always be printed\u001b[39m\u001b[38;5;124m\"\u001b[39m)\n",
      "\u001b[1;31mZeroDivisionError\u001b[0m: division by zero"
     ]
    }
   ],
   "source": [
    "a = 100\n",
    "b = 200\n",
    "c = 0\n",
    "\n",
    "print(a/b)\n",
    "print(a/c)\n",
    "print(\"this line is very imp, should always be printed\")"
   ]
  },
  {
   "cell_type": "code",
   "execution_count": 9,
   "id": "5c3d962b",
   "metadata": {},
   "outputs": [
    {
     "name": "stdout",
     "output_type": "stream",
     "text": [
      "Plz Enter the Number:45\n",
      "2.0\n",
      "45\n",
      "<class 'str'>\n",
      "There is some error\n"
     ]
    }
   ],
   "source": [
    "# SYNTAX OF EXCEPTION_HANDLING.\n",
    "\n",
    "# try:\n",
    "#     the code where chances of exception is there\n",
    "#     code1\n",
    "#     code2\n",
    "# except:\n",
    "#     msg if the exception occurs\n",
    "\n",
    "\n",
    "# Implementation of Exception Handling\n",
    "\n",
    "a = 10\n",
    "b = 5 \n",
    "c = input('Plz Enter the Number:')#type casting\n",
    "print(a/b)\n",
    "\n",
    "try:\n",
    "    print(c)\n",
    "    print(type(c))\n",
    "    print(a/c)\n",
    "    \n",
    "except:\n",
    "     print(\"There is some error\")"
   ]
  },
  {
   "cell_type": "code",
   "execution_count": 16,
   "id": "769935be",
   "metadata": {},
   "outputs": [
    {
     "name": "stdout",
     "output_type": "stream",
     "text": [
      "Please Enter the Number:0\n",
      "<class 'int'>\n",
      "There is some error\n"
     ]
    }
   ],
   "source": [
    "# implementing the Exception handeling\n",
    "a = 100\n",
    "b = 200\n",
    "\n",
    "try : \n",
    "    c = int(input('Please Enter the Number:'))\n",
    "    print(type(c))\n",
    "    print(a/c)\n",
    "    \n",
    "except:\n",
    "    print('There is some error')\n",
    "    "
   ]
  },
  {
   "cell_type": "code",
   "execution_count": 19,
   "id": "40d507db",
   "metadata": {},
   "outputs": [
    {
     "name": "stdout",
     "output_type": "stream",
     "text": [
      "0.5\n",
      "Please Enter a number!!!9\n",
      "9\n",
      "<class 'int'>\n",
      "11.11111111111111\n"
     ]
    }
   ],
   "source": [
    "# implementing the Exception handeling\n",
    "# sending proper msg to the user\n",
    "a = 100\n",
    "b = 200\n",
    "\n",
    "\n",
    "print(a/b)\n",
    "try:\n",
    "    c = int(input(\"Please Enter a number!!!\"))\n",
    "    print(c)\n",
    "    print(type(c))   \n",
    "    print(a/c)\n",
    "except:\n",
    "    print(\"There is some error,check the entered number , should not be zero\")"
   ]
  },
  {
   "cell_type": "code",
   "execution_count": 22,
   "id": "f304a8e9",
   "metadata": {},
   "outputs": [
    {
     "name": "stdout",
     "output_type": "stream",
     "text": [
      "A\n",
      "u\n"
     ]
    },
    {
     "ename": "IndexError",
     "evalue": "string index out of range",
     "output_type": "error",
     "traceback": [
      "\u001b[1;31m---------------------------------------------------------------------------\u001b[0m",
      "\u001b[1;31mIndexError\u001b[0m                                Traceback (most recent call last)",
      "Cell \u001b[1;32mIn[22], line 4\u001b[0m\n\u001b[0;32m      2\u001b[0m \u001b[38;5;28mprint\u001b[39m(name[\u001b[38;5;241m0\u001b[39m])\n\u001b[0;32m      3\u001b[0m \u001b[38;5;28mprint\u001b[39m(name[\u001b[38;5;241m3\u001b[39m])\n\u001b[1;32m----> 4\u001b[0m \u001b[38;5;28mprint\u001b[39m(name[\u001b[38;5;241m5\u001b[39m])\n",
      "\u001b[1;31mIndexError\u001b[0m: string index out of range"
     ]
    }
   ],
   "source": [
    "name  = \"Arjun\"\n",
    "print(name[0])\n",
    "print(name[3])\n",
    "print(name[5])\n"
   ]
  },
  {
   "cell_type": "code",
   "execution_count": 24,
   "id": "c92c475d",
   "metadata": {},
   "outputs": [
    {
     "name": "stdout",
     "output_type": "stream",
     "text": [
      "A\n",
      "Enter the indexing number of position:8\n",
      "indexing out off Range,Give the proper range\n"
     ]
    }
   ],
   "source": [
    "#  How to solve index error handling\n",
    "\n",
    "name  = \"Arjun\"\n",
    "print(name[0])\n",
    "\n",
    "try:\n",
    "    aa = int(input('Enter the indexing number of position:'))\n",
    "    print(name[aa])\n",
    "    \n",
    "except:\n",
    "    print('indexing out off Range,Give the proper range')"
   ]
  },
  {
   "cell_type": "code",
   "execution_count": 26,
   "id": "ad7aa08d",
   "metadata": {},
   "outputs": [
    {
     "name": "stdout",
     "output_type": "stream",
     "text": [
      "A\n",
      "Enter the indexing number of position:6\n",
      "string index out of range\n"
     ]
    }
   ],
   "source": [
    "#the error msg given by python\n",
    "\n",
    "name  = \"Arjun\"\n",
    "print(name[0])\n",
    "\n",
    "try:\n",
    "    aa = int(input('Enter the indexing number of position:'))\n",
    "    print(name[aa])\n",
    "    \n",
    "except Exception as e:\n",
    "    print(e)"
   ]
  },
  {
   "cell_type": "code",
   "execution_count": 31,
   "id": "a5b8340f",
   "metadata": {},
   "outputs": [
    {
     "name": "stdout",
     "output_type": "stream",
     "text": [
      "0.5\n",
      "Please Enter a number!!!0\n",
      "0\n",
      "<class 'int'>\n",
      "division by zero\n"
     ]
    }
   ],
   "source": [
    "# implementing the Exception handeling\n",
    "# sending proper msg to the user\n",
    "a = 100\n",
    "b = 200\n",
    "\n",
    "\n",
    "print(a/b)\n",
    "try:\n",
    "    c = int(input(\"Please Enter a number!!!\"))\n",
    "    print(c)\n",
    "    print(type(c))   \n",
    "    print(a/c)\n",
    "except Exception as e: \n",
    "    print(e) #division by zero"
   ]
  },
  {
   "cell_type": "code",
   "execution_count": 32,
   "id": "903859c7",
   "metadata": {},
   "outputs": [
    {
     "name": "stdout",
     "output_type": "stream",
     "text": [
      "0.5\n",
      "Please Enter a number!!!0\n",
      "0\n",
      "<class 'int'>\n",
      "Enter a non zero number\n"
     ]
    }
   ],
   "source": [
    "# implementing the Exception handeling\n",
    "# sending proper msg to the user\n",
    "a = 100\n",
    "b = 200\n",
    "\n",
    "\n",
    "print(a/b)\n",
    "try:\n",
    "    c = int(input(\"Please Enter a number!!!\"))\n",
    "    print(c)\n",
    "    print(type(c))   \n",
    "    print(a/c)\n",
    "except Exception: #not necessary ??\n",
    "    print(\"Enter a non zero number\")"
   ]
  },
  {
   "cell_type": "code",
   "execution_count": 33,
   "id": "4bd07926",
   "metadata": {},
   "outputs": [],
   "source": [
    "# # https://docs.python.org/3/library/exceptions.html"
   ]
  },
  {
   "cell_type": "code",
   "execution_count": 35,
   "id": "96e9005e",
   "metadata": {},
   "outputs": [
    {
     "name": "stdout",
     "output_type": "stream",
     "text": [
      "Error: Division by zero is not allowed.\n"
     ]
    }
   ],
   "source": [
    "# Types of Error Handling\n",
    "\n",
    "# 1.ZeroDivisionError: Occurs when dividing by zero.\n",
    "try:\n",
    "    result = 10 / 0\n",
    "    print(result)\n",
    "except ZeroDivisionError:\n",
    "    print(\"Error: Division by zero is not allowed.\")\n"
   ]
  },
  {
   "cell_type": "code",
   "execution_count": 38,
   "id": "b83d2c07",
   "metadata": {},
   "outputs": [
    {
     "name": "stdout",
     "output_type": "stream",
     "text": [
      "invalid literal for int() with base 10: 'abc'\n"
     ]
    }
   ],
   "source": [
    "# 2.ValueError: Occurs when a function receives an argument of the correct type but an inappropriate value.\n",
    "\n",
    "try:\n",
    "    num = int(\"abc\")\n",
    "    print(num)\n",
    "except Exception as e: #generic exception\n",
    "    print(e)\n"
   ]
  },
  {
   "cell_type": "code",
   "execution_count": 42,
   "id": "9dc35e23",
   "metadata": {},
   "outputs": [
    {
     "name": "stdout",
     "output_type": "stream",
     "text": [
      "Error: Incompatible types for the operation.\n"
     ]
    }
   ],
   "source": [
    "# 3.TypeError: Occurs when an operation is performed on an object of inappropriate type\n",
    "\n",
    "try:\n",
    "    results = 8 + \"Hii\"\n",
    "    print(results)\n",
    "except TypeError:\n",
    "    print(\"Error: Incompatible types for the operation.\")\n"
   ]
  },
  {
   "cell_type": "code",
   "execution_count": 57,
   "id": "9158e953",
   "metadata": {},
   "outputs": [
    {
     "name": "stdout",
     "output_type": "stream",
     "text": [
      "Arjun is the Great Person\n"
     ]
    }
   ],
   "source": [
    "# 4.NameError: Occurs when a local or global name is not found.\n",
    "\n",
    "try:\n",
    "    print(x)\n",
    "except NameError:\n",
    "    print(\" Name not defined.\")\n"
   ]
  },
  {
   "cell_type": "code",
   "execution_count": 56,
   "id": "83ee3e2c",
   "metadata": {},
   "outputs": [
    {
     "name": "stdout",
     "output_type": "stream",
     "text": [
      "Error: File not found.\n"
     ]
    }
   ],
   "source": [
    "# 5.FileNotFoundError: Occurs when attempting to access a file that doesn't exist.\n",
    "\n",
    "try:\n",
    "    with open(\"non_existent.txt\", \"r\") as file:\n",
    "        content = file.read()\n",
    "except FileNotFoundError:\n",
    "    print(\"Error: File not found.\")\n"
   ]
  },
  {
   "cell_type": "code",
   "execution_count": 58,
   "id": "5335ccaa",
   "metadata": {},
   "outputs": [
    {
     "name": "stdout",
     "output_type": "stream",
     "text": [
      "Error: Key does not exist in the dictionary.\n"
     ]
    }
   ],
   "source": [
    "# 6.KeyError: Occurs when trying to access a dictionary key that doesn't exist.\n",
    "\n",
    "try:\n",
    "    my_dict = {\"name\": \"John\"}\n",
    "    value = my_dict[\"age\"]\n",
    "except KeyError:\n",
    "    print(\"Error: Key does not exist in the dictionary.\")\n"
   ]
  },
  {
   "cell_type": "code",
   "execution_count": 59,
   "id": "30aa37d3",
   "metadata": {},
   "outputs": [
    {
     "name": "stdout",
     "output_type": "stream",
     "text": [
      "Error: Index out of range.\n"
     ]
    }
   ],
   "source": [
    "# 7.IndexError: Occurs when trying to access an index that is out of range in a list or sequence.\n",
    "\n",
    "try:\n",
    "    my_list = [1, 2, 3]\n",
    "    value = my_list[5]\n",
    "except IndexError:\n",
    "    print(\"Error: Index out of range.\")\n"
   ]
  },
  {
   "cell_type": "code",
   "execution_count": null,
   "id": "ba48c01c",
   "metadata": {},
   "outputs": [],
   "source": [
    "# 8. Can be used to catch any exception, but it's generally better to catch specific exceptions whenever possible.\n",
    "\n",
    "try:\n",
    "    # Code that may raise any exception\n",
    "    result = 10 / 0\n",
    "except Exception as e:\n",
    "    print(f\"An unexpected error occurred: {e}\")\n"
   ]
  }
 ],
 "metadata": {
  "kernelspec": {
   "display_name": "Python 3 (ipykernel)",
   "language": "python",
   "name": "python3"
  },
  "language_info": {
   "codemirror_mode": {
    "name": "ipython",
    "version": 3
   },
   "file_extension": ".py",
   "mimetype": "text/x-python",
   "name": "python",
   "nbconvert_exporter": "python",
   "pygments_lexer": "ipython3",
   "version": "3.11.3"
  }
 },
 "nbformat": 4,
 "nbformat_minor": 5
}
