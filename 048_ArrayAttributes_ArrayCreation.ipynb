{
 "cells": [
  {
   "cell_type": "code",
   "execution_count": 2,
   "id": "3c8e5d4b",
   "metadata": {},
   "outputs": [],
   "source": [
    "# Topic Covered \n",
    "# Array Atributes and Array Creation"
   ]
  },
  {
   "cell_type": "code",
   "execution_count": 3,
   "id": "6a63aabc",
   "metadata": {},
   "outputs": [],
   "source": [
    "import numpy as np"
   ]
  },
  {
   "cell_type": "code",
   "execution_count": 7,
   "id": "11cbbd0f",
   "metadata": {},
   "outputs": [
    {
     "name": "stdout",
     "output_type": "stream",
     "text": [
      "<class 'list'>\n"
     ]
    }
   ],
   "source": [
    "listA = [1,2,3,4,5,6,7,8,9,10]\n",
    "listA\n",
    "print(type(listA))#<class 'list'>"
   ]
  },
  {
   "cell_type": "code",
   "execution_count": 6,
   "id": "9e7b15e7",
   "metadata": {},
   "outputs": [
    {
     "name": "stdout",
     "output_type": "stream",
     "text": [
      "<class 'numpy.ndarray'>\n"
     ]
    }
   ],
   "source": [
    "\n",
    "arr1 = np.array(listA)\n",
    "arr1\n",
    "print(type(arr1))#<class 'numpy.ndarray'>"
   ]
  },
  {
   "cell_type": "code",
   "execution_count": null,
   "id": "43d3a7be",
   "metadata": {},
   "outputs": [],
   "source": [
    "# array supports elementwise operation"
   ]
  },
  {
   "cell_type": "code",
   "execution_count": null,
   "id": "7e4c65b0",
   "metadata": {},
   "outputs": [],
   "source": [
    "# My Q is What is defference between list and Array?\n",
    "# Ans:Here's a table summarizing the key differences between lists and arrays in Python:\n",
    "\n",
    "# | Feature              | List                                | Array (NumPy)                             |\n",
    "# |----------------------|-------------------------------------|-------------------------------------------|\n",
    "# | Data Type            | Can store mixed data types         | Typically stores homogeneous data types  |\n",
    "# | Size                 | Dynamic, can grow or shrink        | Static, fixed size                       |\n",
    "# | Performance          | Slower for numerical operations    | Faster for numerical operations           |\n",
    "# | Indexing             | Zero-based indexing                 | Zero-based indexing                       |\n",
    "# | Functions            | Limited built-in functions          | Extensive functions for array operations |\n",
    "# | Libraries            | Part of Python's standard library   | Requires NumPy library                    |\n",
    "# | Multidimensional     | Limited support for n-dimensional   | Full support for n-dimensional arrays     |\n",
    "# | Element-wise        | Requires iteration for operations  | Supports vectorized operations             |\n",
    "\n"
   ]
  },
  {
   "cell_type": "code",
   "execution_count": 11,
   "id": "6a989d70",
   "metadata": {},
   "outputs": [
    {
     "name": "stdout",
     "output_type": "stream",
     "text": [
      "1\n",
      "(10,)\n",
      "10\n"
     ]
    }
   ],
   "source": [
    "# 1-Dimensional Array(one dimensionAL Array)\n",
    "\n",
    "    # attributes of arr2\n",
    "    \n",
    "arr1 = np.array(listA)\n",
    "arr1    \n",
    "    \n",
    "#ndim    \n",
    "print(arr1.ndim) # 1 (Determini one dimensional array)\n",
    "\n",
    "# shape\n",
    "print(arr1.shape)#(10,)  # (x_axis,y_axis) (0th,1st) (rows,coln)\n",
    "\n",
    "# size\n",
    "\n",
    "print(arr1.size) #10 -> Total number of element inside Array.\n",
    "\n",
    "\n"
   ]
  },
  {
   "cell_type": "code",
   "execution_count": 13,
   "id": "818b251f",
   "metadata": {},
   "outputs": [
    {
     "data": {
      "text/plain": [
       "array(['A', 'B', 'C', 'D', 'E', 'F', 'G'], dtype='<U1')"
      ]
     },
     "execution_count": 13,
     "metadata": {},
     "output_type": "execute_result"
    }
   ],
   "source": [
    "arr2 = np.array(['A', 'B', 'C', 'D', 'E', 'F', 'G'])\n",
    "arr2"
   ]
  },
  {
   "cell_type": "code",
   "execution_count": 16,
   "id": "7fda1dea",
   "metadata": {},
   "outputs": [
    {
     "name": "stdout",
     "output_type": "stream",
     "text": [
      "1\n",
      "(7,)\n",
      "7\n"
     ]
    }
   ],
   "source": [
    "# Attribute of arr2\n",
    "# ndim\n",
    "\n",
    "print(arr2.ndim)#1\n",
    "\n",
    "# shape\n",
    "print(arr2.shape)#(7,)\n",
    "\n",
    "#size\n",
    "print(arr2.size)#7\n",
    "\n",
    "\n",
    "\n"
   ]
  },
  {
   "cell_type": "code",
   "execution_count": 21,
   "id": "dd1d5c7e",
   "metadata": {},
   "outputs": [
    {
     "data": {
      "text/plain": [
       "[0, 1, 2, 3, 4, 5, 6, 7, 8, 9]"
      ]
     },
     "execution_count": 21,
     "metadata": {},
     "output_type": "execute_result"
    }
   ],
   "source": [
    "# 1-D Array Creation \n",
    "#    1. by passing a list \n",
    "#    2. using arange() method\n",
    "#    3. using linspace() method\n",
    "\n",
    "\n",
    "\n",
    "\n",
    "\n",
    "list(range(10))\n",
    "\n"
   ]
  },
  {
   "cell_type": "code",
   "execution_count": 23,
   "id": "3b7963ef",
   "metadata": {},
   "outputs": [
    {
     "data": {
      "text/plain": [
       "[1, 2, 3, 4, 5, 6, 7, 8, 9]"
      ]
     },
     "execution_count": 23,
     "metadata": {},
     "output_type": "execute_result"
    }
   ],
   "source": [
    "list(range(1,10))# last element of not included\n"
   ]
  },
  {
   "cell_type": "code",
   "execution_count": 24,
   "id": "5597151d",
   "metadata": {},
   "outputs": [
    {
     "data": {
      "text/plain": [
       "[1, 3, 5, 7, 9]"
      ]
     },
     "execution_count": 24,
     "metadata": {},
     "output_type": "execute_result"
    }
   ],
   "source": [
    "list(range(1,10,2))"
   ]
  },
  {
   "cell_type": "code",
   "execution_count": 25,
   "id": "0306fe74",
   "metadata": {},
   "outputs": [
    {
     "ename": "TypeError",
     "evalue": "'float' object cannot be interpreted as an integer",
     "output_type": "error",
     "traceback": [
      "\u001b[1;31m---------------------------------------------------------------------------\u001b[0m",
      "\u001b[1;31mTypeError\u001b[0m                                 Traceback (most recent call last)",
      "Cell \u001b[1;32mIn[25], line 1\u001b[0m\n\u001b[1;32m----> 1\u001b[0m \u001b[38;5;28mlist\u001b[39m(\u001b[38;5;28mrange\u001b[39m(\u001b[38;5;241m1\u001b[39m,\u001b[38;5;241m10\u001b[39m,\u001b[38;5;241m0.5\u001b[39m))\n",
      "\u001b[1;31mTypeError\u001b[0m: 'float' object cannot be interpreted as an integer"
     ]
    }
   ],
   "source": [
    "list(range(1,10,0.5)) # This is the limitation of the list, we can use numpy methods."
   ]
  },
  {
   "cell_type": "code",
   "execution_count": 26,
   "id": "154d45cf",
   "metadata": {},
   "outputs": [
    {
     "data": {
      "text/plain": [
       "array([0, 1, 2, 3, 4, 5, 6, 7, 8, 9])"
      ]
     },
     "execution_count": 26,
     "metadata": {},
     "output_type": "execute_result"
    }
   ],
   "source": [
    "arr3= np.arange(10)\n",
    "arr3"
   ]
  },
  {
   "cell_type": "code",
   "execution_count": 27,
   "id": "c605f0c4",
   "metadata": {},
   "outputs": [
    {
     "data": {
      "text/plain": [
       "array([1, 2, 3, 4, 5, 6, 7, 8, 9])"
      ]
     },
     "execution_count": 27,
     "metadata": {},
     "output_type": "execute_result"
    }
   ],
   "source": [
    "arr3 = np.arange(1,10)\n",
    "arr3"
   ]
  },
  {
   "cell_type": "code",
   "execution_count": 29,
   "id": "884c2ff4",
   "metadata": {},
   "outputs": [
    {
     "data": {
      "text/plain": [
       "array([1, 3, 5, 7, 9])"
      ]
     },
     "execution_count": 29,
     "metadata": {},
     "output_type": "execute_result"
    }
   ],
   "source": [
    "arr3 = np.arange(1,10,2)\n",
    "arr3"
   ]
  },
  {
   "cell_type": "code",
   "execution_count": 30,
   "id": "45d39e85",
   "metadata": {},
   "outputs": [
    {
     "data": {
      "text/plain": [
       "array([1. , 1.5, 2. , 2.5, 3. , 3.5, 4. , 4.5, 5. , 5.5, 6. , 6.5, 7. ,\n",
       "       7.5, 8. , 8.5, 9. , 9.5])"
      ]
     },
     "execution_count": 30,
     "metadata": {},
     "output_type": "execute_result"
    }
   ],
   "source": [
    "arr3 = np.arange(1,10,0.5)\n",
    "arr3"
   ]
  },
  {
   "cell_type": "code",
   "execution_count": 31,
   "id": "510960eb",
   "metadata": {},
   "outputs": [
    {
     "name": "stdout",
     "output_type": "stream",
     "text": [
      "1\n",
      "(18,)\n",
      "18\n"
     ]
    }
   ],
   "source": [
    "# Attribute of array\n",
    "\n",
    "#ndim\n",
    "print(arr3.ndim)#1\n",
    "#shape\n",
    "print(arr3.shape)#(18,)\n",
    "#size\n",
    "print(arr3.size)#18\n"
   ]
  },
  {
   "cell_type": "code",
   "execution_count": 34,
   "id": "332011e1",
   "metadata": {},
   "outputs": [
    {
     "data": {
      "text/plain": [
       "array([ 1.        ,  1.18367347,  1.36734694,  1.55102041,  1.73469388,\n",
       "        1.91836735,  2.10204082,  2.28571429,  2.46938776,  2.65306122,\n",
       "        2.83673469,  3.02040816,  3.20408163,  3.3877551 ,  3.57142857,\n",
       "        3.75510204,  3.93877551,  4.12244898,  4.30612245,  4.48979592,\n",
       "        4.67346939,  4.85714286,  5.04081633,  5.2244898 ,  5.40816327,\n",
       "        5.59183673,  5.7755102 ,  5.95918367,  6.14285714,  6.32653061,\n",
       "        6.51020408,  6.69387755,  6.87755102,  7.06122449,  7.24489796,\n",
       "        7.42857143,  7.6122449 ,  7.79591837,  7.97959184,  8.16326531,\n",
       "        8.34693878,  8.53061224,  8.71428571,  8.89795918,  9.08163265,\n",
       "        9.26530612,  9.44897959,  9.63265306,  9.81632653, 10.        ])"
      ]
     },
     "execution_count": 34,
     "metadata": {},
     "output_type": "execute_result"
    }
   ],
   "source": [
    "# Using linspace\n",
    "\n",
    "\n",
    "arr4 = np.linspace(1,10) #the element is included\n",
    "arr4"
   ]
  },
  {
   "cell_type": "code",
   "execution_count": 35,
   "id": "1d793206",
   "metadata": {},
   "outputs": [
    {
     "name": "stdout",
     "output_type": "stream",
     "text": [
      "1\n",
      "(50,)\n",
      "50\n"
     ]
    }
   ],
   "source": [
    "# Attribute of array\n",
    "\n",
    "#ndim\n",
    "print(arr4.ndim)#1\n",
    "#shape\n",
    "print(arr4.shape)#(50,)\n",
    "#size\n",
    "print(arr4.size)#50\n"
   ]
  },
  {
   "cell_type": "code",
   "execution_count": 36,
   "id": "e0e73403",
   "metadata": {},
   "outputs": [
    {
     "data": {
      "text/plain": [
       "array([ 1.        ,  1.52941176,  2.05882353,  2.58823529,  3.11764706,\n",
       "        3.64705882,  4.17647059,  4.70588235,  5.23529412,  5.76470588,\n",
       "        6.29411765,  6.82352941,  7.35294118,  7.88235294,  8.41176471,\n",
       "        8.94117647,  9.47058824, 10.        ])"
      ]
     },
     "execution_count": 36,
     "metadata": {},
     "output_type": "execute_result"
    }
   ],
   "source": [
    "arr4 = np.linspace(1,10,18) #the element is included\n",
    "arr4"
   ]
  },
  {
   "cell_type": "code",
   "execution_count": null,
   "id": "c91d67d1",
   "metadata": {},
   "outputs": [],
   "source": []
  }
 ],
 "metadata": {
  "kernelspec": {
   "display_name": "Python 3 (ipykernel)",
   "language": "python",
   "name": "python3"
  },
  "language_info": {
   "codemirror_mode": {
    "name": "ipython",
    "version": 3
   },
   "file_extension": ".py",
   "mimetype": "text/x-python",
   "name": "python",
   "nbconvert_exporter": "python",
   "pygments_lexer": "ipython3",
   "version": "3.11.3"
  }
 },
 "nbformat": 4,
 "nbformat_minor": 5
}
