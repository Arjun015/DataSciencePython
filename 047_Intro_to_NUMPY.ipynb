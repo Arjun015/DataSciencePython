{
 "cells": [
  {
   "cell_type": "code",
   "execution_count": 1,
   "id": "d8338ffe",
   "metadata": {},
   "outputs": [],
   "source": [
    "# List vs NumPy"
   ]
  },
  {
   "cell_type": "code",
   "execution_count": 4,
   "id": "3df7deff",
   "metadata": {},
   "outputs": [
    {
     "name": "stdout",
     "output_type": "stream",
     "text": [
      "[1, 2, 3, 4, 5, 6, 7, 8, 9, 10]\n"
     ]
    },
    {
     "ename": "TypeError",
     "evalue": "can't multiply sequence by non-int of type 'list'",
     "output_type": "error",
     "traceback": [
      "\u001b[1;31m---------------------------------------------------------------------------\u001b[0m",
      "\u001b[1;31mTypeError\u001b[0m                                 Traceback (most recent call last)",
      "Cell \u001b[1;32mIn[4], line 5\u001b[0m\n\u001b[0;32m      2\u001b[0m \u001b[38;5;28mprint\u001b[39m(a1)\n\u001b[0;32m      4\u001b[0m \u001b[38;5;66;03m# Square of each element of list\u001b[39;00m\n\u001b[1;32m----> 5\u001b[0m a1\u001b[38;5;241m*\u001b[39ma1\n",
      "\u001b[1;31mTypeError\u001b[0m: can't multiply sequence by non-int of type 'list'"
     ]
    }
   ],
   "source": [
    "a1 = [1,2,3,4,5,6,7,8,9,10]\n",
    "print(a1)\n",
    "\n",
    "# Square of each element of list\n",
    "a1*a1\n"
   ]
  },
  {
   "cell_type": "code",
   "execution_count": 5,
   "id": "c8bf9ac7",
   "metadata": {},
   "outputs": [
    {
     "name": "stdout",
     "output_type": "stream",
     "text": [
      "1\n",
      "4\n",
      "9\n",
      "16\n",
      "25\n",
      "36\n",
      "49\n",
      "64\n",
      "81\n",
      "100\n"
     ]
    }
   ],
   "source": [
    "# Using for loop\n",
    "a1 = [1,2,3,4,5,6,7,8,9,10]\n",
    "for i in a1 :\n",
    "    print(i*i)"
   ]
  },
  {
   "cell_type": "code",
   "execution_count": 8,
   "id": "05e088c9",
   "metadata": {},
   "outputs": [
    {
     "name": "stdout",
     "output_type": "stream",
     "text": [
      "[1, 4, 9, 16, 25, 36, 49, 64, 81, 100]\n"
     ]
    }
   ],
   "source": [
    "# using list comprehension\n",
    "\n",
    "a2 = [i*i for i in a1]\n",
    "print(a2)"
   ]
  },
  {
   "cell_type": "code",
   "execution_count": null,
   "id": "64d4b198",
   "metadata": {},
   "outputs": [],
   "source": [
    "######################"
   ]
  },
  {
   "cell_type": "code",
   "execution_count": 12,
   "id": "c560cc66",
   "metadata": {},
   "outputs": [
    {
     "name": "stdout",
     "output_type": "stream",
     "text": [
      "[1, 2, 3, 4, 5, 6, 7, 8, 9, 10]\n",
      "<class 'list'>\n",
      "[ 1  2  3  4  5  6  7  8  9 10]\n",
      "<class 'numpy.ndarray'>\n"
     ]
    }
   ],
   "source": [
    "import numpy as np\n",
    "\n",
    "# converting the list into array\n",
    "print(a1)\n",
    "print(type(a1))\n",
    "\n",
    "\n",
    "arr1 = np.array(a1)\n",
    "print(arr1)\n",
    "print(type(arr1))#<class 'numpy.ndarray'> Numpy n- dimensional Array\n"
   ]
  },
  {
   "cell_type": "code",
   "execution_count": 13,
   "id": "78af1b3e",
   "metadata": {},
   "outputs": [
    {
     "data": {
      "text/plain": [
       "25"
      ]
     },
     "execution_count": 13,
     "metadata": {},
     "output_type": "execute_result"
    }
   ],
   "source": [
    "5 ** 2"
   ]
  },
  {
   "cell_type": "code",
   "execution_count": 14,
   "id": "79f0f911",
   "metadata": {},
   "outputs": [
    {
     "data": {
      "text/plain": [
       "125"
      ]
     },
     "execution_count": 14,
     "metadata": {},
     "output_type": "execute_result"
    }
   ],
   "source": [
    "5**3"
   ]
  },
  {
   "cell_type": "code",
   "execution_count": 15,
   "id": "ec7cb969",
   "metadata": {},
   "outputs": [
    {
     "name": "stdout",
     "output_type": "stream",
     "text": [
      "[ 1  2  3  4  5  6  7  8  9 10]\n"
     ]
    }
   ],
   "source": [
    "arr1 = np.array(a1)\n",
    "print(arr1)"
   ]
  },
  {
   "cell_type": "code",
   "execution_count": 16,
   "id": "fcd25dd3",
   "metadata": {},
   "outputs": [
    {
     "data": {
      "text/plain": [
       "array([  1,   4,   9,  16,  25,  36,  49,  64,  81, 100])"
      ]
     },
     "execution_count": 16,
     "metadata": {},
     "output_type": "execute_result"
    }
   ],
   "source": [
    "arr1**2"
   ]
  },
  {
   "cell_type": "code",
   "execution_count": 19,
   "id": "0df37a61",
   "metadata": {},
   "outputs": [
    {
     "name": "stdout",
     "output_type": "stream",
     "text": [
      "[  1   4   9  16  25  36  49  64  81 100]\n",
      "[   1    8   27   64  125  216  343  512  729 1000]\n",
      "[    1    16    81   256   625  1296  2401  4096  6561 10000]\n"
     ]
    }
   ],
   "source": [
    "print(arr1**2)\n",
    "print(arr1**3)\n",
    "print(arr1**4)"
   ]
  },
  {
   "cell_type": "code",
   "execution_count": 20,
   "id": "ac3aec6f",
   "metadata": {},
   "outputs": [],
   "source": [
    "# 1. can perform elementwise operations\n",
    "# 2. faster than list operations"
   ]
  },
  {
   "cell_type": "code",
   "execution_count": 24,
   "id": "b6a4fa71",
   "metadata": {},
   "outputs": [
    {
     "name": "stdout",
     "output_type": "stream",
     "text": [
      "7.87 ms ± 112 µs per loop (mean ± std. dev. of 7 runs, 100 loops each)\n",
      "120 µs ± 5.08 µs per loop (mean ± std. dev. of 7 runs, 10,000 loops each)\n"
     ]
    }
   ],
   "source": [
    "# Faster than list \n",
    "\n",
    "# Using list\n",
    "a11 = list(range(100000))\n",
    "%timeit [i*i for i in a11] \n",
    "\n",
    "# using numpy\n",
    "arr2  = np.array(a11)\n",
    "%timeit [arr2**2]"
   ]
  },
  {
   "cell_type": "code",
   "execution_count": null,
   "id": "675d5e09",
   "metadata": {},
   "outputs": [],
   "source": [
    "# why faster ? it is  written C language"
   ]
  }
 ],
 "metadata": {
  "kernelspec": {
   "display_name": "Python 3 (ipykernel)",
   "language": "python",
   "name": "python3"
  },
  "language_info": {
   "codemirror_mode": {
    "name": "ipython",
    "version": 3
   },
   "file_extension": ".py",
   "mimetype": "text/x-python",
   "name": "python",
   "nbconvert_exporter": "python",
   "pygments_lexer": "ipython3",
   "version": "3.11.3"
  }
 },
 "nbformat": 4,
 "nbformat_minor": 5
}
