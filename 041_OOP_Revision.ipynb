{
 "cells": [
  {
   "cell_type": "code",
   "execution_count": 7,
   "id": "3ea7a82e",
   "metadata": {},
   "outputs": [
    {
     "name": "stdout",
     "output_type": "stream",
     "text": [
      "Nagpur\n",
      "Tarapur\n",
      "Thane\n"
     ]
    }
   ],
   "source": [
    "# Rivision of oops\n",
    "\n",
    "\n",
    "class Powerplant:\n",
    "    pass\n",
    "\n",
    "p1 = Powerplant()\n",
    "\n",
    "p1.location = \"Nagpur\"\n",
    "print(p1.location)\n",
    "\n",
    "p1.name = \"Tarapur\"\n",
    "print(p1.name)\n",
    "\n",
    "p1.location  = \"Thane\"\n",
    "print(p1.location)"
   ]
  },
  {
   "cell_type": "code",
   "execution_count": 17,
   "id": "eed8cb7e",
   "metadata": {},
   "outputs": [
    {
     "name": "stdout",
     "output_type": "stream",
     "text": [
      "Powerplant at Tarapur and capacity is 40 MW\n",
      "Powerplant at Rajstan and capacity is 44 MW\n",
      "India\n",
      "India\n",
      "America\n",
      "Thane\n",
      "Nashik\n"
     ]
    }
   ],
   "source": [
    "class Powerplant:\n",
    "    country = \"India\" #class atribute\n",
    "    def __init__(self,location,capacity):\n",
    "        self.location = location # obj attribute\n",
    "        self.capacity = capacity\n",
    "        \n",
    "    def __str__(self):\n",
    "        return f\"Powerplant at {self.location} and capacity is {self.capacity} MW\"\n",
    "    \n",
    "p2 = Powerplant('Tarapur',40)\n",
    "print(p2)\n",
    "\n",
    "p3 = Powerplant('Rajstan',44)\n",
    "print(p3)\n",
    "\n",
    "print(p2.country)\n",
    "\n",
    "print(Powerplant.country)\n",
    "\n",
    "Powerplant.country = \"America\"\n",
    "print(p2.country)\n",
    "\n",
    "print(p1.location)\n",
    "p1.location = \"Nashik\"\n",
    "print(p1.location)"
   ]
  },
  {
   "cell_type": "code",
   "execution_count": 36,
   "id": "8230efa1",
   "metadata": {},
   "outputs": [
    {
     "name": "stdout",
     "output_type": "stream",
     "text": [
      "Powerplant at Tarapur and capacity is 40 MW\n",
      "Powerplant at Rajstan and capacity is 44 MW\n",
      "India\n",
      "India\n",
      "America\n",
      "Nashik\n",
      "Powerplant at Tarapur and capacity is 40 MW\n",
      "Powerplant at Rajstan and capacity is 44 MW\n",
      "Nagaland\n",
      "Powerplant at Nagaland and capacity is 40 MW\n"
     ]
    }
   ],
   "source": [
    "class Powerplant:\n",
    "    country = \"India\" #class atribute\n",
    "    def __init__(self,location,capacity):\n",
    "        self.__location = location # obj attribute\n",
    "        self.capacity = capacity\n",
    "        \n",
    "    def __str__(self):\n",
    "        return f\"Powerplant at {self.__location} and capacity is {self.capacity} MW\"\n",
    "    \n",
    "p2 = Powerplant('Tarapur',40)\n",
    "print(p2)\n",
    "\n",
    "p3 = Powerplant('Rajstan',44)\n",
    "print(p3)\n",
    "\n",
    "print(p2.country)\n",
    "\n",
    "print(Powerplant.country)\n",
    "\n",
    "Powerplant.country = \"America\"\n",
    "print(p2.country)\n",
    "\n",
    "# print(p2.__location)\n",
    "p2.__location = \"Nashik\"\n",
    "print(p2.__location)\n",
    "print(p2)\n",
    "print(p3)\n",
    "# p2.__location = \"Himanchal\"\n",
    "# print(p2.__location)\n",
    "\n",
    "# name mangling \n",
    "p2._Powerplant__location = \"Nagaland\"\n",
    "print(p2._Powerplant__location)\n",
    "\n",
    "print(p2)#Powerplant at Nagaland and capacity is 40 MW"
   ]
  },
  {
   "cell_type": "code",
   "execution_count": 39,
   "id": "1c95676f",
   "metadata": {},
   "outputs": [
    {
     "name": "stdout",
     "output_type": "stream",
     "text": [
      "Powerplant at Tarapur and capacity is 40 MW\n",
      "Powerplant at Rajstan and capacity is 44 MW\n",
      "India\n",
      "India\n",
      "America\n",
      "Nashik\n",
      "Powerplant at Nashik and capacity is 40 MW\n",
      "Powerplant at Rajstan and capacity is 44 MW\n",
      "Powerplant at Nashik and capacity is 40 MW\n"
     ]
    }
   ],
   "source": [
    "class Powerplant:\n",
    "    country = \"India\" #class atribute\n",
    "    def __init__(self,location,capacity):\n",
    "        self._location = location # obj attribute\n",
    "        self.capacity = capacity\n",
    "        \n",
    "    def __str__(self):\n",
    "        return f\"Powerplant at {self._location} and capacity is {self.capacity} MW\"\n",
    "    \n",
    "p2 = Powerplant('Tarapur',40)\n",
    "print(p2)\n",
    "\n",
    "p3 = Powerplant('Rajstan',44)\n",
    "print(p3)\n",
    "\n",
    "print(p2.country)\n",
    "\n",
    "print(Powerplant.country)\n",
    "\n",
    "Powerplant.country = \"America\"\n",
    "print(p2.country)\n",
    "\n",
    "# print(p2.__location)\n",
    "p2._location = \"Nashik\"\n",
    "print(p2._location)\n",
    "print(p2)\n",
    "print(p3)\n",
    "# p2._location = \"Himanchal\"\n",
    "# print(p2._location)\n",
    "\n",
    "\n",
    "print(p2)#Powerplant at Nagaland and capacity is 40 MW"
   ]
  },
  {
   "cell_type": "code",
   "execution_count": null,
   "id": "aa312aeb",
   "metadata": {},
   "outputs": [],
   "source": []
  }
 ],
 "metadata": {
  "kernelspec": {
   "display_name": "Python 3 (ipykernel)",
   "language": "python",
   "name": "python3"
  },
  "language_info": {
   "codemirror_mode": {
    "name": "ipython",
    "version": 3
   },
   "file_extension": ".py",
   "mimetype": "text/x-python",
   "name": "python",
   "nbconvert_exporter": "python",
   "pygments_lexer": "ipython3",
   "version": "3.11.3"
  }
 },
 "nbformat": 4,
 "nbformat_minor": 5
}
