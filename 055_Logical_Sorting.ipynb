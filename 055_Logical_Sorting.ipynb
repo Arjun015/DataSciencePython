{
 "cells": [
  {
   "cell_type": "code",
   "execution_count": 1,
   "id": "a48846c7",
   "metadata": {},
   "outputs": [],
   "source": [
    "import numpy as np\n"
   ]
  },
  {
   "cell_type": "code",
   "execution_count": 2,
   "id": "a03634e5",
   "metadata": {},
   "outputs": [],
   "source": [
    "# any\n",
    "# all\n",
    "# True / False"
   ]
  },
  {
   "cell_type": "code",
   "execution_count": 3,
   "id": "d713a0fb",
   "metadata": {},
   "outputs": [
    {
     "name": "stdout",
     "output_type": "stream",
     "text": [
      "[11 22 33 44  0]\n"
     ]
    }
   ],
   "source": [
    "arr1 = np.array([11,22,33,44,0])\n",
    "print(arr1)"
   ]
  },
  {
   "cell_type": "code",
   "execution_count": 4,
   "id": "cd29e4f1",
   "metadata": {},
   "outputs": [
    {
     "data": {
      "text/plain": [
       "True"
      ]
     },
     "execution_count": 4,
     "metadata": {},
     "output_type": "execute_result"
    }
   ],
   "source": [
    "# This method returns True if at least one element in the input array evaluates to True when a logical operation is applied element-wise. \n",
    "# It returns False if all elements are False.\n",
    "np.any(arr1)"
   ]
  },
  {
   "cell_type": "code",
   "execution_count": 5,
   "id": "23345529",
   "metadata": {},
   "outputs": [
    {
     "name": "stdout",
     "output_type": "stream",
     "text": [
      "[0 0 0 0 0]\n"
     ]
    }
   ],
   "source": [
    "arr1 = np.array([0,0,0,0,0])\n",
    "print(arr1)"
   ]
  },
  {
   "cell_type": "code",
   "execution_count": 6,
   "id": "d4042238",
   "metadata": {},
   "outputs": [
    {
     "data": {
      "text/plain": [
       "False"
      ]
     },
     "execution_count": 6,
     "metadata": {},
     "output_type": "execute_result"
    }
   ],
   "source": [
    "np.any(arr1) # All the elememt is false."
   ]
  },
  {
   "cell_type": "code",
   "execution_count": 7,
   "id": "437687aa",
   "metadata": {},
   "outputs": [
    {
     "name": "stdout",
     "output_type": "stream",
     "text": [
      "[11  0  0  0  0]\n"
     ]
    }
   ],
   "source": [
    "arr1 = np.array([11,0,0,0,0])\n",
    "print(arr1)"
   ]
  },
  {
   "cell_type": "code",
   "execution_count": 8,
   "id": "1f555815",
   "metadata": {},
   "outputs": [
    {
     "data": {
      "text/plain": [
       "True"
      ]
     },
     "execution_count": 8,
     "metadata": {},
     "output_type": "execute_result"
    }
   ],
   "source": [
    "np.any(arr1)# atleast one element is true then its False."
   ]
  },
  {
   "cell_type": "code",
   "execution_count": 9,
   "id": "eaf991a3",
   "metadata": {},
   "outputs": [
    {
     "name": "stdout",
     "output_type": "stream",
     "text": [
      "[0 0 0 0 1]\n"
     ]
    }
   ],
   "source": [
    "# all():This method returns True if all elements in the input array evaluate to True when a logical operation is applied element-wise. \n",
    "# It returns False if at least one element is False.\n",
    "\n",
    "arr2 = np.array([0,0,0,0,1])\n",
    "print(arr2)"
   ]
  },
  {
   "cell_type": "code",
   "execution_count": 10,
   "id": "f6a0b535",
   "metadata": {},
   "outputs": [
    {
     "data": {
      "text/plain": [
       "False"
      ]
     },
     "execution_count": 10,
     "metadata": {},
     "output_type": "execute_result"
    }
   ],
   "source": [
    "np.all(arr2) # Because 4-elements is False, ans is false."
   ]
  },
  {
   "cell_type": "code",
   "execution_count": 12,
   "id": "6dd63769",
   "metadata": {},
   "outputs": [
    {
     "name": "stdout",
     "output_type": "stream",
     "text": [
      "[0 1 1 1 1]\n"
     ]
    }
   ],
   "source": [
    "arr3 = np.array([0,1,1,1,1])\n",
    "print(arr3)"
   ]
  },
  {
   "cell_type": "code",
   "execution_count": 13,
   "id": "b485ddef",
   "metadata": {},
   "outputs": [
    {
     "data": {
      "text/plain": [
       "array([0, 1, 1, 1, 1])"
      ]
     },
     "execution_count": 13,
     "metadata": {},
     "output_type": "execute_result"
    }
   ],
   "source": [
    "arr3"
   ]
  },
  {
   "cell_type": "code",
   "execution_count": 14,
   "id": "d11e479e",
   "metadata": {},
   "outputs": [
    {
     "data": {
      "text/plain": [
       "False"
      ]
     },
     "execution_count": 14,
     "metadata": {},
     "output_type": "execute_result"
    }
   ],
   "source": [
    "np.all(arr3) # atlest 1 elements is false,getting false."
   ]
  },
  {
   "cell_type": "code",
   "execution_count": 15,
   "id": "032b5490",
   "metadata": {},
   "outputs": [
    {
     "name": "stdout",
     "output_type": "stream",
     "text": [
      "[1 1 1 1 1]\n"
     ]
    }
   ],
   "source": [
    "arr4 = np.array([1,1,1,1,1])\n",
    "print(arr4)"
   ]
  },
  {
   "cell_type": "code",
   "execution_count": 16,
   "id": "c1f3239b",
   "metadata": {},
   "outputs": [
    {
     "data": {
      "text/plain": [
       "True"
      ]
     },
     "execution_count": 16,
     "metadata": {},
     "output_type": "execute_result"
    }
   ],
   "source": [
    "np.all(arr4)#Because all elements is true."
   ]
  },
  {
   "cell_type": "code",
   "execution_count": null,
   "id": "107d6ec6",
   "metadata": {},
   "outputs": [],
   "source": []
  },
  {
   "cell_type": "code",
   "execution_count": 17,
   "id": "9a0317c7",
   "metadata": {},
   "outputs": [
    {
     "name": "stdout",
     "output_type": "stream",
     "text": [
      "[44 55]\n",
      "[1 2]\n"
     ]
    }
   ],
   "source": [
    "aa =np.array([44,55])\n",
    "bb = np.array([1,2])\n",
    "\n",
    "print(aa)\n",
    "print(bb)"
   ]
  },
  {
   "cell_type": "code",
   "execution_count": 18,
   "id": "e799af6a",
   "metadata": {},
   "outputs": [
    {
     "data": {
      "text/plain": [
       "array([ True,  True])"
      ]
     },
     "execution_count": 18,
     "metadata": {},
     "output_type": "execute_result"
    }
   ],
   "source": [
    "aa > bb"
   ]
  },
  {
   "cell_type": "code",
   "execution_count": 19,
   "id": "a7b2af29",
   "metadata": {},
   "outputs": [
    {
     "data": {
      "text/plain": [
       "True"
      ]
     },
     "execution_count": 19,
     "metadata": {},
     "output_type": "execute_result"
    }
   ],
   "source": [
    "# any()\n",
    "np.any(aa > bb) # Both are true"
   ]
  },
  {
   "cell_type": "code",
   "execution_count": 20,
   "id": "76f58e10",
   "metadata": {},
   "outputs": [
    {
     "data": {
      "text/plain": [
       "False"
      ]
     },
     "execution_count": 20,
     "metadata": {},
     "output_type": "execute_result"
    }
   ],
   "source": [
    "np.any(aa < bb) # Both are False."
   ]
  },
  {
   "cell_type": "code",
   "execution_count": 21,
   "id": "7e0c9646",
   "metadata": {},
   "outputs": [
    {
     "data": {
      "text/plain": [
       "array([False, False])"
      ]
     },
     "execution_count": 21,
     "metadata": {},
     "output_type": "execute_result"
    }
   ],
   "source": [
    "aa < bb"
   ]
  },
  {
   "cell_type": "code",
   "execution_count": 22,
   "id": "beb2a441",
   "metadata": {},
   "outputs": [
    {
     "data": {
      "text/plain": [
       "True"
      ]
     },
     "execution_count": 22,
     "metadata": {},
     "output_type": "execute_result"
    }
   ],
   "source": [
    "# all()\n",
    "\n",
    "np.all(aa > bb) # Both are True"
   ]
  },
  {
   "cell_type": "code",
   "execution_count": 23,
   "id": "abee0f47",
   "metadata": {},
   "outputs": [
    {
     "data": {
      "text/plain": [
       "False"
      ]
     },
     "execution_count": 23,
     "metadata": {},
     "output_type": "execute_result"
    }
   ],
   "source": [
    "np.all(aa  < bb ) #both are False"
   ]
  },
  {
   "cell_type": "code",
   "execution_count": null,
   "id": "5b4935ec",
   "metadata": {},
   "outputs": [],
   "source": []
  },
  {
   "cell_type": "code",
   "execution_count": 24,
   "id": "ad8339ff",
   "metadata": {},
   "outputs": [],
   "source": [
    "aa1 =np.array([44,55,66,77])\n",
    "bb1 = np.array([1,2,3,99])\n"
   ]
  },
  {
   "cell_type": "code",
   "execution_count": 27,
   "id": "65722674",
   "metadata": {},
   "outputs": [
    {
     "name": "stdout",
     "output_type": "stream",
     "text": [
      "[44 55 66 77]\n",
      "[ 1  2  3 99]\n"
     ]
    }
   ],
   "source": [
    "print(aa1)\n",
    "print(bb1)"
   ]
  },
  {
   "cell_type": "code",
   "execution_count": 30,
   "id": "1cdb1e68",
   "metadata": {},
   "outputs": [
    {
     "data": {
      "text/plain": [
       "array([ True,  True,  True, False])"
      ]
     },
     "execution_count": 30,
     "metadata": {},
     "output_type": "execute_result"
    }
   ],
   "source": [
    "aa1 > bb1"
   ]
  },
  {
   "cell_type": "code",
   "execution_count": 28,
   "id": "65ba066b",
   "metadata": {},
   "outputs": [
    {
     "data": {
      "text/plain": [
       "True"
      ]
     },
     "execution_count": 28,
     "metadata": {},
     "output_type": "execute_result"
    }
   ],
   "source": [
    "# any\n",
    "np.any(aa1 > bb1)"
   ]
  },
  {
   "cell_type": "code",
   "execution_count": 29,
   "id": "72038ec2",
   "metadata": {},
   "outputs": [
    {
     "data": {
      "text/plain": [
       "True"
      ]
     },
     "execution_count": 29,
     "metadata": {},
     "output_type": "execute_result"
    }
   ],
   "source": [
    "np.any(aa1 < bb1)"
   ]
  },
  {
   "cell_type": "code",
   "execution_count": null,
   "id": "4dae2532",
   "metadata": {},
   "outputs": [],
   "source": []
  },
  {
   "cell_type": "code",
   "execution_count": 31,
   "id": "a557c65f",
   "metadata": {},
   "outputs": [
    {
     "data": {
      "text/plain": [
       "False"
      ]
     },
     "execution_count": 31,
     "metadata": {},
     "output_type": "execute_result"
    }
   ],
   "source": [
    "# all()\n",
    "\n",
    "np.all(aa1 > bb1)"
   ]
  },
  {
   "cell_type": "code",
   "execution_count": 32,
   "id": "f654450c",
   "metadata": {},
   "outputs": [
    {
     "data": {
      "text/plain": [
       "False"
      ]
     },
     "execution_count": 32,
     "metadata": {},
     "output_type": "execute_result"
    }
   ],
   "source": [
    "np.all(aa1 < bb1)"
   ]
  },
  {
   "cell_type": "code",
   "execution_count": null,
   "id": "87414708",
   "metadata": {},
   "outputs": [],
   "source": []
  },
  {
   "cell_type": "code",
   "execution_count": 33,
   "id": "797cab18",
   "metadata": {},
   "outputs": [],
   "source": [
    "##################### Sorting   ###########################."
   ]
  },
  {
   "cell_type": "code",
   "execution_count": 34,
   "id": "d0fca0f9",
   "metadata": {},
   "outputs": [
    {
     "name": "stdout",
     "output_type": "stream",
     "text": [
      "[34 31 56 78 99 23 67  9]\n"
     ]
    }
   ],
   "source": [
    "arr = np.array([34,31,56,78,99,23,67,9])\n",
    "print(arr)"
   ]
  },
  {
   "cell_type": "code",
   "execution_count": 35,
   "id": "a7cd14db",
   "metadata": {},
   "outputs": [
    {
     "data": {
      "text/plain": [
       "array([ 9, 23, 31, 34, 56, 67, 78, 99])"
      ]
     },
     "execution_count": 35,
     "metadata": {},
     "output_type": "execute_result"
    }
   ],
   "source": [
    "# sort():sorting the array elemetns ordered\n",
    "np.sort(arr)"
   ]
  },
  {
   "cell_type": "code",
   "execution_count": 37,
   "id": "38072c49",
   "metadata": {},
   "outputs": [
    {
     "data": {
      "text/plain": [
       "array([ 9, 23, 31, 34, 56, 67, 78, 99])"
      ]
     },
     "execution_count": 37,
     "metadata": {},
     "output_type": "execute_result"
    }
   ],
   "source": [
    "np.sort(arr)"
   ]
  },
  {
   "cell_type": "code",
   "execution_count": 39,
   "id": "d26e1fb7",
   "metadata": {},
   "outputs": [
    {
     "data": {
      "text/plain": [
       "array([7, 5, 1, 0, 2, 6, 3, 4], dtype=int64)"
      ]
     },
     "execution_count": 39,
     "metadata": {},
     "output_type": "execute_result"
    }
   ],
   "source": [
    "# argsort()\n",
    "np.argsort(arr)"
   ]
  },
  {
   "cell_type": "code",
   "execution_count": 42,
   "id": "f17446fe",
   "metadata": {},
   "outputs": [
    {
     "name": "stdout",
     "output_type": "stream",
     "text": [
      "[0 1 2 3 4 5 6 7 8 9]\n"
     ]
    }
   ],
   "source": [
    "arrr = np.array([0,1,2,3,4,5,6,7,8,9])\n",
    "print(arrr)"
   ]
  },
  {
   "cell_type": "code",
   "execution_count": 44,
   "id": "134a67de",
   "metadata": {},
   "outputs": [
    {
     "name": "stdout",
     "output_type": "stream",
     "text": [
      "[0 1 2 3 4 5 6 7 8 9]\n"
     ]
    }
   ],
   "source": [
    "print(np.argsort(arrr))"
   ]
  },
  {
   "cell_type": "code",
   "execution_count": 46,
   "id": "6ea94dc0",
   "metadata": {},
   "outputs": [
    {
     "data": {
      "text/plain": [
       "array([ 9, 67, 23, 99, 78, 56, 31, 34])"
      ]
     },
     "execution_count": 46,
     "metadata": {},
     "output_type": "execute_result"
    }
   ],
   "source": [
    "# Traditional ways in Py.\n",
    "descending_ans = arr[::-1]\n",
    "descending_ans"
   ]
  },
  {
   "cell_type": "code",
   "execution_count": 45,
   "id": "391203f7",
   "metadata": {},
   "outputs": [
    {
     "data": {
      "text/plain": [
       "array([ 9, 67, 23, 99, 78, 56, 31, 34])"
      ]
     },
     "execution_count": 45,
     "metadata": {},
     "output_type": "execute_result"
    }
   ],
   "source": [
    "# Smart way in numPy.\n",
    "np.flip(arr) # indexwise reversed"
   ]
  },
  {
   "cell_type": "code",
   "execution_count": null,
   "id": "d5c0ca33",
   "metadata": {},
   "outputs": [],
   "source": []
  }
 ],
 "metadata": {
  "kernelspec": {
   "display_name": "Python 3 (ipykernel)",
   "language": "python",
   "name": "python3"
  },
  "language_info": {
   "codemirror_mode": {
    "name": "ipython",
    "version": 3
   },
   "file_extension": ".py",
   "mimetype": "text/x-python",
   "name": "python",
   "nbconvert_exporter": "python",
   "pygments_lexer": "ipython3",
   "version": "3.11.3"
  }
 },
 "nbformat": 4,
 "nbformat_minor": 5
}
