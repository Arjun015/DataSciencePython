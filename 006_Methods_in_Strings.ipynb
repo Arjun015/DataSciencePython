{
 "cells": [
  {
   "cell_type": "code",
   "execution_count": 2,
   "id": "629e517e",
   "metadata": {},
   "outputs": [
    {
     "data": {
      "text/plain": [
       "4"
      ]
     },
     "execution_count": 2,
     "metadata": {},
     "output_type": "execute_result"
    }
   ],
   "source": [
    "# string methods : =>this is the predefined code.\n",
    "#                  =>can achieve perticular task.\n",
    "\n",
    "'''\n",
    "1.upper():  Converts a string into upper case\n",
    "2.lower():  Converts a string into lower case    \n",
    "3.strip():  Returns a trimmed version of the string / remove extra spaces leading and trailing(only start and end)    \n",
    "4.title():  Converts the first character of each word to upper case  \n",
    "5.casefold(): Converts string into lower case\n",
    "6.capitalize():Converts the first character to upper case\n",
    "7.swapcase(): Swaps cases, lower case becomes upper case and vice versa\n",
    "'''\n",
    "\n"
   ]
  },
  {
   "cell_type": "code",
   "execution_count": 5,
   "id": "54eaf55f",
   "metadata": {
    "scrolled": true
   },
   "outputs": [
    {
     "name": "stdout",
     "output_type": "stream",
     "text": [
      "CONGRATULATIONS ! ARJUN.\n",
      "I LOVE NASHIK\n"
     ]
    }
   ],
   "source": [
    "# 1. upper() \n",
    "\n",
    "greet = \"Congratulations ! Arjun.\"\n",
    "print(greet.upper())\n",
    "\n",
    "greet2 = \"I love Nashik\"\n",
    "print(greet2.upper()) # I LOVE NASHIK"
   ]
  },
  {
   "cell_type": "code",
   "execution_count": 7,
   "id": "639ee05f",
   "metadata": {},
   "outputs": [
    {
     "name": "stdout",
     "output_type": "stream",
     "text": [
      "congratulations! arjun.\n",
      "i love chhatrapati shivaji maharaj.\n"
     ]
    }
   ],
   "source": [
    "# 2. lower()\n",
    "\n",
    "greet = \"CONGRATULATIONS! ARJUN.\"\n",
    "print(greet.lower())\n",
    "\n",
    "greet2 = \"I LOVE CHHATRAPATI SHIVAJI MAHARAJ.\"\n",
    "print(greet2.lower())"
   ]
  },
  {
   "cell_type": "code",
   "execution_count": 14,
   "id": "0eb59862",
   "metadata": {},
   "outputs": [
    {
     "name": "stdout",
     "output_type": "stream",
     "text": [
      "Congratulations ! Arjun.\n",
      "SUCCESS\n",
      "Arjun!       Bappa love you.\n",
      "Arjun!       Bappa love you.\n",
      "i Love           Pune\n",
      "400076\n"
     ]
    }
   ],
   "source": [
    "# 3. strip()\n",
    "# remove extra spaces leading and trailing.\n",
    "\n",
    "\n",
    "greet = \"         Congratulations ! Arjun.        \"\n",
    "print(greet.strip()) #Congratulations ! Arjun.\n",
    "\n",
    "\n",
    "greet2 = \"        SUCCESS        \" \n",
    "print(greet2.strip())\n",
    "\n",
    "# strip() method in Python does not remove middle spaces.\n",
    "#  It only removes whitespace characters from the beginning and end of a string.\n",
    "\n",
    "\n",
    "greet3 = \"Arjun!       Bappa love you.\"\n",
    "print(greet3)\n",
    "print(greet3.strip())\n",
    "\n",
    "\n",
    "fav = \"i Love           Pune\"\n",
    "print(fav.strip())\n",
    "\n",
    "\n",
    "pin = \"          400076         \"\n",
    "print(pin.strip())\n"
   ]
  },
  {
   "cell_type": "code",
   "execution_count": 18,
   "id": "8e358ab4",
   "metadata": {},
   "outputs": [
    {
     "name": "stdout",
     "output_type": "stream",
     "text": [
      "To Play Football\n",
      "Congratulation!Arjun\n"
     ]
    }
   ],
   "source": [
    "# 4. title :Converts the first character of each word to upper case\n",
    "\n",
    "hobby = \"to play football\"\n",
    "print(hobby.title()) #To Play Football\n",
    "\n",
    "greet = \"congratulation!arjun\"\n",
    "print(greet.title()) #Congratulations!Arjun."
   ]
  },
  {
   "cell_type": "code",
   "execution_count": 20,
   "id": "34b0dfc3",
   "metadata": {},
   "outputs": [
    {
     "name": "stdout",
     "output_type": "stream",
     "text": [
      "congratulation!arjun\n",
      "To Play Cricket\n"
     ]
    }
   ],
   "source": [
    "# 5.casefold(): Converts string into lower case\n",
    "\n",
    "greet= \"CONGRATULATION!ARJUN\"\n",
    "print(greet.casefold()) #congratulation!arjun\n",
    "\n",
    "\n",
    "hobby = \"TO PLAY CRICKET\"\n",
    "print(hobby.title())\n"
   ]
  },
  {
   "cell_type": "code",
   "execution_count": 23,
   "id": "f3b373ac",
   "metadata": {},
   "outputs": [
    {
     "name": "stdout",
     "output_type": "stream",
     "text": [
      "Congratulations!arjun\n",
      "Happy\n"
     ]
    }
   ],
   "source": [
    "#6. capitalize():Converts the first character to upper case\n",
    "\n",
    "greet = \"congratulations!arjun\"\n",
    "print(greet.capitalize())\n",
    "\n",
    "moodA = \"happy\"\n",
    "print(moodA.capitalize())"
   ]
  },
  {
   "cell_type": "code",
   "execution_count": 27,
   "id": "e37e13ef",
   "metadata": {},
   "outputs": [
    {
     "name": "stdout",
     "output_type": "stream",
     "text": [
      "congratulation! Arjun ,You got selected on Data Scientist post\n",
      "CONGRATULATION! aRJUN ,yOU GOT SELECTED ON dATA sCIENTIST POST\n",
      "HAPPY AND SMILY\n"
     ]
    }
   ],
   "source": [
    "# 7.swapcase(): Swaps cases, lower case becomes upper case and vice versa\n",
    "\n",
    "\n",
    "greet = \"congratulation! Arjun ,You got selected on Data Scientist post\"\n",
    "print(greet)\n",
    "print(greet.swapcase()) #CONGRATULATION! aRJUN ,yOU GOT SELECTED ON dATA sCIENTIST POST\n",
    "\n",
    "\n",
    "moodA = \"happy and smily\"\n",
    "print(moodA.swapcase()) #HAPPY AND SMILY"
   ]
  },
  {
   "cell_type": "code",
   "execution_count": null,
   "id": "ebd49b7c",
   "metadata": {},
   "outputs": [],
   "source": []
  }
 ],
 "metadata": {
  "kernelspec": {
   "display_name": "Python 3 (ipykernel)",
   "language": "python",
   "name": "python3"
  },
  "language_info": {
   "codemirror_mode": {
    "name": "ipython",
    "version": 3
   },
   "file_extension": ".py",
   "mimetype": "text/x-python",
   "name": "python",
   "nbconvert_exporter": "python",
   "pygments_lexer": "ipython3",
   "version": "3.11.3"
  }
 },
 "nbformat": 4,
 "nbformat_minor": 5
}
