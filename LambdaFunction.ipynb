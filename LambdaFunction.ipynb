{
 "cells": [
  {
   "cell_type": "code",
   "execution_count": 1,
   "id": "233ab372",
   "metadata": {},
   "outputs": [],
   "source": [
    "def Num(num):\n",
    "    if num%2 == 0 :\n",
    "        print('Number is Even')\n",
    "    else :\n",
    "        print('Number is Odd')\n",
    "        \n",
    "        "
   ]
  },
  {
   "cell_type": "code",
   "execution_count": 2,
   "id": "02dddd1d",
   "metadata": {},
   "outputs": [
    {
     "name": "stdout",
     "output_type": "stream",
     "text": [
      "Number is Odd\n"
     ]
    }
   ],
   "source": [
    "Num(23)"
   ]
  },
  {
   "cell_type": "code",
   "execution_count": 3,
   "id": "cbc7cf91",
   "metadata": {},
   "outputs": [
    {
     "name": "stdout",
     "output_type": "stream",
     "text": [
      "Number is Even\n"
     ]
    }
   ],
   "source": [
    "Num(24)"
   ]
  },
  {
   "cell_type": "code",
   "execution_count": 4,
   "id": "4f300b71",
   "metadata": {},
   "outputs": [
    {
     "name": "stdout",
     "output_type": "stream",
     "text": [
      "Number is Even\n"
     ]
    }
   ],
   "source": [
    "Num(0)"
   ]
  },
  {
   "cell_type": "code",
   "execution_count": 5,
   "id": "df3564d1",
   "metadata": {},
   "outputs": [
    {
     "name": "stdout",
     "output_type": "stream",
     "text": [
      "Number is Odd\n"
     ]
    }
   ],
   "source": [
    "Num(67)"
   ]
  },
  {
   "cell_type": "code",
   "execution_count": 6,
   "id": "6282a459",
   "metadata": {},
   "outputs": [],
   "source": [
    "# The map() function in Python is a built-in function that takes in two or more arguments: \n",
    "#     a function and one or more iterable objects (like lists, tuples, etc.). \n",
    "# It applies the given function to each item in the iterables and returns an iterator that yields the results\n",
    "# The basic syntax of the map() function is as follows:\n",
    "# map(function, iterable1, iterable2, ...)"
   ]
  },
  {
   "cell_type": "code",
   "execution_count": 7,
   "id": "0c957ad1",
   "metadata": {},
   "outputs": [],
   "source": [
    "# Map() function"
   ]
  },
  {
   "cell_type": "code",
   "execution_count": 9,
   "id": "4f3403ae",
   "metadata": {},
   "outputs": [
    {
     "name": "stdout",
     "output_type": "stream",
     "text": [
      "[22, 68, 46, 90, 134, 88, 176, 192, 84, 100]\n"
     ]
    }
   ],
   "source": [
    "list_num = [11,34,23,45,67,44,88,96,42,50]\n",
    "def Operation(a):\n",
    "    ans = []\n",
    "    for i in a :\n",
    "        ans.append(i*2)\n",
    "    print(ans)\n",
    "    \n",
    "Operation(list_num)    "
   ]
  },
  {
   "cell_type": "code",
   "execution_count": 10,
   "id": "606fce90",
   "metadata": {},
   "outputs": [
    {
     "name": "stdout",
     "output_type": "stream",
     "text": [
      "[40, 1376, 212, 180, 348, 184, 348, 264, 3968, 4000]\n"
     ]
    }
   ],
   "source": [
    "list_num2 = [10,344,53,45,87,46,87,66,992,1000]\n",
    "\n",
    "def Operation2(b):\n",
    "    box = []\n",
    "    for i in b:\n",
    "        box.append(i*4)\n",
    "    print(box) \n",
    "Operation2(list_num2)    \n",
    "    "
   ]
  },
  {
   "cell_type": "code",
   "execution_count": 13,
   "id": "4a54314a",
   "metadata": {},
   "outputs": [
    {
     "name": "stdout",
     "output_type": "stream",
     "text": [
      "[450, 15480, 2385, 2025, 3915, 2070, 3915, 2970, 44640, 45000]\n"
     ]
    }
   ],
   "source": [
    "def Operation2(b):\n",
    "    box = []\n",
    "    for i in b:\n",
    "        box.append(i*45)\n",
    "    print(box) \n",
    "Operation2(list_num2)  "
   ]
  },
  {
   "cell_type": "code",
   "execution_count": 21,
   "id": "fdba5972",
   "metadata": {},
   "outputs": [
    {
     "data": {
      "text/plain": [
       "[4, 688, 106, 90, 174, 92, 174, 132, 1984, 2000]"
      ]
     },
     "execution_count": 21,
     "metadata": {},
     "output_type": "execute_result"
    }
   ],
   "source": [
    "# Lamda function \n",
    "list_num2 = [2,344,53,45,87,46,87,66,992,1000]\n",
    "\n",
    "list(map(lambda x : x*2,list_num2))\n"
   ]
  },
  {
   "cell_type": "code",
   "execution_count": 34,
   "id": "1f9e622a",
   "metadata": {},
   "outputs": [
    {
     "data": {
      "text/plain": [
       "[32, 5504, 848, 720, 1392, 736, 1392, 1056, 15872, 16000]"
      ]
     },
     "execution_count": 34,
     "metadata": {},
     "output_type": "execute_result"
    }
   ],
   "source": [
    "list(map(lambda g : g*16,list_num2))"
   ]
  },
  {
   "cell_type": "code",
   "execution_count": 35,
   "id": "0dfcf2b8",
   "metadata": {},
   "outputs": [],
   "source": [
    "# filter()\n"
   ]
  },
  {
   "cell_type": "code",
   "execution_count": 38,
   "id": "e9746503",
   "metadata": {},
   "outputs": [
    {
     "name": "stdout",
     "output_type": "stream",
     "text": [
      "[22, 76, 32, 56, 54]\n"
     ]
    }
   ],
   "source": [
    "list_Score = [11,22,45,65,76,32,56,43,54]\n",
    "def even_Num(x):\n",
    "    box1 = []\n",
    "    for i in x :\n",
    "        if(i%2 ==0):\n",
    "            box1.append(i)\n",
    "    print(box1)\n",
    "even_Num(list_Score)        \n"
   ]
  },
  {
   "cell_type": "code",
   "execution_count": 41,
   "id": "2aa3b3ef",
   "metadata": {},
   "outputs": [
    {
     "name": "stdout",
     "output_type": "stream",
     "text": [
      "[44, 66, 78, 34, 44, 88]\n"
     ]
    }
   ],
   "source": [
    "list_Score1 = [11,23,44,66,78,34,44,45,88]\n",
    "def even_Num(arjun):\n",
    "    box2 = []\n",
    "    for i in arjun :\n",
    "        if(i%2 ==0):\n",
    "            box2.append(i)\n",
    "    print(box2)\n",
    "even_Num(list_Score1)        \n"
   ]
  },
  {
   "cell_type": "code",
   "execution_count": 42,
   "id": "d6171c37",
   "metadata": {},
   "outputs": [],
   "source": [
    "# filter(function ,iterable)"
   ]
  },
  {
   "cell_type": "code",
   "execution_count": 46,
   "id": "226d61f6",
   "metadata": {},
   "outputs": [],
   "source": [
    "def even_ans(c):\n",
    "    if c%2 == 0 :\n",
    "        return c \n"
   ]
  },
  {
   "cell_type": "code",
   "execution_count": 51,
   "id": "623a0dd0",
   "metadata": {},
   "outputs": [
    {
     "data": {
      "text/plain": [
       "<filter at 0x2c639b03fd0>"
      ]
     },
     "execution_count": 51,
     "metadata": {},
     "output_type": "execute_result"
    }
   ],
   "source": [
    "list_Score3 = [11,23,44,66,78,34,44,45,88]\n",
    "filter(even_ans ,list_Score3)"
   ]
  },
  {
   "cell_type": "code",
   "execution_count": 52,
   "id": "23bb033d",
   "metadata": {},
   "outputs": [
    {
     "data": {
      "text/plain": [
       "[44, 66, 78, 34, 44, 88]"
      ]
     },
     "execution_count": 52,
     "metadata": {},
     "output_type": "execute_result"
    }
   ],
   "source": [
    "list(filter(even_ans ,list_Score3))"
   ]
  },
  {
   "cell_type": "code",
   "execution_count": null,
   "id": "0c9aeec7",
   "metadata": {},
   "outputs": [],
   "source": []
  }
 ],
 "metadata": {
  "kernelspec": {
   "display_name": "Python 3 (ipykernel)",
   "language": "python",
   "name": "python3"
  },
  "language_info": {
   "codemirror_mode": {
    "name": "ipython",
    "version": 3
   },
   "file_extension": ".py",
   "mimetype": "text/x-python",
   "name": "python",
   "nbconvert_exporter": "python",
   "pygments_lexer": "ipython3",
   "version": "3.11.3"
  }
 },
 "nbformat": 4,
 "nbformat_minor": 5
}
