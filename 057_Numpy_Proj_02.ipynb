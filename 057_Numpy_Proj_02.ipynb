{
 "cells": [
  {
   "cell_type": "code",
   "execution_count": 1,
   "id": "3ed5df20",
   "metadata": {},
   "outputs": [],
   "source": [
    "import numpy as np"
   ]
  },
  {
   "cell_type": "code",
   "execution_count": 2,
   "id": "0d2ec31c",
   "metadata": {},
   "outputs": [],
   "source": [
    "# numpy support only homogenous data type"
   ]
  },
  {
   "cell_type": "code",
   "execution_count": 3,
   "id": "e5e110c3",
   "metadata": {},
   "outputs": [],
   "source": [
    "# Loading the raw data into numpy\n",
    "data = np.loadtxt('fitbit.txt',dtype='str') #converintg all the elements into string data type"
   ]
  },
  {
   "cell_type": "code",
   "execution_count": 4,
   "id": "167bd86d",
   "metadata": {},
   "outputs": [
    {
     "data": {
      "text/plain": [
       "array([['06-10-2017', '5464', '200', '181', '6', '0', '68'],\n",
       "       ['07-10-2017', '7167', '200', '208', '6', '0', '68'],\n",
       "       ['08-10-2017', '9874', '300', '341', '5', '0', '68'],\n",
       "       ['09-10-2017', '4969', '100', '190', '8', '0', '68'],\n",
       "       ['10-10-2017', '8538', '300', '307', '5', '0', '68'],\n",
       "       ['11-10-2017', '9875', '300', '302', '5', '0', '68'],\n",
       "       ['12-10-2017', '4662', '100', '198', '8', '0', '68'],\n",
       "       ['13-10-2017', '6310', '200', '201', '6', '0', '68'],\n",
       "       ['14-10-2017', '7556', '200', '195', '6', '0', '68'],\n",
       "       ['15-10-2017', '9073', '300', '327', '5', '0', '68'],\n",
       "       ['16-10-2017', '9690', '300', '331', '5', '0', '68'],\n",
       "       ['17-10-2017', '9146', '300', '318', '5', '0', '68'],\n",
       "       ['18-10-2017', '9752', '300', '344', '5', '0', '68'],\n",
       "       ['19-10-2017', '6974', '200', '204', '6', '0', '68'],\n",
       "       ['20-10-2017', '5619', '200', '180', '6', '0', '68'],\n",
       "       ['21-10-2017', '6889', '200', '201', '6', '0', '68'],\n",
       "       ['22-10-2017', '8616', '300', '329', '5', '0', '68'],\n",
       "       ['23-10-2017', '9131', '300', '315', '5', '0', '68'],\n",
       "       ['24-10-2017', '4211', '100', '197', '8', '0', '68'],\n",
       "       ['25-10-2017', '4291', '100', '184', '8', '0', '68'],\n",
       "       ['26-10-2017', '8569', '300', '328', '5', '0', '68'],\n",
       "       ['27-10-2017', '9337', '300', '322', '5', '0', '68'],\n",
       "       ['28-10-2017', '8475', '300', '327', '5', '0', '68'],\n",
       "       ['29-10-2017', '4510', '100', '148', '8', '0', '68'],\n",
       "       ['30-10-2017', '6347', '200', '235', '6', '0', '68'],\n",
       "       ['31-10-2017', '5911', '200', '184', '6', '0', '68']], dtype='<U10')"
      ]
     },
     "execution_count": 4,
     "metadata": {},
     "output_type": "execute_result"
    }
   ],
   "source": [
    "data"
   ]
  },
  {
   "cell_type": "code",
   "execution_count": 5,
   "id": "fc767858",
   "metadata": {},
   "outputs": [
    {
     "name": "stdout",
     "output_type": "stream",
     "text": [
      "[['06-10-2017' '5464' '200' '181' '6' '0' '68']\n",
      " ['07-10-2017' '7167' '200' '208' '6' '0' '68']\n",
      " ['08-10-2017' '9874' '300' '341' '5' '0' '68']\n",
      " ['09-10-2017' '4969' '100' '190' '8' '0' '68']\n",
      " ['10-10-2017' '8538' '300' '307' '5' '0' '68']\n",
      " ['11-10-2017' '9875' '300' '302' '5' '0' '68']\n",
      " ['12-10-2017' '4662' '100' '198' '8' '0' '68']\n",
      " ['13-10-2017' '6310' '200' '201' '6' '0' '68']\n",
      " ['14-10-2017' '7556' '200' '195' '6' '0' '68']\n",
      " ['15-10-2017' '9073' '300' '327' '5' '0' '68']\n",
      " ['16-10-2017' '9690' '300' '331' '5' '0' '68']\n",
      " ['17-10-2017' '9146' '300' '318' '5' '0' '68']\n",
      " ['18-10-2017' '9752' '300' '344' '5' '0' '68']\n",
      " ['19-10-2017' '6974' '200' '204' '6' '0' '68']\n",
      " ['20-10-2017' '5619' '200' '180' '6' '0' '68']\n",
      " ['21-10-2017' '6889' '200' '201' '6' '0' '68']\n",
      " ['22-10-2017' '8616' '300' '329' '5' '0' '68']\n",
      " ['23-10-2017' '9131' '300' '315' '5' '0' '68']\n",
      " ['24-10-2017' '4211' '100' '197' '8' '0' '68']\n",
      " ['25-10-2017' '4291' '100' '184' '8' '0' '68']\n",
      " ['26-10-2017' '8569' '300' '328' '5' '0' '68']\n",
      " ['27-10-2017' '9337' '300' '322' '5' '0' '68']\n",
      " ['28-10-2017' '8475' '300' '327' '5' '0' '68']\n",
      " ['29-10-2017' '4510' '100' '148' '8' '0' '68']\n",
      " ['30-10-2017' '6347' '200' '235' '6' '0' '68']\n",
      " ['31-10-2017' '5911' '200' '184' '6' '0' '68']]\n"
     ]
    }
   ],
   "source": [
    "print(data)"
   ]
  },
  {
   "cell_type": "code",
   "execution_count": 7,
   "id": "52b217e9",
   "metadata": {},
   "outputs": [
    {
     "data": {
      "text/plain": [
       "array([['06-10-2017', '07-10-2017', '08-10-2017', '09-10-2017',\n",
       "        '10-10-2017', '11-10-2017', '12-10-2017', '13-10-2017',\n",
       "        '14-10-2017', '15-10-2017', '16-10-2017', '17-10-2017',\n",
       "        '18-10-2017', '19-10-2017', '20-10-2017', '21-10-2017',\n",
       "        '22-10-2017', '23-10-2017', '24-10-2017', '25-10-2017',\n",
       "        '26-10-2017', '27-10-2017', '28-10-2017', '29-10-2017',\n",
       "        '30-10-2017', '31-10-2017'],\n",
       "       ['5464', '7167', '9874', '4969', '8538', '9875', '4662', '6310',\n",
       "        '7556', '9073', '9690', '9146', '9752', '6974', '5619', '6889',\n",
       "        '8616', '9131', '4211', '4291', '8569', '9337', '8475', '4510',\n",
       "        '6347', '5911'],\n",
       "       ['200', '200', '300', '100', '300', '300', '100', '200', '200',\n",
       "        '300', '300', '300', '300', '200', '200', '200', '300', '300',\n",
       "        '100', '100', '300', '300', '300', '100', '200', '200'],\n",
       "       ['181', '208', '341', '190', '307', '302', '198', '201', '195',\n",
       "        '327', '331', '318', '344', '204', '180', '201', '329', '315',\n",
       "        '197', '184', '328', '322', '327', '148', '235', '184'],\n",
       "       ['6', '6', '5', '8', '5', '5', '8', '6', '6', '5', '5', '5', '5',\n",
       "        '6', '6', '6', '5', '5', '8', '8', '5', '5', '5', '8', '6', '6'],\n",
       "       ['0', '0', '0', '0', '0', '0', '0', '0', '0', '0', '0', '0', '0',\n",
       "        '0', '0', '0', '0', '0', '0', '0', '0', '0', '0', '0', '0', '0'],\n",
       "       ['68', '68', '68', '68', '68', '68', '68', '68', '68', '68', '68',\n",
       "        '68', '68', '68', '68', '68', '68', '68', '68', '68', '68', '68',\n",
       "        '68', '68', '68', '68']], dtype='<U10')"
      ]
     },
     "execution_count": 7,
     "metadata": {},
     "output_type": "execute_result"
    }
   ],
   "source": [
    "# Transposing the data\n",
    "data.T"
   ]
  },
  {
   "cell_type": "code",
   "execution_count": 8,
   "id": "0bbf8954",
   "metadata": {},
   "outputs": [
    {
     "data": {
      "text/plain": [
       "array(['06-10-2017', '07-10-2017', '08-10-2017', '09-10-2017',\n",
       "       '10-10-2017', '11-10-2017', '12-10-2017', '13-10-2017',\n",
       "       '14-10-2017', '15-10-2017', '16-10-2017', '17-10-2017',\n",
       "       '18-10-2017', '19-10-2017', '20-10-2017', '21-10-2017',\n",
       "       '22-10-2017', '23-10-2017', '24-10-2017', '25-10-2017',\n",
       "       '26-10-2017', '27-10-2017', '28-10-2017', '29-10-2017',\n",
       "       '30-10-2017', '31-10-2017'], dtype='<U10')"
      ]
     },
     "execution_count": 8,
     "metadata": {},
     "output_type": "execute_result"
    }
   ],
   "source": [
    "data.T[0]"
   ]
  },
  {
   "cell_type": "code",
   "execution_count": 10,
   "id": "47b49f2c",
   "metadata": {},
   "outputs": [
    {
     "data": {
      "text/plain": [
       "array(['5464', '7167', '9874', '4969', '8538', '9875', '4662', '6310',\n",
       "       '7556', '9073', '9690', '9146', '9752', '6974', '5619', '6889',\n",
       "       '8616', '9131', '4211', '4291', '8569', '9337', '8475', '4510',\n",
       "       '6347', '5911'], dtype='<U10')"
      ]
     },
     "execution_count": 10,
     "metadata": {},
     "output_type": "execute_result"
    }
   ],
   "source": [
    "data.T[1]"
   ]
  },
  {
   "cell_type": "code",
   "execution_count": 12,
   "id": "59401d7c",
   "metadata": {},
   "outputs": [],
   "source": []
  },
  {
   "cell_type": "code",
   "execution_count": 13,
   "id": "2d9d722a",
   "metadata": {},
   "outputs": [],
   "source": [
    "# packing and unpacking the data\n",
    "date, step_count,mood,calories_burned,hours_of_sleep,bool_of_active,weight_kg = data.T"
   ]
  },
  {
   "cell_type": "code",
   "execution_count": 14,
   "id": "1bf5a85f",
   "metadata": {},
   "outputs": [
    {
     "data": {
      "text/plain": [
       "array(['5464', '7167', '9874', '4969', '8538', '9875', '4662', '6310',\n",
       "       '7556', '9073', '9690', '9146', '9752', '6974', '5619', '6889',\n",
       "       '8616', '9131', '4211', '4291', '8569', '9337', '8475', '4510',\n",
       "       '6347', '5911'], dtype='<U10')"
      ]
     },
     "execution_count": 14,
     "metadata": {},
     "output_type": "execute_result"
    }
   ],
   "source": [
    "step_count"
   ]
  },
  {
   "cell_type": "code",
   "execution_count": 15,
   "id": "4a0a7329",
   "metadata": {},
   "outputs": [
    {
     "data": {
      "text/plain": [
       "array(['6', '6', '5', '8', '5', '5', '8', '6', '6', '5', '5', '5', '5',\n",
       "       '6', '6', '6', '5', '5', '8', '8', '5', '5', '5', '8', '6', '6'],\n",
       "      dtype='<U10')"
      ]
     },
     "execution_count": 15,
     "metadata": {},
     "output_type": "execute_result"
    }
   ],
   "source": [
    "hours_of_sleep"
   ]
  },
  {
   "cell_type": "code",
   "execution_count": 16,
   "id": "5c65dff8",
   "metadata": {},
   "outputs": [
    {
     "data": {
      "text/plain": [
       "array(['68', '68', '68', '68', '68', '68', '68', '68', '68', '68', '68',\n",
       "       '68', '68', '68', '68', '68', '68', '68', '68', '68', '68', '68',\n",
       "       '68', '68', '68', '68'], dtype='<U10')"
      ]
     },
     "execution_count": 16,
     "metadata": {},
     "output_type": "execute_result"
    }
   ],
   "source": [
    "weight_kg"
   ]
  },
  {
   "cell_type": "code",
   "execution_count": 17,
   "id": "de8e6171",
   "metadata": {},
   "outputs": [],
   "source": [
    "# converting various features into int dtype"
   ]
  },
  {
   "cell_type": "code",
   "execution_count": 26,
   "id": "88a7821f",
   "metadata": {},
   "outputs": [],
   "source": [
    "#mood = np.array(mood,dtype='int')"
   ]
  },
  {
   "cell_type": "code",
   "execution_count": 28,
   "id": "ce260f62",
   "metadata": {},
   "outputs": [],
   "source": [
    "#mood"
   ]
  },
  {
   "cell_type": "code",
   "execution_count": 46,
   "id": "9979cd66",
   "metadata": {},
   "outputs": [
    {
     "name": "stdout",
     "output_type": "stream",
     "text": [
      "[181 208 341 190 307 302 198 201 195 327 331 318 344 204 180 201 329 315\n",
      " 197 184 328 322 327 148 235 184]\n",
      "[6 6 5 8 5 5 8 6 6 5 5 5 5 6 6 6 5 5 8 8 5 5 5 8 6 6]\n",
      "[5464 7167 9874 4969 8538 9875 4662 6310 7556 9073 9690 9146 9752 6974\n",
      " 5619 6889 8616 9131 4211 4291 8569 9337 8475 4510 6347 5911]\n"
     ]
    }
   ],
   "source": [
    "calories_burned = np.array(calories_burned,dtype='int')\n",
    "hours_of_sleep = np.array(hours_of_sleep,dtype='int')\n",
    "step_count = np.array(step_count,dtype='int')\n",
    "\n",
    "print(calories_burned)\n",
    "print(hours_of_sleep)\n",
    "print(step_count)"
   ]
  },
  {
   "cell_type": "code",
   "execution_count": null,
   "id": "3fb51098",
   "metadata": {},
   "outputs": [],
   "source": []
  },
  {
   "cell_type": "code",
   "execution_count": null,
   "id": "f031790b",
   "metadata": {},
   "outputs": [],
   "source": [
    "# taking a closer look inside the mood column"
   ]
  },
  {
   "cell_type": "code",
   "execution_count": 21,
   "id": "3e28b127",
   "metadata": {},
   "outputs": [
    {
     "data": {
      "text/plain": [
       "1"
      ]
     },
     "execution_count": 21,
     "metadata": {},
     "output_type": "execute_result"
    }
   ],
   "source": [
    "mood.ndim"
   ]
  },
  {
   "cell_type": "code",
   "execution_count": 22,
   "id": "a05cad21",
   "metadata": {},
   "outputs": [
    {
     "data": {
      "text/plain": [
       "array([100, 200, 300])"
      ]
     },
     "execution_count": 22,
     "metadata": {},
     "output_type": "execute_result"
    }
   ],
   "source": [
    "# To get the Number of Unique Values?\n",
    "\n",
    "np.unique(mood)"
   ]
  },
  {
   "cell_type": "code",
   "execution_count": 23,
   "id": "88ae724a",
   "metadata": {},
   "outputs": [
    {
     "data": {
      "text/plain": [
       "'\\n100 Sad\\n200 Neutral\\n300 happy\\n'"
      ]
     },
     "execution_count": 23,
     "metadata": {},
     "output_type": "execute_result"
    }
   ],
   "source": [
    "'''\n",
    "100 -> Sad\n",
    "200 -> Neutral\n",
    "300 -> happy\n",
    "'''"
   ]
  },
  {
   "cell_type": "code",
   "execution_count": 24,
   "id": "a080ad87",
   "metadata": {},
   "outputs": [],
   "source": [
    "# converting the numerical form to string format"
   ]
  },
  {
   "cell_type": "code",
   "execution_count": 32,
   "id": "cc7f9860",
   "metadata": {},
   "outputs": [],
   "source": [
    "mood = np.array(mood,dtype='str')"
   ]
  },
  {
   "cell_type": "code",
   "execution_count": 33,
   "id": "141f877e",
   "metadata": {},
   "outputs": [
    {
     "data": {
      "text/plain": [
       "array(['200', '200', '300', '100', '300', '300', '100', '200', '200',\n",
       "       '300', '300', '300', '300', '200', '200', '200', '300', '300',\n",
       "       '100', '100', '300', '300', '300', '100', '200', '200'],\n",
       "      dtype='<U11')"
      ]
     },
     "execution_count": 33,
     "metadata": {},
     "output_type": "execute_result"
    }
   ],
   "source": [
    "mood"
   ]
  },
  {
   "cell_type": "code",
   "execution_count": 34,
   "id": "ce1da411",
   "metadata": {},
   "outputs": [
    {
     "data": {
      "text/plain": [
       "array([False, False, False,  True, False, False,  True, False, False,\n",
       "       False, False, False, False, False, False, False, False, False,\n",
       "        True,  True, False, False, False,  True, False, False])"
      ]
     },
     "execution_count": 34,
     "metadata": {},
     "output_type": "execute_result"
    }
   ],
   "source": [
    "mood == '100'#using this as mask"
   ]
  },
  {
   "cell_type": "code",
   "execution_count": 37,
   "id": "5f40f050",
   "metadata": {},
   "outputs": [],
   "source": [
    "mood[mood =='100'] ='Sad'"
   ]
  },
  {
   "cell_type": "code",
   "execution_count": 38,
   "id": "3a885601",
   "metadata": {},
   "outputs": [
    {
     "data": {
      "text/plain": [
       "array(['200', '200', '300', 'Sad', '300', '300', 'Sad', '200', '200',\n",
       "       '300', '300', '300', '300', '200', '200', '200', '300', '300',\n",
       "       'Sad', 'Sad', '300', '300', '300', 'Sad', '200', '200'],\n",
       "      dtype='<U11')"
      ]
     },
     "execution_count": 38,
     "metadata": {},
     "output_type": "execute_result"
    }
   ],
   "source": [
    "mood"
   ]
  },
  {
   "cell_type": "code",
   "execution_count": 39,
   "id": "0e0da490",
   "metadata": {},
   "outputs": [],
   "source": [
    "mood[mood =='200'] ='Neutral'"
   ]
  },
  {
   "cell_type": "code",
   "execution_count": 40,
   "id": "805c4fe5",
   "metadata": {},
   "outputs": [
    {
     "data": {
      "text/plain": [
       "array(['Neutral', 'Neutral', '300', 'Sad', '300', '300', 'Sad', 'Neutral',\n",
       "       'Neutral', '300', '300', '300', '300', 'Neutral', 'Neutral',\n",
       "       'Neutral', '300', '300', 'Sad', 'Sad', '300', '300', '300', 'Sad',\n",
       "       'Neutral', 'Neutral'], dtype='<U11')"
      ]
     },
     "execution_count": 40,
     "metadata": {},
     "output_type": "execute_result"
    }
   ],
   "source": [
    "mood"
   ]
  },
  {
   "cell_type": "code",
   "execution_count": 41,
   "id": "726690ab",
   "metadata": {},
   "outputs": [],
   "source": [
    "mood[mood =='300'] ='Happy'"
   ]
  },
  {
   "cell_type": "code",
   "execution_count": 42,
   "id": "abd752b1",
   "metadata": {},
   "outputs": [
    {
     "data": {
      "text/plain": [
       "array(['Neutral', 'Neutral', 'Happy', 'Sad', 'Happy', 'Happy', 'Sad',\n",
       "       'Neutral', 'Neutral', 'Happy', 'Happy', 'Happy', 'Happy',\n",
       "       'Neutral', 'Neutral', 'Neutral', 'Happy', 'Happy', 'Sad', 'Sad',\n",
       "       'Happy', 'Happy', 'Happy', 'Sad', 'Neutral', 'Neutral'],\n",
       "      dtype='<U11')"
      ]
     },
     "execution_count": 42,
     "metadata": {},
     "output_type": "execute_result"
    }
   ],
   "source": [
    "mood"
   ]
  },
  {
   "cell_type": "code",
   "execution_count": 43,
   "id": "828239e0",
   "metadata": {},
   "outputs": [
    {
     "data": {
      "text/plain": [
       "array(['Happy', 'Neutral', 'Sad'], dtype='<U11')"
      ]
     },
     "execution_count": 43,
     "metadata": {},
     "output_type": "execute_result"
    }
   ],
   "source": [
    "np.unique(mood)"
   ]
  },
  {
   "cell_type": "code",
   "execution_count": null,
   "id": "f55f29ba",
   "metadata": {},
   "outputs": [],
   "source": []
  },
  {
   "cell_type": "code",
   "execution_count": 44,
   "id": "73d79109",
   "metadata": {},
   "outputs": [],
   "source": [
    "############# working on step count   ####################"
   ]
  },
  {
   "cell_type": "code",
   "execution_count": 47,
   "id": "01c7f1b8",
   "metadata": {},
   "outputs": [
    {
     "data": {
      "text/plain": [
       "array([5464, 7167, 9874, 4969, 8538, 9875, 4662, 6310, 7556, 9073, 9690,\n",
       "       9146, 9752, 6974, 5619, 6889, 8616, 9131, 4211, 4291, 8569, 9337,\n",
       "       8475, 4510, 6347, 5911])"
      ]
     },
     "execution_count": 47,
     "metadata": {},
     "output_type": "execute_result"
    }
   ],
   "source": [
    "step_count"
   ]
  },
  {
   "cell_type": "code",
   "execution_count": 48,
   "id": "23ac915c",
   "metadata": {},
   "outputs": [
    {
     "data": {
      "text/plain": [
       "9875"
      ]
     },
     "execution_count": 48,
     "metadata": {},
     "output_type": "execute_result"
    }
   ],
   "source": [
    "np.max(step_count)"
   ]
  },
  {
   "cell_type": "code",
   "execution_count": 49,
   "id": "6aafe6ed",
   "metadata": {},
   "outputs": [
    {
     "data": {
      "text/plain": [
       "4211"
      ]
     },
     "execution_count": 49,
     "metadata": {},
     "output_type": "execute_result"
    }
   ],
   "source": [
    "np.min(step_count)"
   ]
  },
  {
   "cell_type": "code",
   "execution_count": 50,
   "id": "31eaa274",
   "metadata": {},
   "outputs": [
    {
     "data": {
      "text/plain": [
       "7344.461538461538"
      ]
     },
     "execution_count": 50,
     "metadata": {},
     "output_type": "execute_result"
    }
   ],
   "source": [
    "np.mean(step_count)"
   ]
  },
  {
   "cell_type": "code",
   "execution_count": 51,
   "id": "98e44529",
   "metadata": {},
   "outputs": [
    {
     "data": {
      "text/plain": [
       "5"
      ]
     },
     "execution_count": 51,
     "metadata": {},
     "output_type": "execute_result"
    }
   ],
   "source": [
    "np.argmax(step_count) # the index position of the max val"
   ]
  },
  {
   "cell_type": "code",
   "execution_count": null,
   "id": "a623d252",
   "metadata": {},
   "outputs": [],
   "source": [
    "# calling the data from dates corrousponding to same index position"
   ]
  },
  {
   "cell_type": "code",
   "execution_count": 52,
   "id": "187b706b",
   "metadata": {},
   "outputs": [
    {
     "data": {
      "text/plain": [
       "'11-10-2017'"
      ]
     },
     "execution_count": 52,
     "metadata": {},
     "output_type": "execute_result"
    }
   ],
   "source": [
    "date[5]"
   ]
  },
  {
   "cell_type": "code",
   "execution_count": 54,
   "id": "6707e19a",
   "metadata": {},
   "outputs": [
    {
     "data": {
      "text/plain": [
       "'11-10-2017'"
      ]
     },
     "execution_count": 54,
     "metadata": {},
     "output_type": "execute_result"
    }
   ],
   "source": [
    "date[np.argmax(step_count)]"
   ]
  },
  {
   "cell_type": "code",
   "execution_count": 58,
   "id": "a219c0db",
   "metadata": {},
   "outputs": [
    {
     "data": {
      "text/plain": [
       "'24-10-2017'"
      ]
     },
     "execution_count": 58,
     "metadata": {},
     "output_type": "execute_result"
    }
   ],
   "source": [
    "date[np.argmin(step_count)]"
   ]
  },
  {
   "cell_type": "code",
   "execution_count": 59,
   "id": "c0d64444",
   "metadata": {},
   "outputs": [
    {
     "ename": "IndexError",
     "evalue": "index 9875 is out of bounds for axis 0 with size 26",
     "output_type": "error",
     "traceback": [
      "\u001b[1;31m---------------------------------------------------------------------------\u001b[0m",
      "\u001b[1;31mIndexError\u001b[0m                                Traceback (most recent call last)",
      "Cell \u001b[1;32mIn[59], line 1\u001b[0m\n\u001b[1;32m----> 1\u001b[0m date[np\u001b[38;5;241m.\u001b[39mmax(step_count)]\n",
      "\u001b[1;31mIndexError\u001b[0m: index 9875 is out of bounds for axis 0 with size 26"
     ]
    }
   ],
   "source": [
    "date[np.max(step_count)]"
   ]
  },
  {
   "cell_type": "code",
   "execution_count": 60,
   "id": "cf305d6d",
   "metadata": {},
   "outputs": [
    {
     "ename": "IndexError",
     "evalue": "index 4211 is out of bounds for axis 0 with size 26",
     "output_type": "error",
     "traceback": [
      "\u001b[1;31m---------------------------------------------------------------------------\u001b[0m",
      "\u001b[1;31mIndexError\u001b[0m                                Traceback (most recent call last)",
      "Cell \u001b[1;32mIn[60], line 1\u001b[0m\n\u001b[1;32m----> 1\u001b[0m date[np\u001b[38;5;241m.\u001b[39mmin(step_count)]\n",
      "\u001b[1;31mIndexError\u001b[0m: index 4211 is out of bounds for axis 0 with size 26"
     ]
    }
   ],
   "source": [
    "date[np.min(step_count)]"
   ]
  },
  {
   "cell_type": "code",
   "execution_count": 61,
   "id": "d3aa6b53",
   "metadata": {},
   "outputs": [],
   "source": [
    "################## Frequency of Mood ####################"
   ]
  },
  {
   "cell_type": "code",
   "execution_count": 62,
   "id": "9d34bf9e",
   "metadata": {},
   "outputs": [
    {
     "data": {
      "text/plain": [
       "array(['Neutral', 'Neutral', 'Happy', 'Sad', 'Happy', 'Happy', 'Sad',\n",
       "       'Neutral', 'Neutral', 'Happy', 'Happy', 'Happy', 'Happy',\n",
       "       'Neutral', 'Neutral', 'Neutral', 'Happy', 'Happy', 'Sad', 'Sad',\n",
       "       'Happy', 'Happy', 'Happy', 'Sad', 'Neutral', 'Neutral'],\n",
       "      dtype='<U11')"
      ]
     },
     "execution_count": 62,
     "metadata": {},
     "output_type": "execute_result"
    }
   ],
   "source": [
    "mood"
   ]
  },
  {
   "cell_type": "code",
   "execution_count": 64,
   "id": "bd72e21e",
   "metadata": {},
   "outputs": [
    {
     "ename": "SyntaxError",
     "evalue": "expression cannot contain assignment, perhaps you meant \"==\"? (1297393008.py, line 3)",
     "output_type": "error",
     "traceback": [
      "\u001b[1;36m  Cell \u001b[1;32mIn[64], line 3\u001b[1;36m\u001b[0m\n\u001b[1;33m    len(mood[mood == '100']= 'Sad')\u001b[0m\n\u001b[1;37m        ^\u001b[0m\n\u001b[1;31mSyntaxError\u001b[0m\u001b[1;31m:\u001b[0m expression cannot contain assignment, perhaps you meant \"==\"?\n"
     ]
    }
   ],
   "source": [
    "# checking the 'count' of each mood type\n",
    "\n",
    "len(mood[mood == '100']= 'Sad')"
   ]
  },
  {
   "cell_type": "code",
   "execution_count": 65,
   "id": "10bf12ff",
   "metadata": {},
   "outputs": [
    {
     "data": {
      "text/plain": [
       "5"
      ]
     },
     "execution_count": 65,
     "metadata": {},
     "output_type": "execute_result"
    }
   ],
   "source": [
    "len(mood[mood == 'Sad'])# 5"
   ]
  },
  {
   "cell_type": "code",
   "execution_count": 66,
   "id": "7855b8d8",
   "metadata": {},
   "outputs": [
    {
     "data": {
      "text/plain": [
       "9"
      ]
     },
     "execution_count": 66,
     "metadata": {},
     "output_type": "execute_result"
    }
   ],
   "source": [
    "len(mood[mood == 'Neutral'])#9"
   ]
  },
  {
   "cell_type": "code",
   "execution_count": 67,
   "id": "42dc8749",
   "metadata": {},
   "outputs": [
    {
     "data": {
      "text/plain": [
       "12"
      ]
     },
     "execution_count": 67,
     "metadata": {},
     "output_type": "execute_result"
    }
   ],
   "source": [
    "len(mood[mood == 'Happy'])#12"
   ]
  },
  {
   "cell_type": "code",
   "execution_count": 70,
   "id": "42327e94",
   "metadata": {},
   "outputs": [
    {
     "data": {
      "text/plain": [
       "(array(['Happy', 'Neutral', 'Sad'], dtype='<U11'),\n",
       " array([12,  9,  5], dtype=int64))"
      ]
     },
     "execution_count": 70,
     "metadata": {},
     "output_type": "execute_result"
    }
   ],
   "source": [
    "np.unique(mood,return_counts=True) #return_counts=True is the second parameter of the unique method."
   ]
  },
  {
   "cell_type": "code",
   "execution_count": 71,
   "id": "19ef8923",
   "metadata": {},
   "outputs": [
    {
     "data": {
      "text/plain": [
       "array([4969, 4662, 4211, 4291, 4510])"
      ]
     },
     "execution_count": 71,
     "metadata": {},
     "output_type": "execute_result"
    }
   ],
   "source": [
    "step_count[mood == 'Sad']"
   ]
  },
  {
   "cell_type": "code",
   "execution_count": 72,
   "id": "f22fa4e8",
   "metadata": {},
   "outputs": [
    {
     "data": {
      "text/plain": [
       "array([5464, 7167, 6310, 7556, 6974, 5619, 6889, 6347, 5911])"
      ]
     },
     "execution_count": 72,
     "metadata": {},
     "output_type": "execute_result"
    }
   ],
   "source": [
    "step_count[mood == 'Neutral']"
   ]
  },
  {
   "cell_type": "code",
   "execution_count": 73,
   "id": "4ee6d3bc",
   "metadata": {},
   "outputs": [
    {
     "data": {
      "text/plain": [
       "array([9874, 8538, 9875, 9073, 9690, 9146, 9752, 8616, 9131, 8569, 9337,\n",
       "       8475])"
      ]
     },
     "execution_count": 73,
     "metadata": {},
     "output_type": "execute_result"
    }
   ],
   "source": [
    "step_count[mood == 'Happy']"
   ]
  },
  {
   "cell_type": "code",
   "execution_count": 74,
   "id": "8ca8919d",
   "metadata": {},
   "outputs": [
    {
     "data": {
      "text/plain": [
       "4528.6"
      ]
     },
     "execution_count": 74,
     "metadata": {},
     "output_type": "execute_result"
    }
   ],
   "source": [
    "# Calculate Mean count when mood is 'Sad'\n",
    "\n",
    "np.mean(step_count[mood == 'Sad'])"
   ]
  },
  {
   "cell_type": "code",
   "execution_count": 75,
   "id": "b8c9e1c3",
   "metadata": {},
   "outputs": [
    {
     "data": {
      "text/plain": [
       "6470.777777777777"
      ]
     },
     "execution_count": 75,
     "metadata": {},
     "output_type": "execute_result"
    }
   ],
   "source": [
    "# Calculate Mean count when mood is 'Neutral'\n",
    "\n",
    "np.mean(step_count[mood == 'Neutral'])"
   ]
  },
  {
   "cell_type": "code",
   "execution_count": 76,
   "id": "140eeba5",
   "metadata": {},
   "outputs": [
    {
     "data": {
      "text/plain": [
       "9173.0"
      ]
     },
     "execution_count": 76,
     "metadata": {},
     "output_type": "execute_result"
    }
   ],
   "source": [
    "# Calculate Mean count when mood is 'Happy'\n",
    "\n",
    "np.mean(step_count[mood == 'Happy'])"
   ]
  },
  {
   "cell_type": "code",
   "execution_count": 77,
   "id": "923e8579",
   "metadata": {},
   "outputs": [
    {
     "data": {
      "text/plain": [
       "4528.6"
      ]
     },
     "execution_count": 77,
     "metadata": {},
     "output_type": "execute_result"
    }
   ],
   "source": [
    "# Calculate Mean count when mood is 'Sad'\n",
    "\n",
    "np.average(step_count[mood == 'Sad'])"
   ]
  },
  {
   "cell_type": "code",
   "execution_count": 78,
   "id": "ef342dc7",
   "metadata": {},
   "outputs": [
    {
     "data": {
      "text/plain": [
       "6470.777777777777"
      ]
     },
     "execution_count": 78,
     "metadata": {},
     "output_type": "execute_result"
    }
   ],
   "source": [
    "# Calculate Mean count when mood is 'Neutral'\n",
    "\n",
    "np.average(step_count[mood == 'Neutral']) # avrege and mean is the same method."
   ]
  },
  {
   "cell_type": "code",
   "execution_count": null,
   "id": "e5295e23",
   "metadata": {},
   "outputs": [],
   "source": []
  }
 ],
 "metadata": {
  "kernelspec": {
   "display_name": "Python 3 (ipykernel)",
   "language": "python",
   "name": "python3"
  },
  "language_info": {
   "codemirror_mode": {
    "name": "ipython",
    "version": 3
   },
   "file_extension": ".py",
   "mimetype": "text/x-python",
   "name": "python",
   "nbconvert_exporter": "python",
   "pygments_lexer": "ipython3",
   "version": "3.11.3"
  }
 },
 "nbformat": 4,
 "nbformat_minor": 5
}
